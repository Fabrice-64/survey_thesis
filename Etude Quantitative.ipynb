{
 "cells": [
  {
   "cell_type": "markdown",
   "id": "26f862ff-219c-439a-8a2f-defab4ff4bfc",
   "metadata": {},
   "source": [
    "# Importation des bibliothèques"
   ]
  },
  {
   "cell_type": "code",
   "execution_count": 4,
   "id": "8373afa5-fa65-4844-aeeb-2b8215a8fd8d",
   "metadata": {},
   "outputs": [
    {
     "name": "stdout",
     "output_type": "stream",
     "text": [
      "Requirement already satisfied: matplotlib in ./venv/lib/python3.10/site-packages (3.10.1)\n",
      "Requirement already satisfied: pillow>=8 in ./venv/lib/python3.10/site-packages (from matplotlib) (11.2.1)\n",
      "Requirement already satisfied: python-dateutil>=2.7 in ./venv/lib/python3.10/site-packages (from matplotlib) (2.9.0.post0)\n",
      "Requirement already satisfied: numpy>=1.23 in ./venv/lib/python3.10/site-packages (from matplotlib) (2.2.3)\n",
      "Requirement already satisfied: packaging>=20.0 in ./venv/lib/python3.10/site-packages (from matplotlib) (24.2)\n",
      "Requirement already satisfied: pyparsing>=2.3.1 in ./venv/lib/python3.10/site-packages (from matplotlib) (3.2.3)\n",
      "Requirement already satisfied: cycler>=0.10 in ./venv/lib/python3.10/site-packages (from matplotlib) (0.12.1)\n",
      "Requirement already satisfied: kiwisolver>=1.3.1 in ./venv/lib/python3.10/site-packages (from matplotlib) (1.4.8)\n",
      "Requirement already satisfied: fonttools>=4.22.0 in ./venv/lib/python3.10/site-packages (from matplotlib) (4.57.0)\n",
      "Requirement already satisfied: contourpy>=1.0.1 in ./venv/lib/python3.10/site-packages (from matplotlib) (1.3.2)\n",
      "Requirement already satisfied: six>=1.5 in ./venv/lib/python3.10/site-packages (from python-dateutil>=2.7->matplotlib) (1.17.0)\n",
      "\n",
      "\u001b[1m[\u001b[0m\u001b[34;49mnotice\u001b[0m\u001b[1;39;49m]\u001b[0m\u001b[39;49m A new release of pip available: \u001b[0m\u001b[31;49m22.3.1\u001b[0m\u001b[39;49m -> \u001b[0m\u001b[32;49m25.1.1\u001b[0m\n",
      "\u001b[1m[\u001b[0m\u001b[34;49mnotice\u001b[0m\u001b[1;39;49m]\u001b[0m\u001b[39;49m To update, run: \u001b[0m\u001b[32;49mpip install --upgrade pip\u001b[0m\n",
      "Note: you may need to restart the kernel to use updated packages.\n",
      "Collecting seaborn\n",
      "  Downloading seaborn-0.13.2-py3-none-any.whl (294 kB)\n",
      "\u001b[2K     \u001b[90m━━━━━━━━━━━━━━━━━━━━━━━━━━━━━━━━━━━━━━━\u001b[0m \u001b[32m294.9/294.9 kB\u001b[0m \u001b[31m8.1 MB/s\u001b[0m eta \u001b[36m0:00:00\u001b[0m\n",
      "\u001b[?25hRequirement already satisfied: numpy!=1.24.0,>=1.20 in ./venv/lib/python3.10/site-packages (from seaborn) (2.2.3)\n",
      "Requirement already satisfied: matplotlib!=3.6.1,>=3.4 in ./venv/lib/python3.10/site-packages (from seaborn) (3.10.1)\n",
      "Requirement already satisfied: pandas>=1.2 in ./venv/lib/python3.10/site-packages (from seaborn) (2.2.3)\n",
      "Requirement already satisfied: kiwisolver>=1.3.1 in ./venv/lib/python3.10/site-packages (from matplotlib!=3.6.1,>=3.4->seaborn) (1.4.8)\n",
      "Requirement already satisfied: fonttools>=4.22.0 in ./venv/lib/python3.10/site-packages (from matplotlib!=3.6.1,>=3.4->seaborn) (4.57.0)\n",
      "Requirement already satisfied: python-dateutil>=2.7 in ./venv/lib/python3.10/site-packages (from matplotlib!=3.6.1,>=3.4->seaborn) (2.9.0.post0)\n",
      "Requirement already satisfied: packaging>=20.0 in ./venv/lib/python3.10/site-packages (from matplotlib!=3.6.1,>=3.4->seaborn) (24.2)\n",
      "Requirement already satisfied: contourpy>=1.0.1 in ./venv/lib/python3.10/site-packages (from matplotlib!=3.6.1,>=3.4->seaborn) (1.3.2)\n",
      "Requirement already satisfied: cycler>=0.10 in ./venv/lib/python3.10/site-packages (from matplotlib!=3.6.1,>=3.4->seaborn) (0.12.1)\n",
      "Requirement already satisfied: pillow>=8 in ./venv/lib/python3.10/site-packages (from matplotlib!=3.6.1,>=3.4->seaborn) (11.2.1)\n",
      "Requirement already satisfied: pyparsing>=2.3.1 in ./venv/lib/python3.10/site-packages (from matplotlib!=3.6.1,>=3.4->seaborn) (3.2.3)\n",
      "Requirement already satisfied: pytz>=2020.1 in ./venv/lib/python3.10/site-packages (from pandas>=1.2->seaborn) (2025.1)\n",
      "Requirement already satisfied: tzdata>=2022.7 in ./venv/lib/python3.10/site-packages (from pandas>=1.2->seaborn) (2025.1)\n",
      "Requirement already satisfied: six>=1.5 in ./venv/lib/python3.10/site-packages (from python-dateutil>=2.7->matplotlib!=3.6.1,>=3.4->seaborn) (1.17.0)\n",
      "Installing collected packages: seaborn\n",
      "Successfully installed seaborn-0.13.2\n",
      "\n",
      "\u001b[1m[\u001b[0m\u001b[34;49mnotice\u001b[0m\u001b[1;39;49m]\u001b[0m\u001b[39;49m A new release of pip available: \u001b[0m\u001b[31;49m22.3.1\u001b[0m\u001b[39;49m -> \u001b[0m\u001b[32;49m25.1.1\u001b[0m\n",
      "\u001b[1m[\u001b[0m\u001b[34;49mnotice\u001b[0m\u001b[1;39;49m]\u001b[0m\u001b[39;49m To update, run: \u001b[0m\u001b[32;49mpip install --upgrade pip\u001b[0m\n",
      "Note: you may need to restart the kernel to use updated packages.\n",
      "Collecting plot_likert\n",
      "  Downloading plot_likert-0.5.0-py3-none-any.whl (11 kB)\n",
      "Requirement already satisfied: matplotlib>=3.4.0 in ./venv/lib/python3.10/site-packages (from plot_likert) (3.10.1)\n",
      "Requirement already satisfied: numpy in ./venv/lib/python3.10/site-packages (from plot_likert) (2.2.3)\n",
      "Requirement already satisfied: pandas in ./venv/lib/python3.10/site-packages (from plot_likert) (2.2.3)\n",
      "Requirement already satisfied: kiwisolver>=1.3.1 in ./venv/lib/python3.10/site-packages (from matplotlib>=3.4.0->plot_likert) (1.4.8)\n",
      "Requirement already satisfied: pillow>=8 in ./venv/lib/python3.10/site-packages (from matplotlib>=3.4.0->plot_likert) (11.2.1)\n",
      "Requirement already satisfied: python-dateutil>=2.7 in ./venv/lib/python3.10/site-packages (from matplotlib>=3.4.0->plot_likert) (2.9.0.post0)\n",
      "Requirement already satisfied: pyparsing>=2.3.1 in ./venv/lib/python3.10/site-packages (from matplotlib>=3.4.0->plot_likert) (3.2.3)\n",
      "Requirement already satisfied: cycler>=0.10 in ./venv/lib/python3.10/site-packages (from matplotlib>=3.4.0->plot_likert) (0.12.1)\n",
      "Requirement already satisfied: fonttools>=4.22.0 in ./venv/lib/python3.10/site-packages (from matplotlib>=3.4.0->plot_likert) (4.57.0)\n",
      "Requirement already satisfied: packaging>=20.0 in ./venv/lib/python3.10/site-packages (from matplotlib>=3.4.0->plot_likert) (24.2)\n",
      "Requirement already satisfied: contourpy>=1.0.1 in ./venv/lib/python3.10/site-packages (from matplotlib>=3.4.0->plot_likert) (1.3.2)\n",
      "Requirement already satisfied: tzdata>=2022.7 in ./venv/lib/python3.10/site-packages (from pandas->plot_likert) (2025.1)\n",
      "Requirement already satisfied: pytz>=2020.1 in ./venv/lib/python3.10/site-packages (from pandas->plot_likert) (2025.1)\n",
      "Requirement already satisfied: six>=1.5 in ./venv/lib/python3.10/site-packages (from python-dateutil>=2.7->matplotlib>=3.4.0->plot_likert) (1.17.0)\n",
      "Installing collected packages: plot_likert\n",
      "Successfully installed plot_likert-0.5.0\n",
      "\n",
      "\u001b[1m[\u001b[0m\u001b[34;49mnotice\u001b[0m\u001b[1;39;49m]\u001b[0m\u001b[39;49m A new release of pip available: \u001b[0m\u001b[31;49m22.3.1\u001b[0m\u001b[39;49m -> \u001b[0m\u001b[32;49m25.1.1\u001b[0m\n",
      "\u001b[1m[\u001b[0m\u001b[34;49mnotice\u001b[0m\u001b[1;39;49m]\u001b[0m\u001b[39;49m To update, run: \u001b[0m\u001b[32;49mpip install --upgrade pip\u001b[0m\n",
      "Note: you may need to restart the kernel to use updated packages.\n"
     ]
    }
   ],
   "source": [
    "%pip install matplotlib\n",
    "%pip install seaborn\n",
    "%pip install plot_likert"
   ]
  },
  {
   "cell_type": "code",
   "execution_count": 5,
   "id": "d30bcffa-073a-421b-858f-66943ed8e68c",
   "metadata": {},
   "outputs": [],
   "source": [
    "import statsmodels.api as sm\n",
    "import pandas as pd\n",
    "import matplotlib.pyplot as plt\n",
    "import seaborn as sns\n",
    "import math\n",
    "import plot_likert"
   ]
  },
  {
   "cell_type": "markdown",
   "id": "8e5d7d7b-df0d-455e-bf19-76fe2e882c12",
   "metadata": {},
   "source": [
    "# Chargement et Nettoyage du questionnaire"
   ]
  },
  {
   "cell_type": "markdown",
   "id": "c0500690-8b8f-4306-b0d6-f6c37676d452",
   "metadata": {},
   "source": [
    "**Nota** : Avant leur import, les résultats du questionnaire ont été nettoyées des quelques données personnelles insérées dans les commentaires."
   ]
  },
  {
   "cell_type": "code",
   "execution_count": 6,
   "id": "7925b725-ce04-4747-abd9-508ce92cf744",
   "metadata": {},
   "outputs": [],
   "source": [
    "df = pd.read_csv(\"V1.1_recrutement_et_IA_sauf noms.csv\", header=[1], sep=\";\")"
   ]
  },
  {
   "cell_type": "markdown",
   "id": "2f6753ce-f506-4518-9c57-7f034d5c787e",
   "metadata": {},
   "source": [
    "## Contrôle visuel du questionnaire"
   ]
  },
  {
   "cell_type": "code",
   "execution_count": 7,
   "id": "838a58c7-7a06-4eb2-88e0-f44a0a3fec13",
   "metadata": {},
   "outputs": [
    {
     "data": {
      "text/html": [
       "<div>\n",
       "<style scoped>\n",
       "    .dataframe tbody tr th:only-of-type {\n",
       "        vertical-align: middle;\n",
       "    }\n",
       "\n",
       "    .dataframe tbody tr th {\n",
       "        vertical-align: top;\n",
       "    }\n",
       "\n",
       "    .dataframe thead th {\n",
       "        text-align: right;\n",
       "    }\n",
       "</style>\n",
       "<table border=\"1\" class=\"dataframe\">\n",
       "  <thead>\n",
       "    <tr style=\"text-align: right;\">\n",
       "      <th></th>\n",
       "      <th>Colonnes</th>\n",
       "      <th>SID</th>\n",
       "      <th>Heure de soumission</th>\n",
       "      <th>Heure de complétion</th>\n",
       "      <th>Heure de modification</th>\n",
       "      <th>Brouillon</th>\n",
       "      <th>Adresse IP</th>\n",
       "      <th>UID</th>\n",
       "      <th>Nom d'utilisateur</th>\n",
       "      <th>Rédiger des CV ou des lettres de motivation</th>\n",
       "      <th>...</th>\n",
       "      <th>Lors de la négociation sur votre rémunération et autres avantages</th>\n",
       "      <th>Lors de la rédaction de votre contrat de travail</th>\n",
       "      <th>Le respect de votre vie privée</th>\n",
       "      <th>L'empreinte carbone de l'IA utilisée</th>\n",
       "      <th>L'absence de toute discrimination</th>\n",
       "      <th>L'équité entre tous les candidats</th>\n",
       "      <th>Le respect de la diversité</th>\n",
       "      <th>Aimeriez-vous savoir si votre recruteur a prévu d'utiliser l'IA dans le processus de recrutement ?</th>\n",
       "      <th>Quelle est votre tranche d'âge?</th>\n",
       "      <th>Donnez votre avis sur une entreprise qui souhaiterait confier ses recrutements à une IA :</th>\n",
       "    </tr>\n",
       "  </thead>\n",
       "  <tbody>\n",
       "    <tr>\n",
       "      <th>0</th>\n",
       "      <td>3</td>\n",
       "      <td>25290150</td>\n",
       "      <td>11/01/2025 - 20:28</td>\n",
       "      <td>11/01/2025 - 20:28</td>\n",
       "      <td>11/01/2025 - 20:28</td>\n",
       "      <td>0</td>\n",
       "      <td>0.0.0.0</td>\n",
       "      <td>0</td>\n",
       "      <td>Anonymous</td>\n",
       "      <td>Plutôt opposé</td>\n",
       "      <td>...</td>\n",
       "      <td>Ni réticent, ni favorable</td>\n",
       "      <td>Favorable</td>\n",
       "      <td>C'est plutôt important</td>\n",
       "      <td>C'est important ou secondaire</td>\n",
       "      <td>C'est très important</td>\n",
       "      <td>C'est très important</td>\n",
       "      <td>C'est important ou secondaire</td>\n",
       "      <td>C'est important</td>\n",
       "      <td>25-34 ans</td>\n",
       "      <td>NaN</td>\n",
       "    </tr>\n",
       "    <tr>\n",
       "      <th>1</th>\n",
       "      <td>4</td>\n",
       "      <td>25290276</td>\n",
       "      <td>11/01/2025 - 20:51</td>\n",
       "      <td>11/01/2025 - 20:51</td>\n",
       "      <td>11/01/2025 - 20:51</td>\n",
       "      <td>0</td>\n",
       "      <td>0.0.0.0</td>\n",
       "      <td>0</td>\n",
       "      <td>Anonymous</td>\n",
       "      <td>Totalement opposé</td>\n",
       "      <td>...</td>\n",
       "      <td>Très réticent</td>\n",
       "      <td>Réticent</td>\n",
       "      <td>C'est plutôt important</td>\n",
       "      <td>NaN</td>\n",
       "      <td>C'est très important</td>\n",
       "      <td>C'est très important</td>\n",
       "      <td>C'est très important</td>\n",
       "      <td>C'est essentiel</td>\n",
       "      <td>45-54 ans</td>\n",
       "      <td>NaN</td>\n",
       "    </tr>\n",
       "    <tr>\n",
       "      <th>2</th>\n",
       "      <td>5</td>\n",
       "      <td>25290441</td>\n",
       "      <td>11/01/2025 - 21:18</td>\n",
       "      <td>11/01/2025 - 21:18</td>\n",
       "      <td>11/01/2025 - 21:18</td>\n",
       "      <td>0</td>\n",
       "      <td>0.0.0.0</td>\n",
       "      <td>0</td>\n",
       "      <td>Anonymous</td>\n",
       "      <td>Assez favorable</td>\n",
       "      <td>...</td>\n",
       "      <td>Réticent</td>\n",
       "      <td>Favorable</td>\n",
       "      <td>C'est très important</td>\n",
       "      <td>C'est plutôt secondaire</td>\n",
       "      <td>C'est plutôt important</td>\n",
       "      <td>C'est plutôt important</td>\n",
       "      <td>C'est plutôt important</td>\n",
       "      <td>C'est important</td>\n",
       "      <td>45-54 ans</td>\n",
       "      <td>NaN</td>\n",
       "    </tr>\n",
       "    <tr>\n",
       "      <th>3</th>\n",
       "      <td>6</td>\n",
       "      <td>25291335</td>\n",
       "      <td>12/01/2025 - 03:53</td>\n",
       "      <td>12/01/2025 - 03:53</td>\n",
       "      <td>12/01/2025 - 03:53</td>\n",
       "      <td>0</td>\n",
       "      <td>0.0.0.0</td>\n",
       "      <td>0</td>\n",
       "      <td>Anonymous</td>\n",
       "      <td>Tout à fait favorable</td>\n",
       "      <td>...</td>\n",
       "      <td>Très réticent</td>\n",
       "      <td>Ni réticent, ni favorable</td>\n",
       "      <td>C'est plutôt important</td>\n",
       "      <td>C'est plutôt secondaire</td>\n",
       "      <td>C'est plutôt important</td>\n",
       "      <td>C'est très important</td>\n",
       "      <td>C'est important ou secondaire</td>\n",
       "      <td>C'est essentiel</td>\n",
       "      <td>55-64 ans</td>\n",
       "      <td>NaN</td>\n",
       "    </tr>\n",
       "    <tr>\n",
       "      <th>4</th>\n",
       "      <td>7</td>\n",
       "      <td>25291387</td>\n",
       "      <td>12/01/2025 - 06:52</td>\n",
       "      <td>12/01/2025 - 06:52</td>\n",
       "      <td>12/01/2025 - 06:52</td>\n",
       "      <td>0</td>\n",
       "      <td>0.0.0.0</td>\n",
       "      <td>0</td>\n",
       "      <td>Anonymous</td>\n",
       "      <td>Ni favorable, ni opposé</td>\n",
       "      <td>...</td>\n",
       "      <td>Réticent</td>\n",
       "      <td>Ni réticent, ni favorable</td>\n",
       "      <td>C'est très secondaire</td>\n",
       "      <td>NaN</td>\n",
       "      <td>C'est très secondaire</td>\n",
       "      <td>C'est très secondaire</td>\n",
       "      <td>C'est très secondaire</td>\n",
       "      <td>C'est essentiel</td>\n",
       "      <td>55-64 ans</td>\n",
       "      <td>Je connais très peu l'IA et dois me faire expl...</td>\n",
       "    </tr>\n",
       "    <tr>\n",
       "      <th>5</th>\n",
       "      <td>8</td>\n",
       "      <td>25291456</td>\n",
       "      <td>12/01/2025 - 07:52</td>\n",
       "      <td>12/01/2025 - 07:52</td>\n",
       "      <td>12/01/2025 - 07:52</td>\n",
       "      <td>0</td>\n",
       "      <td>0.0.0.0</td>\n",
       "      <td>0</td>\n",
       "      <td>Anonymous</td>\n",
       "      <td>Assez favorable</td>\n",
       "      <td>...</td>\n",
       "      <td>Réticent</td>\n",
       "      <td>Ni réticent, ni favorable</td>\n",
       "      <td>C'est très important</td>\n",
       "      <td>C'est très important</td>\n",
       "      <td>C'est plutôt important</td>\n",
       "      <td>C'est plutôt important</td>\n",
       "      <td>C'est plutôt important</td>\n",
       "      <td>C'est essentiel</td>\n",
       "      <td>55-64 ans</td>\n",
       "      <td>NaN</td>\n",
       "    </tr>\n",
       "    <tr>\n",
       "      <th>6</th>\n",
       "      <td>9</td>\n",
       "      <td>25291533</td>\n",
       "      <td>12/01/2025 - 08:27</td>\n",
       "      <td>12/01/2025 - 08:27</td>\n",
       "      <td>12/01/2025 - 08:27</td>\n",
       "      <td>0</td>\n",
       "      <td>0.0.0.0</td>\n",
       "      <td>0</td>\n",
       "      <td>Anonymous</td>\n",
       "      <td>Assez favorable</td>\n",
       "      <td>...</td>\n",
       "      <td>Très réticent</td>\n",
       "      <td>Très réticent</td>\n",
       "      <td>C'est plutôt important</td>\n",
       "      <td>C'est plutôt important</td>\n",
       "      <td>C'est plutôt important</td>\n",
       "      <td>C'est très important</td>\n",
       "      <td>C'est plutôt important</td>\n",
       "      <td>C'est important</td>\n",
       "      <td>25-34 ans</td>\n",
       "      <td>NaN</td>\n",
       "    </tr>\n",
       "    <tr>\n",
       "      <th>7</th>\n",
       "      <td>10</td>\n",
       "      <td>25291545</td>\n",
       "      <td>12/01/2025 - 08:30</td>\n",
       "      <td>12/01/2025 - 08:30</td>\n",
       "      <td>12/01/2025 - 08:30</td>\n",
       "      <td>0</td>\n",
       "      <td>0.0.0.0</td>\n",
       "      <td>0</td>\n",
       "      <td>Anonymous</td>\n",
       "      <td>Tout à fait favorable</td>\n",
       "      <td>...</td>\n",
       "      <td>Très réticent</td>\n",
       "      <td>Très réticent</td>\n",
       "      <td>C'est très important</td>\n",
       "      <td>C'est très secondaire</td>\n",
       "      <td>C'est très important</td>\n",
       "      <td>C'est très important</td>\n",
       "      <td>C'est très secondaire</td>\n",
       "      <td>C'est essentiel</td>\n",
       "      <td>55-64 ans</td>\n",
       "      <td>Elle ne vaut pas un clou</td>\n",
       "    </tr>\n",
       "    <tr>\n",
       "      <th>8</th>\n",
       "      <td>11</td>\n",
       "      <td>25291576</td>\n",
       "      <td>12/01/2025 - 08:37</td>\n",
       "      <td>12/01/2025 - 08:37</td>\n",
       "      <td>12/01/2025 - 08:37</td>\n",
       "      <td>0</td>\n",
       "      <td>0.0.0.0</td>\n",
       "      <td>0</td>\n",
       "      <td>Anonymous</td>\n",
       "      <td>Totalement opposé</td>\n",
       "      <td>...</td>\n",
       "      <td>Très réticent</td>\n",
       "      <td>Très réticent</td>\n",
       "      <td>C'est très important</td>\n",
       "      <td>C'est très secondaire</td>\n",
       "      <td>C'est très secondaire</td>\n",
       "      <td>C'est très secondaire</td>\n",
       "      <td>C'est très secondaire</td>\n",
       "      <td>C'est essentiel</td>\n",
       "      <td>55-64 ans</td>\n",
       "      <td>Cela caractérise le niveau de servilité du rec...</td>\n",
       "    </tr>\n",
       "    <tr>\n",
       "      <th>9</th>\n",
       "      <td>12</td>\n",
       "      <td>25291608</td>\n",
       "      <td>12/01/2025 - 08:47</td>\n",
       "      <td>12/01/2025 - 08:47</td>\n",
       "      <td>12/01/2025 - 08:47</td>\n",
       "      <td>0</td>\n",
       "      <td>0.0.0.0</td>\n",
       "      <td>0</td>\n",
       "      <td>Anonymous</td>\n",
       "      <td>Assez favorable</td>\n",
       "      <td>...</td>\n",
       "      <td>Très réticent</td>\n",
       "      <td>Favorable</td>\n",
       "      <td>C'est très important</td>\n",
       "      <td>C'est plutôt secondaire</td>\n",
       "      <td>C'est plutôt important</td>\n",
       "      <td>C'est très important</td>\n",
       "      <td>C'est important ou secondaire</td>\n",
       "      <td>C'est important</td>\n",
       "      <td>55-64 ans</td>\n",
       "      <td>NaN</td>\n",
       "    </tr>\n",
       "  </tbody>\n",
       "</table>\n",
       "<p>10 rows × 36 columns</p>\n",
       "</div>"
      ],
      "text/plain": [
       "   Colonnes       SID Heure de soumission Heure de complétion  \\\n",
       "0         3  25290150  11/01/2025 - 20:28  11/01/2025 - 20:28   \n",
       "1         4  25290276  11/01/2025 - 20:51  11/01/2025 - 20:51   \n",
       "2         5  25290441  11/01/2025 - 21:18  11/01/2025 - 21:18   \n",
       "3         6  25291335  12/01/2025 - 03:53  12/01/2025 - 03:53   \n",
       "4         7  25291387  12/01/2025 - 06:52  12/01/2025 - 06:52   \n",
       "5         8  25291456  12/01/2025 - 07:52  12/01/2025 - 07:52   \n",
       "6         9  25291533  12/01/2025 - 08:27  12/01/2025 - 08:27   \n",
       "7        10  25291545  12/01/2025 - 08:30  12/01/2025 - 08:30   \n",
       "8        11  25291576  12/01/2025 - 08:37  12/01/2025 - 08:37   \n",
       "9        12  25291608  12/01/2025 - 08:47  12/01/2025 - 08:47   \n",
       "\n",
       "  Heure de modification  Brouillon Adresse IP  UID Nom d'utilisateur  \\\n",
       "0    11/01/2025 - 20:28          0    0.0.0.0    0         Anonymous   \n",
       "1    11/01/2025 - 20:51          0    0.0.0.0    0         Anonymous   \n",
       "2    11/01/2025 - 21:18          0    0.0.0.0    0         Anonymous   \n",
       "3    12/01/2025 - 03:53          0    0.0.0.0    0         Anonymous   \n",
       "4    12/01/2025 - 06:52          0    0.0.0.0    0         Anonymous   \n",
       "5    12/01/2025 - 07:52          0    0.0.0.0    0         Anonymous   \n",
       "6    12/01/2025 - 08:27          0    0.0.0.0    0         Anonymous   \n",
       "7    12/01/2025 - 08:30          0    0.0.0.0    0         Anonymous   \n",
       "8    12/01/2025 - 08:37          0    0.0.0.0    0         Anonymous   \n",
       "9    12/01/2025 - 08:47          0    0.0.0.0    0         Anonymous   \n",
       "\n",
       "  Rédiger des CV ou des lettres de motivation  ...  \\\n",
       "0                               Plutôt opposé  ...   \n",
       "1                           Totalement opposé  ...   \n",
       "2                             Assez favorable  ...   \n",
       "3                       Tout à fait favorable  ...   \n",
       "4                     Ni favorable, ni opposé  ...   \n",
       "5                             Assez favorable  ...   \n",
       "6                             Assez favorable  ...   \n",
       "7                       Tout à fait favorable  ...   \n",
       "8                           Totalement opposé  ...   \n",
       "9                             Assez favorable  ...   \n",
       "\n",
       "  Lors de la négociation sur votre rémunération et autres avantages  \\\n",
       "0                          Ni réticent, ni favorable                  \n",
       "1                                      Très réticent                  \n",
       "2                                           Réticent                  \n",
       "3                                      Très réticent                  \n",
       "4                                           Réticent                  \n",
       "5                                           Réticent                  \n",
       "6                                      Très réticent                  \n",
       "7                                      Très réticent                  \n",
       "8                                      Très réticent                  \n",
       "9                                      Très réticent                  \n",
       "\n",
       "  Lors de la rédaction de votre contrat de travail  \\\n",
       "0                                        Favorable   \n",
       "1                                         Réticent   \n",
       "2                                        Favorable   \n",
       "3                        Ni réticent, ni favorable   \n",
       "4                        Ni réticent, ni favorable   \n",
       "5                        Ni réticent, ni favorable   \n",
       "6                                    Très réticent   \n",
       "7                                    Très réticent   \n",
       "8                                    Très réticent   \n",
       "9                                        Favorable   \n",
       "\n",
       "  Le respect de votre vie privée L'empreinte carbone de l'IA utilisée  \\\n",
       "0         C'est plutôt important        C'est important ou secondaire   \n",
       "1         C'est plutôt important                                  NaN   \n",
       "2           C'est très important              C'est plutôt secondaire   \n",
       "3         C'est plutôt important              C'est plutôt secondaire   \n",
       "4          C'est très secondaire                                  NaN   \n",
       "5           C'est très important                 C'est très important   \n",
       "6         C'est plutôt important               C'est plutôt important   \n",
       "7           C'est très important                C'est très secondaire   \n",
       "8           C'est très important                C'est très secondaire   \n",
       "9           C'est très important              C'est plutôt secondaire   \n",
       "\n",
       "  L'absence de toute discrimination L'équité entre tous les candidats  \\\n",
       "0              C'est très important              C'est très important   \n",
       "1              C'est très important              C'est très important   \n",
       "2            C'est plutôt important            C'est plutôt important   \n",
       "3            C'est plutôt important              C'est très important   \n",
       "4             C'est très secondaire             C'est très secondaire   \n",
       "5            C'est plutôt important            C'est plutôt important   \n",
       "6            C'est plutôt important              C'est très important   \n",
       "7              C'est très important              C'est très important   \n",
       "8             C'est très secondaire             C'est très secondaire   \n",
       "9            C'est plutôt important              C'est très important   \n",
       "\n",
       "      Le respect de la diversité  \\\n",
       "0  C'est important ou secondaire   \n",
       "1           C'est très important   \n",
       "2         C'est plutôt important   \n",
       "3  C'est important ou secondaire   \n",
       "4          C'est très secondaire   \n",
       "5         C'est plutôt important   \n",
       "6         C'est plutôt important   \n",
       "7          C'est très secondaire   \n",
       "8          C'est très secondaire   \n",
       "9  C'est important ou secondaire   \n",
       "\n",
       "  Aimeriez-vous savoir si votre recruteur a prévu d'utiliser l'IA dans le processus de recrutement ?  \\\n",
       "0                                    C'est important                                                   \n",
       "1                                    C'est essentiel                                                   \n",
       "2                                    C'est important                                                   \n",
       "3                                    C'est essentiel                                                   \n",
       "4                                    C'est essentiel                                                   \n",
       "5                                    C'est essentiel                                                   \n",
       "6                                    C'est important                                                   \n",
       "7                                    C'est essentiel                                                   \n",
       "8                                    C'est essentiel                                                   \n",
       "9                                    C'est important                                                   \n",
       "\n",
       "  Quelle est votre tranche d'âge?  \\\n",
       "0                       25-34 ans   \n",
       "1                       45-54 ans   \n",
       "2                       45-54 ans   \n",
       "3                       55-64 ans   \n",
       "4                       55-64 ans   \n",
       "5                       55-64 ans   \n",
       "6                       25-34 ans   \n",
       "7                       55-64 ans   \n",
       "8                       55-64 ans   \n",
       "9                       55-64 ans   \n",
       "\n",
       "  Donnez votre avis sur une entreprise qui souhaiterait confier ses recrutements à une IA :   \n",
       "0                                                NaN                                          \n",
       "1                                                NaN                                          \n",
       "2                                                NaN                                          \n",
       "3                                                NaN                                          \n",
       "4  Je connais très peu l'IA et dois me faire expl...                                          \n",
       "5                                                NaN                                          \n",
       "6                                                NaN                                          \n",
       "7                           Elle ne vaut pas un clou                                          \n",
       "8  Cela caractérise le niveau de servilité du rec...                                          \n",
       "9                                                NaN                                          \n",
       "\n",
       "[10 rows x 36 columns]"
      ]
     },
     "execution_count": 7,
     "metadata": {},
     "output_type": "execute_result"
    }
   ],
   "source": [
    "df.head(10)"
   ]
  },
  {
   "cell_type": "markdown",
   "id": "80c957c7-7f80-46ee-b252-92e4718010ba",
   "metadata": {},
   "source": [
    "## Suppression des colonnes à caractère technique sans données liées aux questions"
   ]
  },
  {
   "cell_type": "code",
   "execution_count": 8,
   "id": "45b843f0-4c96-4cfa-98fe-f035ac9807ef",
   "metadata": {},
   "outputs": [],
   "source": [
    "df = df.drop(df.columns[0:9], axis=1)"
   ]
  },
  {
   "cell_type": "code",
   "execution_count": 9,
   "id": "20f7458c-2e75-4607-a21f-03074ea63632",
   "metadata": {},
   "outputs": [
    {
     "data": {
      "text/html": [
       "<div>\n",
       "<style scoped>\n",
       "    .dataframe tbody tr th:only-of-type {\n",
       "        vertical-align: middle;\n",
       "    }\n",
       "\n",
       "    .dataframe tbody tr th {\n",
       "        vertical-align: top;\n",
       "    }\n",
       "\n",
       "    .dataframe thead th {\n",
       "        text-align: right;\n",
       "    }\n",
       "</style>\n",
       "<table border=\"1\" class=\"dataframe\">\n",
       "  <thead>\n",
       "    <tr style=\"text-align: right;\">\n",
       "      <th></th>\n",
       "      <th>Rédiger des CV ou des lettres de motivation</th>\n",
       "      <th>Améliorer votre profil LinkedIn</th>\n",
       "      <th>Préparer des entretiens d'embauche</th>\n",
       "      <th>Vous renseigner sur votre futur employeur</th>\n",
       "      <th>Répondre plus rapidement à une offre</th>\n",
       "      <th>ChatGPT et autres IA génératives (génération de texte ou d'images)</th>\n",
       "      <th>Moteur de recherche (Chrome, Safari, Firefox)</th>\n",
       "      <th>Application de navigation disponibles sur votre mobile ou dans votre voiture</th>\n",
       "      <th>Autres usages professionnels ou scientifiques</th>\n",
       "      <th>Pour sélectionner les meilleur•e•s candidat•e•s</th>\n",
       "      <th>...</th>\n",
       "      <th>Lors de la négociation sur votre rémunération et autres avantages</th>\n",
       "      <th>Lors de la rédaction de votre contrat de travail</th>\n",
       "      <th>Le respect de votre vie privée</th>\n",
       "      <th>L'empreinte carbone de l'IA utilisée</th>\n",
       "      <th>L'absence de toute discrimination</th>\n",
       "      <th>L'équité entre tous les candidats</th>\n",
       "      <th>Le respect de la diversité</th>\n",
       "      <th>Aimeriez-vous savoir si votre recruteur a prévu d'utiliser l'IA dans le processus de recrutement ?</th>\n",
       "      <th>Quelle est votre tranche d'âge?</th>\n",
       "      <th>Donnez votre avis sur une entreprise qui souhaiterait confier ses recrutements à une IA :</th>\n",
       "    </tr>\n",
       "  </thead>\n",
       "  <tbody>\n",
       "    <tr>\n",
       "      <th>0</th>\n",
       "      <td>Plutôt opposé</td>\n",
       "      <td>Assez favorable</td>\n",
       "      <td>Totalement opposé</td>\n",
       "      <td>Plutôt opposé</td>\n",
       "      <td>Assez favorable</td>\n",
       "      <td>à l'aise</td>\n",
       "      <td>Plutôt à l'aise</td>\n",
       "      <td>Plutôt à l'aise</td>\n",
       "      <td>Plutôt à l'aise</td>\n",
       "      <td>Très faible</td>\n",
       "      <td>...</td>\n",
       "      <td>Ni réticent, ni favorable</td>\n",
       "      <td>Favorable</td>\n",
       "      <td>C'est plutôt important</td>\n",
       "      <td>C'est important ou secondaire</td>\n",
       "      <td>C'est très important</td>\n",
       "      <td>C'est très important</td>\n",
       "      <td>C'est important ou secondaire</td>\n",
       "      <td>C'est important</td>\n",
       "      <td>25-34 ans</td>\n",
       "      <td>NaN</td>\n",
       "    </tr>\n",
       "    <tr>\n",
       "      <th>1</th>\n",
       "      <td>Totalement opposé</td>\n",
       "      <td>Plutôt opposé</td>\n",
       "      <td>Plutôt opposé</td>\n",
       "      <td>Ni favorable, ni opposé</td>\n",
       "      <td>Ni favorable, ni opposé</td>\n",
       "      <td>Plutôt à l'aise</td>\n",
       "      <td>à l'aise</td>\n",
       "      <td>Plutôt à l'aise</td>\n",
       "      <td>Plutôt à l'aise</td>\n",
       "      <td>Ni faible, ni élevé</td>\n",
       "      <td>...</td>\n",
       "      <td>Très réticent</td>\n",
       "      <td>Réticent</td>\n",
       "      <td>C'est plutôt important</td>\n",
       "      <td>NaN</td>\n",
       "      <td>C'est très important</td>\n",
       "      <td>C'est très important</td>\n",
       "      <td>C'est très important</td>\n",
       "      <td>C'est essentiel</td>\n",
       "      <td>45-54 ans</td>\n",
       "      <td>NaN</td>\n",
       "    </tr>\n",
       "  </tbody>\n",
       "</table>\n",
       "<p>2 rows × 27 columns</p>\n",
       "</div>"
      ],
      "text/plain": [
       "  Rédiger des CV ou des lettres de motivation Améliorer votre profil LinkedIn  \\\n",
       "0                               Plutôt opposé                 Assez favorable   \n",
       "1                           Totalement opposé                   Plutôt opposé   \n",
       "\n",
       "  Préparer des entretiens d'embauche  \\\n",
       "0                  Totalement opposé   \n",
       "1                      Plutôt opposé   \n",
       "\n",
       "  Vous renseigner sur votre futur employeur  \\\n",
       "0                             Plutôt opposé   \n",
       "1                   Ni favorable, ni opposé   \n",
       "\n",
       "  Répondre plus rapidement à une offre  \\\n",
       "0                      Assez favorable   \n",
       "1              Ni favorable, ni opposé   \n",
       "\n",
       "  ChatGPT et autres IA génératives (génération de texte ou d'images)  \\\n",
       "0                                           à l'aise                   \n",
       "1                                    Plutôt à l'aise                   \n",
       "\n",
       "  Moteur de recherche (Chrome, Safari, Firefox)  \\\n",
       "0                               Plutôt à l'aise   \n",
       "1                                      à l'aise   \n",
       "\n",
       "  Application de navigation disponibles sur votre mobile ou dans votre voiture  \\\n",
       "0                                    Plutôt à l'aise                             \n",
       "1                                    Plutôt à l'aise                             \n",
       "\n",
       "  Autres usages professionnels ou scientifiques  \\\n",
       "0                               Plutôt à l'aise   \n",
       "1                               Plutôt à l'aise   \n",
       "\n",
       "  Pour sélectionner les meilleur•e•s candidat•e•s  ...  \\\n",
       "0                                     Très faible  ...   \n",
       "1                             Ni faible, ni élevé  ...   \n",
       "\n",
       "  Lors de la négociation sur votre rémunération et autres avantages  \\\n",
       "0                          Ni réticent, ni favorable                  \n",
       "1                                      Très réticent                  \n",
       "\n",
       "  Lors de la rédaction de votre contrat de travail  \\\n",
       "0                                        Favorable   \n",
       "1                                         Réticent   \n",
       "\n",
       "  Le respect de votre vie privée L'empreinte carbone de l'IA utilisée  \\\n",
       "0         C'est plutôt important        C'est important ou secondaire   \n",
       "1         C'est plutôt important                                  NaN   \n",
       "\n",
       "  L'absence de toute discrimination L'équité entre tous les candidats  \\\n",
       "0              C'est très important              C'est très important   \n",
       "1              C'est très important              C'est très important   \n",
       "\n",
       "      Le respect de la diversité  \\\n",
       "0  C'est important ou secondaire   \n",
       "1           C'est très important   \n",
       "\n",
       "  Aimeriez-vous savoir si votre recruteur a prévu d'utiliser l'IA dans le processus de recrutement ?  \\\n",
       "0                                    C'est important                                                   \n",
       "1                                    C'est essentiel                                                   \n",
       "\n",
       "  Quelle est votre tranche d'âge?  \\\n",
       "0                       25-34 ans   \n",
       "1                       45-54 ans   \n",
       "\n",
       "  Donnez votre avis sur une entreprise qui souhaiterait confier ses recrutements à une IA :   \n",
       "0                                                NaN                                          \n",
       "1                                                NaN                                          \n",
       "\n",
       "[2 rows x 27 columns]"
      ]
     },
     "execution_count": 9,
     "metadata": {},
     "output_type": "execute_result"
    }
   ],
   "source": [
    "df.head(2)"
   ]
  },
  {
   "cell_type": "code",
   "execution_count": 10,
   "id": "f852a159-3a8e-44eb-8c82-1581733b1fff",
   "metadata": {},
   "outputs": [],
   "source": [
    "# Création d'un Dataframe utile pour le calcul du mode\n",
    "\n",
    "df_mode = df.drop(\"Donnez votre avis sur une entreprise qui souhaiterait confier ses recrutements à une IA : \", axis=1)"
   ]
  },
  {
   "cell_type": "code",
   "execution_count": 11,
   "id": "83de5399-8f1a-45fc-a017-95f3c1951bdf",
   "metadata": {},
   "outputs": [
    {
     "data": {
      "text/html": [
       "<div>\n",
       "<style scoped>\n",
       "    .dataframe tbody tr th:only-of-type {\n",
       "        vertical-align: middle;\n",
       "    }\n",
       "\n",
       "    .dataframe tbody tr th {\n",
       "        vertical-align: top;\n",
       "    }\n",
       "\n",
       "    .dataframe thead th {\n",
       "        text-align: right;\n",
       "    }\n",
       "</style>\n",
       "<table border=\"1\" class=\"dataframe\">\n",
       "  <thead>\n",
       "    <tr style=\"text-align: right;\">\n",
       "      <th></th>\n",
       "      <th>Rédiger des CV ou des lettres de motivation</th>\n",
       "      <th>Améliorer votre profil LinkedIn</th>\n",
       "      <th>Préparer des entretiens d'embauche</th>\n",
       "      <th>Vous renseigner sur votre futur employeur</th>\n",
       "      <th>Répondre plus rapidement à une offre</th>\n",
       "      <th>ChatGPT et autres IA génératives (génération de texte ou d'images)</th>\n",
       "      <th>Moteur de recherche (Chrome, Safari, Firefox)</th>\n",
       "      <th>Application de navigation disponibles sur votre mobile ou dans votre voiture</th>\n",
       "      <th>Autres usages professionnels ou scientifiques</th>\n",
       "      <th>Pour sélectionner les meilleur•e•s candidat•e•s</th>\n",
       "      <th>...</th>\n",
       "      <th>Lors de la négociation sur votre rémunération et autres avantages</th>\n",
       "      <th>Lors de la rédaction de votre contrat de travail</th>\n",
       "      <th>Le respect de votre vie privée</th>\n",
       "      <th>L'empreinte carbone de l'IA utilisée</th>\n",
       "      <th>L'absence de toute discrimination</th>\n",
       "      <th>L'équité entre tous les candidats</th>\n",
       "      <th>Le respect de la diversité</th>\n",
       "      <th>Aimeriez-vous savoir si votre recruteur a prévu d'utiliser l'IA dans le processus de recrutement ?</th>\n",
       "      <th>Quelle est votre tranche d'âge?</th>\n",
       "      <th>Donnez votre avis sur une entreprise qui souhaiterait confier ses recrutements à une IA :</th>\n",
       "    </tr>\n",
       "  </thead>\n",
       "  <tbody>\n",
       "    <tr>\n",
       "      <th>count</th>\n",
       "      <td>161</td>\n",
       "      <td>161</td>\n",
       "      <td>161</td>\n",
       "      <td>161</td>\n",
       "      <td>161</td>\n",
       "      <td>161</td>\n",
       "      <td>161</td>\n",
       "      <td>161</td>\n",
       "      <td>161</td>\n",
       "      <td>161</td>\n",
       "      <td>...</td>\n",
       "      <td>161</td>\n",
       "      <td>161</td>\n",
       "      <td>161</td>\n",
       "      <td>159</td>\n",
       "      <td>161</td>\n",
       "      <td>161</td>\n",
       "      <td>159</td>\n",
       "      <td>161</td>\n",
       "      <td>161</td>\n",
       "      <td>67</td>\n",
       "    </tr>\n",
       "    <tr>\n",
       "      <th>unique</th>\n",
       "      <td>5</td>\n",
       "      <td>5</td>\n",
       "      <td>5</td>\n",
       "      <td>5</td>\n",
       "      <td>5</td>\n",
       "      <td>5</td>\n",
       "      <td>5</td>\n",
       "      <td>5</td>\n",
       "      <td>5</td>\n",
       "      <td>4</td>\n",
       "      <td>...</td>\n",
       "      <td>5</td>\n",
       "      <td>5</td>\n",
       "      <td>4</td>\n",
       "      <td>5</td>\n",
       "      <td>5</td>\n",
       "      <td>4</td>\n",
       "      <td>5</td>\n",
       "      <td>5</td>\n",
       "      <td>5</td>\n",
       "      <td>67</td>\n",
       "    </tr>\n",
       "    <tr>\n",
       "      <th>top</th>\n",
       "      <td>Tout à fait favorable</td>\n",
       "      <td>Assez favorable</td>\n",
       "      <td>Tout à fait favorable</td>\n",
       "      <td>Tout à fait favorable</td>\n",
       "      <td>Assez favorable</td>\n",
       "      <td>Plutôt à l'aise</td>\n",
       "      <td>à l'aise</td>\n",
       "      <td>à l'aise</td>\n",
       "      <td>Plutôt à l'aise</td>\n",
       "      <td>Faible</td>\n",
       "      <td>...</td>\n",
       "      <td>Très réticent</td>\n",
       "      <td>Très réticent</td>\n",
       "      <td>C'est très important</td>\n",
       "      <td>C'est plutôt important</td>\n",
       "      <td>C'est très important</td>\n",
       "      <td>C'est très important</td>\n",
       "      <td>C'est très important</td>\n",
       "      <td>C'est important</td>\n",
       "      <td>55-64 ans</td>\n",
       "      <td>Je connais très peu l'IA et dois me faire expl...</td>\n",
       "    </tr>\n",
       "    <tr>\n",
       "      <th>freq</th>\n",
       "      <td>52</td>\n",
       "      <td>54</td>\n",
       "      <td>52</td>\n",
       "      <td>45</td>\n",
       "      <td>47</td>\n",
       "      <td>56</td>\n",
       "      <td>90</td>\n",
       "      <td>75</td>\n",
       "      <td>61</td>\n",
       "      <td>57</td>\n",
       "      <td>...</td>\n",
       "      <td>74</td>\n",
       "      <td>44</td>\n",
       "      <td>124</td>\n",
       "      <td>40</td>\n",
       "      <td>68</td>\n",
       "      <td>88</td>\n",
       "      <td>51</td>\n",
       "      <td>63</td>\n",
       "      <td>60</td>\n",
       "      <td>1</td>\n",
       "    </tr>\n",
       "  </tbody>\n",
       "</table>\n",
       "<p>4 rows × 27 columns</p>\n",
       "</div>"
      ],
      "text/plain": [
       "       Rédiger des CV ou des lettres de motivation  \\\n",
       "count                                          161   \n",
       "unique                                           5   \n",
       "top                          Tout à fait favorable   \n",
       "freq                                            52   \n",
       "\n",
       "       Améliorer votre profil LinkedIn Préparer des entretiens d'embauche  \\\n",
       "count                              161                                161   \n",
       "unique                               5                                  5   \n",
       "top                    Assez favorable              Tout à fait favorable   \n",
       "freq                                54                                 52   \n",
       "\n",
       "       Vous renseigner sur votre futur employeur  \\\n",
       "count                                        161   \n",
       "unique                                         5   \n",
       "top                        Tout à fait favorable   \n",
       "freq                                          45   \n",
       "\n",
       "       Répondre plus rapidement à une offre  \\\n",
       "count                                   161   \n",
       "unique                                    5   \n",
       "top                         Assez favorable   \n",
       "freq                                     47   \n",
       "\n",
       "       ChatGPT et autres IA génératives (génération de texte ou d'images)  \\\n",
       "count                                                 161                   \n",
       "unique                                                  5                   \n",
       "top                                       Plutôt à l'aise                   \n",
       "freq                                                   56                   \n",
       "\n",
       "       Moteur de recherche (Chrome, Safari, Firefox)  \\\n",
       "count                                            161   \n",
       "unique                                             5   \n",
       "top                                         à l'aise   \n",
       "freq                                              90   \n",
       "\n",
       "       Application de navigation disponibles sur votre mobile ou dans votre voiture  \\\n",
       "count                                                 161                             \n",
       "unique                                                  5                             \n",
       "top                                              à l'aise                             \n",
       "freq                                                   75                             \n",
       "\n",
       "       Autres usages professionnels ou scientifiques  \\\n",
       "count                                            161   \n",
       "unique                                             5   \n",
       "top                                  Plutôt à l'aise   \n",
       "freq                                              61   \n",
       "\n",
       "       Pour sélectionner les meilleur•e•s candidat•e•s  ...  \\\n",
       "count                                              161  ...   \n",
       "unique                                               4  ...   \n",
       "top                                             Faible  ...   \n",
       "freq                                                57  ...   \n",
       "\n",
       "       Lors de la négociation sur votre rémunération et autres avantages  \\\n",
       "count                                                 161                  \n",
       "unique                                                  5                  \n",
       "top                                         Très réticent                  \n",
       "freq                                                   74                  \n",
       "\n",
       "       Lors de la rédaction de votre contrat de travail  \\\n",
       "count                                               161   \n",
       "unique                                                5   \n",
       "top                                       Très réticent   \n",
       "freq                                                 44   \n",
       "\n",
       "       Le respect de votre vie privée L'empreinte carbone de l'IA utilisée  \\\n",
       "count                             161                                  159   \n",
       "unique                              4                                    5   \n",
       "top              C'est très important               C'est plutôt important   \n",
       "freq                              124                                   40   \n",
       "\n",
       "       L'absence de toute discrimination L'équité entre tous les candidats  \\\n",
       "count                                161                               161   \n",
       "unique                                 5                                 4   \n",
       "top                 C'est très important              C'est très important   \n",
       "freq                                  68                                88   \n",
       "\n",
       "       Le respect de la diversité  \\\n",
       "count                         159   \n",
       "unique                          5   \n",
       "top          C'est très important   \n",
       "freq                           51   \n",
       "\n",
       "       Aimeriez-vous savoir si votre recruteur a prévu d'utiliser l'IA dans le processus de recrutement ?  \\\n",
       "count                                                 161                                                   \n",
       "unique                                                  5                                                   \n",
       "top                                       C'est important                                                   \n",
       "freq                                                   63                                                   \n",
       "\n",
       "       Quelle est votre tranche d'âge?  \\\n",
       "count                              161   \n",
       "unique                               5   \n",
       "top                          55-64 ans   \n",
       "freq                                60   \n",
       "\n",
       "       Donnez votre avis sur une entreprise qui souhaiterait confier ses recrutements à une IA :   \n",
       "count                                                  67                                          \n",
       "unique                                                 67                                          \n",
       "top     Je connais très peu l'IA et dois me faire expl...                                          \n",
       "freq                                                    1                                          \n",
       "\n",
       "[4 rows x 27 columns]"
      ]
     },
     "execution_count": 11,
     "metadata": {},
     "output_type": "execute_result"
    }
   ],
   "source": [
    "df.describe()"
   ]
  },
  {
   "cell_type": "markdown",
   "id": "6ae22fb4-28c7-41fe-9190-aa8a1bf7a398",
   "metadata": {},
   "source": [
    "## Simplification du nommage des colonnes du questionnaire"
   ]
  },
  {
   "cell_type": "markdown",
   "id": "dcf28cee-0891-4f0c-b67e-b05056727af7",
   "metadata": {},
   "source": [
    "**Le questionnaire est organisé en 6 rubriques comportant chacune des sous-questions:**\n",
    "- Rubrique 1 : utilité perçue de l'usage de l'IA dans un recrutement;\n",
    "- Rubrique 2 : facilité d'usage de l'IA en général;\n",
    "- Rubrique 3 : confiance dans l'usage dans le recruteur utilisant une IA;\n",
    "- Rubrique 4 : acceptation de l'usage de l'IA par le recruteur;\n",
    "- Rubrique 5 : importance accordée à l'éthique dans l'usage de l'IA;\n",
    "- Rubrique 6 : divers, comme l'importance accordée à l'information sur l'usage de l'IA, la catégorie d'âge et un champ de texte libre."
   ]
  },
  {
   "cell_type": "markdown",
   "id": "01cabeaa-3e9e-47e1-a0de-8b7316ea5938",
   "metadata": {},
   "source": [
    "### Mapping des colonnes par catégorie"
   ]
  },
  {
   "cell_type": "code",
   "execution_count": 12,
   "id": "787f6c2d-d0b4-4135-9e81-c01cb6356856",
   "metadata": {},
   "outputs": [],
   "source": [
    "import collections"
   ]
  },
  {
   "cell_type": "code",
   "execution_count": 13,
   "id": "d07567e8-977e-44d4-a551-ec028a79e036",
   "metadata": {},
   "outputs": [],
   "source": [
    "dict_usefulness_columns = collections.OrderedDict({\"Rédiger des CV ou des lettres de motivation\": \"useful_resume_CV\",\n",
    "                  \"Améliorer votre profil LinkedIn\": \"useful_linkedin\",\n",
    "                  \"Préparer des entretiens d'embauche\": \"useful_interview\",\n",
    "                  \"Vous renseigner sur votre futur employeur\": \"useful_intelligence\",\n",
    "                  \"Répondre plus rapidement à une offre\": \"useful_speedy_response\"\n",
    "                  })"
   ]
  },
  {
   "cell_type": "code",
   "execution_count": 14,
   "id": "67b71d79-dbb1-4f02-801b-95164496f562",
   "metadata": {},
   "outputs": [],
   "source": [
    "dict_easiness_columns = collections.OrderedDict({\"ChatGPT et autres IA génératives (génération de texte ou d'images)\": \"easiness_generative_AI\",\n",
    "                  \"Moteur de recherche (Chrome, Safari, Firefox)\": \"easiness_search_engine\",\n",
    "                  \"Application de navigation disponibles sur votre mobile ou dans votre voiture\": \"easiness_navigation\",\n",
    "                  \"Autres usages professionnels ou scientifiques\": \"easiness_business_sciences\"\n",
    "                  })"
   ]
  },
  {
   "cell_type": "code",
   "execution_count": 15,
   "id": "1ef1a1a2-d93c-43e4-a77d-99c81f44bef2",
   "metadata": {},
   "outputs": [],
   "source": [
    "dict_trust_columns = collections.OrderedDict({\"Pour sélectionner les meilleur•e•s candidat•e•s\": \"trust_best_applicants\",\n",
    "                   \"Pour réduire le risque de discrimination\" : \"trust_discrimination\",\n",
    "                    \"Pour un recrutement plus éthique\": \"trust_ethics\",\n",
    "                    \"Pour diversifier les recrutements\": \"trust_diversity\"\n",
    "                  })"
   ]
  },
  {
   "cell_type": "code",
   "execution_count": 16,
   "id": "8eb0bc95-6ce7-418c-bf75-0749dd679730",
   "metadata": {},
   "outputs": [],
   "source": [
    "dict_acceptance_columns = collections.OrderedDict({\"Lors du tri initial des candidatures\": \"acceptance_sorting_resumes\",\n",
    "                        \"Lors des tests de sélection\": \"acceptance_selection_tests\",\n",
    "                        \"Lors des entretiens individuels\": \"acceptance_interviews\",\n",
    "                        \"Lors de la discussion sur le périmètre de votre poste\": \"acceptance_negotiation\",\n",
    "                        \"Lors de la négociation sur votre rémunération et autres avantages\": \"acceptance_wages_package\",\n",
    "                        \"Lors de la rédaction de votre contrat de travail\": \"acceptance_contract\"\n",
    "                       })"
   ]
  },
  {
   "cell_type": "code",
   "execution_count": 17,
   "id": "bbee795c-575f-41b4-961b-dbf4d07e0061",
   "metadata": {},
   "outputs": [],
   "source": [
    "dict_ethics_columns = collections.OrderedDict({\"Le respect de votre vie privée\": \"ethics_privacy\",\n",
    "                        \"L\\'empreinte carbone de l\\'IA utilisée\": \"ethics_carbon_footprint\",\n",
    "                        \"L\\'absence de toute discrimination\": \"ethics_no_discrimination\",\n",
    "                        \"L\\'équité entre tous les candidats\": \"ethics_fairness_for_applicants\",\n",
    "                        \"Le respect de la diversité\": \"ethics_diversity\"\n",
    "                        })"
   ]
  },
  {
   "cell_type": "code",
   "execution_count": 18,
   "id": "cdfa39dd-827b-4178-88ec-61907167bf30",
   "metadata": {},
   "outputs": [],
   "source": [
    "dict_misc_columns = collections.OrderedDict(\n",
    "    {\"Aimeriez-vous savoir si votre recruteur a prévu d\\'utiliser l\\'IA dans le processus de recrutement ?\": \"misc_recruiter_uses_AI\",\n",
    "    \"Quelle est votre tranche d\\'âge?\": \"misc_age_category\",\n",
    "    \"Donnez votre avis sur une entreprise qui souhaiterait confier ses recrutements à une IA : \": \"misc_free_text\"\n",
    "    })"
   ]
  },
  {
   "cell_type": "markdown",
   "id": "ff2e3ce2-b8a0-48ee-9a84-62e7b93fe7e2",
   "metadata": {},
   "source": [
    "### Renommage des colonnes"
   ]
  },
  {
   "cell_type": "code",
   "execution_count": 19,
   "id": "fec863a7-dd66-4dc5-acb4-3c86a6bc685e",
   "metadata": {},
   "outputs": [],
   "source": [
    "# rename columns dealing with usefulness\n",
    "df = df.rename(columns=dict_usefulness_columns)"
   ]
  },
  {
   "cell_type": "code",
   "execution_count": 20,
   "id": "dc37e2dc-a3bc-458e-b51f-c3ed5f6d19c2",
   "metadata": {},
   "outputs": [],
   "source": [
    "# rename columns dealing with easiness of use\n",
    "df = df.rename(columns=dict_easiness_columns)"
   ]
  },
  {
   "cell_type": "code",
   "execution_count": 21,
   "id": "ec34d08a-86e9-441f-9fcf-5f0917595c1d",
   "metadata": {},
   "outputs": [],
   "source": [
    "# rename columns dealing with trust\n",
    "df = df.rename(columns=dict_trust_columns)"
   ]
  },
  {
   "cell_type": "code",
   "execution_count": 22,
   "id": "c7891194-4bb0-4019-9051-96220f2729db",
   "metadata": {},
   "outputs": [],
   "source": [
    "# rename columns dealing with acceptance\n",
    "df = df.rename(columns=dict_acceptance_columns)"
   ]
  },
  {
   "cell_type": "code",
   "execution_count": 23,
   "id": "a96b8844-cab8-479f-a928-5caeca8aef57",
   "metadata": {},
   "outputs": [],
   "source": [
    "# Rename columns dealing with ethics\n",
    "df = df.rename(columns=dict_ethics_columns)"
   ]
  },
  {
   "cell_type": "code",
   "execution_count": 24,
   "id": "fb6c200b-8c98-487d-9019-be4af8bbdc3a",
   "metadata": {},
   "outputs": [],
   "source": [
    "# Rename miscellaneous questions\n",
    "df = df.rename(columns=dict_misc_columns)"
   ]
  },
  {
   "cell_type": "code",
   "execution_count": 25,
   "id": "35670a58-e799-4e2f-950f-48732b234d62",
   "metadata": {},
   "outputs": [
    {
     "data": {
      "text/html": [
       "<div>\n",
       "<style scoped>\n",
       "    .dataframe tbody tr th:only-of-type {\n",
       "        vertical-align: middle;\n",
       "    }\n",
       "\n",
       "    .dataframe tbody tr th {\n",
       "        vertical-align: top;\n",
       "    }\n",
       "\n",
       "    .dataframe thead th {\n",
       "        text-align: right;\n",
       "    }\n",
       "</style>\n",
       "<table border=\"1\" class=\"dataframe\">\n",
       "  <thead>\n",
       "    <tr style=\"text-align: right;\">\n",
       "      <th></th>\n",
       "      <th>useful_resume_CV</th>\n",
       "      <th>useful_linkedin</th>\n",
       "      <th>useful_interview</th>\n",
       "      <th>useful_intelligence</th>\n",
       "      <th>useful_speedy_response</th>\n",
       "      <th>easiness_generative_AI</th>\n",
       "      <th>easiness_search_engine</th>\n",
       "      <th>easiness_navigation</th>\n",
       "      <th>easiness_business_sciences</th>\n",
       "      <th>trust_best_applicants</th>\n",
       "      <th>...</th>\n",
       "      <th>acceptance_wages_package</th>\n",
       "      <th>acceptance_contract</th>\n",
       "      <th>ethics_privacy</th>\n",
       "      <th>ethics_carbon_footprint</th>\n",
       "      <th>ethics_no_discrimination</th>\n",
       "      <th>ethics_fairness_for_applicants</th>\n",
       "      <th>ethics_diversity</th>\n",
       "      <th>misc_recruiter_uses_AI</th>\n",
       "      <th>misc_age_category</th>\n",
       "      <th>misc_free_text</th>\n",
       "    </tr>\n",
       "  </thead>\n",
       "  <tbody>\n",
       "    <tr>\n",
       "      <th>0</th>\n",
       "      <td>Plutôt opposé</td>\n",
       "      <td>Assez favorable</td>\n",
       "      <td>Totalement opposé</td>\n",
       "      <td>Plutôt opposé</td>\n",
       "      <td>Assez favorable</td>\n",
       "      <td>à l'aise</td>\n",
       "      <td>Plutôt à l'aise</td>\n",
       "      <td>Plutôt à l'aise</td>\n",
       "      <td>Plutôt à l'aise</td>\n",
       "      <td>Très faible</td>\n",
       "      <td>...</td>\n",
       "      <td>Ni réticent, ni favorable</td>\n",
       "      <td>Favorable</td>\n",
       "      <td>C'est plutôt important</td>\n",
       "      <td>C'est important ou secondaire</td>\n",
       "      <td>C'est très important</td>\n",
       "      <td>C'est très important</td>\n",
       "      <td>C'est important ou secondaire</td>\n",
       "      <td>C'est important</td>\n",
       "      <td>25-34 ans</td>\n",
       "      <td>NaN</td>\n",
       "    </tr>\n",
       "    <tr>\n",
       "      <th>1</th>\n",
       "      <td>Totalement opposé</td>\n",
       "      <td>Plutôt opposé</td>\n",
       "      <td>Plutôt opposé</td>\n",
       "      <td>Ni favorable, ni opposé</td>\n",
       "      <td>Ni favorable, ni opposé</td>\n",
       "      <td>Plutôt à l'aise</td>\n",
       "      <td>à l'aise</td>\n",
       "      <td>Plutôt à l'aise</td>\n",
       "      <td>Plutôt à l'aise</td>\n",
       "      <td>Ni faible, ni élevé</td>\n",
       "      <td>...</td>\n",
       "      <td>Très réticent</td>\n",
       "      <td>Réticent</td>\n",
       "      <td>C'est plutôt important</td>\n",
       "      <td>NaN</td>\n",
       "      <td>C'est très important</td>\n",
       "      <td>C'est très important</td>\n",
       "      <td>C'est très important</td>\n",
       "      <td>C'est essentiel</td>\n",
       "      <td>45-54 ans</td>\n",
       "      <td>NaN</td>\n",
       "    </tr>\n",
       "    <tr>\n",
       "      <th>2</th>\n",
       "      <td>Assez favorable</td>\n",
       "      <td>Tout à fait favorable</td>\n",
       "      <td>Tout à fait favorable</td>\n",
       "      <td>Plutôt opposé</td>\n",
       "      <td>Tout à fait favorable</td>\n",
       "      <td>Plutôt à l'aise</td>\n",
       "      <td>Plutôt à l'aise</td>\n",
       "      <td>Ni aisance, ni difficultés</td>\n",
       "      <td>Ni aisance, ni difficultés</td>\n",
       "      <td>Très faible</td>\n",
       "      <td>...</td>\n",
       "      <td>Réticent</td>\n",
       "      <td>Favorable</td>\n",
       "      <td>C'est très important</td>\n",
       "      <td>C'est plutôt secondaire</td>\n",
       "      <td>C'est plutôt important</td>\n",
       "      <td>C'est plutôt important</td>\n",
       "      <td>C'est plutôt important</td>\n",
       "      <td>C'est important</td>\n",
       "      <td>45-54 ans</td>\n",
       "      <td>NaN</td>\n",
       "    </tr>\n",
       "    <tr>\n",
       "      <th>3</th>\n",
       "      <td>Tout à fait favorable</td>\n",
       "      <td>Tout à fait favorable</td>\n",
       "      <td>Tout à fait favorable</td>\n",
       "      <td>Tout à fait favorable</td>\n",
       "      <td>Tout à fait favorable</td>\n",
       "      <td>Plutôt à l'aise</td>\n",
       "      <td>à l'aise</td>\n",
       "      <td>à l'aise</td>\n",
       "      <td>à l'aise</td>\n",
       "      <td>Faible</td>\n",
       "      <td>...</td>\n",
       "      <td>Très réticent</td>\n",
       "      <td>Ni réticent, ni favorable</td>\n",
       "      <td>C'est plutôt important</td>\n",
       "      <td>C'est plutôt secondaire</td>\n",
       "      <td>C'est plutôt important</td>\n",
       "      <td>C'est très important</td>\n",
       "      <td>C'est important ou secondaire</td>\n",
       "      <td>C'est essentiel</td>\n",
       "      <td>55-64 ans</td>\n",
       "      <td>NaN</td>\n",
       "    </tr>\n",
       "    <tr>\n",
       "      <th>4</th>\n",
       "      <td>Ni favorable, ni opposé</td>\n",
       "      <td>Plutôt opposé</td>\n",
       "      <td>Assez favorable</td>\n",
       "      <td>Ni favorable, ni opposé</td>\n",
       "      <td>Ni favorable, ni opposé</td>\n",
       "      <td>Quelques difficultés</td>\n",
       "      <td>En difficulté</td>\n",
       "      <td>En difficulté</td>\n",
       "      <td>Quelques difficultés</td>\n",
       "      <td>Ni faible, ni élevé</td>\n",
       "      <td>...</td>\n",
       "      <td>Réticent</td>\n",
       "      <td>Ni réticent, ni favorable</td>\n",
       "      <td>C'est très secondaire</td>\n",
       "      <td>NaN</td>\n",
       "      <td>C'est très secondaire</td>\n",
       "      <td>C'est très secondaire</td>\n",
       "      <td>C'est très secondaire</td>\n",
       "      <td>C'est essentiel</td>\n",
       "      <td>55-64 ans</td>\n",
       "      <td>Je connais très peu l'IA et dois me faire expl...</td>\n",
       "    </tr>\n",
       "    <tr>\n",
       "      <th>5</th>\n",
       "      <td>Assez favorable</td>\n",
       "      <td>Assez favorable</td>\n",
       "      <td>Assez favorable</td>\n",
       "      <td>Tout à fait favorable</td>\n",
       "      <td>Assez favorable</td>\n",
       "      <td>Ni aisance, ni difficultés</td>\n",
       "      <td>à l'aise</td>\n",
       "      <td>à l'aise</td>\n",
       "      <td>à l'aise</td>\n",
       "      <td>Faible</td>\n",
       "      <td>...</td>\n",
       "      <td>Réticent</td>\n",
       "      <td>Ni réticent, ni favorable</td>\n",
       "      <td>C'est très important</td>\n",
       "      <td>C'est très important</td>\n",
       "      <td>C'est plutôt important</td>\n",
       "      <td>C'est plutôt important</td>\n",
       "      <td>C'est plutôt important</td>\n",
       "      <td>C'est essentiel</td>\n",
       "      <td>55-64 ans</td>\n",
       "      <td>NaN</td>\n",
       "    </tr>\n",
       "    <tr>\n",
       "      <th>6</th>\n",
       "      <td>Assez favorable</td>\n",
       "      <td>Assez favorable</td>\n",
       "      <td>Ni favorable, ni opposé</td>\n",
       "      <td>Assez favorable</td>\n",
       "      <td>Assez favorable</td>\n",
       "      <td>Plutôt à l'aise</td>\n",
       "      <td>à l'aise</td>\n",
       "      <td>à l'aise</td>\n",
       "      <td>Plutôt à l'aise</td>\n",
       "      <td>Ni faible, ni élevé</td>\n",
       "      <td>...</td>\n",
       "      <td>Très réticent</td>\n",
       "      <td>Très réticent</td>\n",
       "      <td>C'est plutôt important</td>\n",
       "      <td>C'est plutôt important</td>\n",
       "      <td>C'est plutôt important</td>\n",
       "      <td>C'est très important</td>\n",
       "      <td>C'est plutôt important</td>\n",
       "      <td>C'est important</td>\n",
       "      <td>25-34 ans</td>\n",
       "      <td>NaN</td>\n",
       "    </tr>\n",
       "    <tr>\n",
       "      <th>7</th>\n",
       "      <td>Tout à fait favorable</td>\n",
       "      <td>Tout à fait favorable</td>\n",
       "      <td>Tout à fait favorable</td>\n",
       "      <td>Tout à fait favorable</td>\n",
       "      <td>Tout à fait favorable</td>\n",
       "      <td>à l'aise</td>\n",
       "      <td>à l'aise</td>\n",
       "      <td>à l'aise</td>\n",
       "      <td>à l'aise</td>\n",
       "      <td>Faible</td>\n",
       "      <td>...</td>\n",
       "      <td>Très réticent</td>\n",
       "      <td>Très réticent</td>\n",
       "      <td>C'est très important</td>\n",
       "      <td>C'est très secondaire</td>\n",
       "      <td>C'est très important</td>\n",
       "      <td>C'est très important</td>\n",
       "      <td>C'est très secondaire</td>\n",
       "      <td>C'est essentiel</td>\n",
       "      <td>55-64 ans</td>\n",
       "      <td>Elle ne vaut pas un clou</td>\n",
       "    </tr>\n",
       "    <tr>\n",
       "      <th>8</th>\n",
       "      <td>Totalement opposé</td>\n",
       "      <td>Totalement opposé</td>\n",
       "      <td>Totalement opposé</td>\n",
       "      <td>Assez favorable</td>\n",
       "      <td>Totalement opposé</td>\n",
       "      <td>Plutôt à l'aise</td>\n",
       "      <td>Plutôt à l'aise</td>\n",
       "      <td>Plutôt à l'aise</td>\n",
       "      <td>Plutôt à l'aise</td>\n",
       "      <td>Très faible</td>\n",
       "      <td>...</td>\n",
       "      <td>Très réticent</td>\n",
       "      <td>Très réticent</td>\n",
       "      <td>C'est très important</td>\n",
       "      <td>C'est très secondaire</td>\n",
       "      <td>C'est très secondaire</td>\n",
       "      <td>C'est très secondaire</td>\n",
       "      <td>C'est très secondaire</td>\n",
       "      <td>C'est essentiel</td>\n",
       "      <td>55-64 ans</td>\n",
       "      <td>Cela caractérise le niveau de servilité du rec...</td>\n",
       "    </tr>\n",
       "    <tr>\n",
       "      <th>9</th>\n",
       "      <td>Assez favorable</td>\n",
       "      <td>Tout à fait favorable</td>\n",
       "      <td>Ni favorable, ni opposé</td>\n",
       "      <td>Tout à fait favorable</td>\n",
       "      <td>Assez favorable</td>\n",
       "      <td>Ni aisance, ni difficultés</td>\n",
       "      <td>Plutôt à l'aise</td>\n",
       "      <td>Plutôt à l'aise</td>\n",
       "      <td>Plutôt à l'aise</td>\n",
       "      <td>Faible</td>\n",
       "      <td>...</td>\n",
       "      <td>Très réticent</td>\n",
       "      <td>Favorable</td>\n",
       "      <td>C'est très important</td>\n",
       "      <td>C'est plutôt secondaire</td>\n",
       "      <td>C'est plutôt important</td>\n",
       "      <td>C'est très important</td>\n",
       "      <td>C'est important ou secondaire</td>\n",
       "      <td>C'est important</td>\n",
       "      <td>55-64 ans</td>\n",
       "      <td>NaN</td>\n",
       "    </tr>\n",
       "  </tbody>\n",
       "</table>\n",
       "<p>10 rows × 27 columns</p>\n",
       "</div>"
      ],
      "text/plain": [
       "          useful_resume_CV        useful_linkedin         useful_interview  \\\n",
       "0            Plutôt opposé        Assez favorable        Totalement opposé   \n",
       "1        Totalement opposé          Plutôt opposé            Plutôt opposé   \n",
       "2          Assez favorable  Tout à fait favorable    Tout à fait favorable   \n",
       "3    Tout à fait favorable  Tout à fait favorable    Tout à fait favorable   \n",
       "4  Ni favorable, ni opposé          Plutôt opposé          Assez favorable   \n",
       "5          Assez favorable        Assez favorable          Assez favorable   \n",
       "6          Assez favorable        Assez favorable  Ni favorable, ni opposé   \n",
       "7    Tout à fait favorable  Tout à fait favorable    Tout à fait favorable   \n",
       "8        Totalement opposé      Totalement opposé        Totalement opposé   \n",
       "9          Assez favorable  Tout à fait favorable  Ni favorable, ni opposé   \n",
       "\n",
       "       useful_intelligence   useful_speedy_response  \\\n",
       "0            Plutôt opposé          Assez favorable   \n",
       "1  Ni favorable, ni opposé  Ni favorable, ni opposé   \n",
       "2            Plutôt opposé    Tout à fait favorable   \n",
       "3    Tout à fait favorable    Tout à fait favorable   \n",
       "4  Ni favorable, ni opposé  Ni favorable, ni opposé   \n",
       "5    Tout à fait favorable          Assez favorable   \n",
       "6          Assez favorable          Assez favorable   \n",
       "7    Tout à fait favorable    Tout à fait favorable   \n",
       "8          Assez favorable        Totalement opposé   \n",
       "9    Tout à fait favorable          Assez favorable   \n",
       "\n",
       "       easiness_generative_AI easiness_search_engine  \\\n",
       "0                    à l'aise        Plutôt à l'aise   \n",
       "1             Plutôt à l'aise               à l'aise   \n",
       "2             Plutôt à l'aise        Plutôt à l'aise   \n",
       "3             Plutôt à l'aise               à l'aise   \n",
       "4        Quelques difficultés          En difficulté   \n",
       "5  Ni aisance, ni difficultés               à l'aise   \n",
       "6             Plutôt à l'aise               à l'aise   \n",
       "7                    à l'aise               à l'aise   \n",
       "8             Plutôt à l'aise        Plutôt à l'aise   \n",
       "9  Ni aisance, ni difficultés        Plutôt à l'aise   \n",
       "\n",
       "          easiness_navigation  easiness_business_sciences  \\\n",
       "0             Plutôt à l'aise             Plutôt à l'aise   \n",
       "1             Plutôt à l'aise             Plutôt à l'aise   \n",
       "2  Ni aisance, ni difficultés  Ni aisance, ni difficultés   \n",
       "3                    à l'aise                    à l'aise   \n",
       "4               En difficulté        Quelques difficultés   \n",
       "5                    à l'aise                    à l'aise   \n",
       "6                    à l'aise             Plutôt à l'aise   \n",
       "7                    à l'aise                    à l'aise   \n",
       "8             Plutôt à l'aise             Plutôt à l'aise   \n",
       "9             Plutôt à l'aise             Plutôt à l'aise   \n",
       "\n",
       "  trust_best_applicants  ...   acceptance_wages_package  \\\n",
       "0           Très faible  ...  Ni réticent, ni favorable   \n",
       "1   Ni faible, ni élevé  ...              Très réticent   \n",
       "2           Très faible  ...                   Réticent   \n",
       "3                Faible  ...              Très réticent   \n",
       "4   Ni faible, ni élevé  ...                   Réticent   \n",
       "5                Faible  ...                   Réticent   \n",
       "6   Ni faible, ni élevé  ...              Très réticent   \n",
       "7                Faible  ...              Très réticent   \n",
       "8           Très faible  ...              Très réticent   \n",
       "9                Faible  ...              Très réticent   \n",
       "\n",
       "         acceptance_contract          ethics_privacy  \\\n",
       "0                  Favorable  C'est plutôt important   \n",
       "1                   Réticent  C'est plutôt important   \n",
       "2                  Favorable    C'est très important   \n",
       "3  Ni réticent, ni favorable  C'est plutôt important   \n",
       "4  Ni réticent, ni favorable   C'est très secondaire   \n",
       "5  Ni réticent, ni favorable    C'est très important   \n",
       "6              Très réticent  C'est plutôt important   \n",
       "7              Très réticent    C'est très important   \n",
       "8              Très réticent    C'est très important   \n",
       "9                  Favorable    C'est très important   \n",
       "\n",
       "         ethics_carbon_footprint ethics_no_discrimination  \\\n",
       "0  C'est important ou secondaire     C'est très important   \n",
       "1                            NaN     C'est très important   \n",
       "2        C'est plutôt secondaire   C'est plutôt important   \n",
       "3        C'est plutôt secondaire   C'est plutôt important   \n",
       "4                            NaN    C'est très secondaire   \n",
       "5           C'est très important   C'est plutôt important   \n",
       "6         C'est plutôt important   C'est plutôt important   \n",
       "7          C'est très secondaire     C'est très important   \n",
       "8          C'est très secondaire    C'est très secondaire   \n",
       "9        C'est plutôt secondaire   C'est plutôt important   \n",
       "\n",
       "  ethics_fairness_for_applicants               ethics_diversity  \\\n",
       "0           C'est très important  C'est important ou secondaire   \n",
       "1           C'est très important           C'est très important   \n",
       "2         C'est plutôt important         C'est plutôt important   \n",
       "3           C'est très important  C'est important ou secondaire   \n",
       "4          C'est très secondaire          C'est très secondaire   \n",
       "5         C'est plutôt important         C'est plutôt important   \n",
       "6           C'est très important         C'est plutôt important   \n",
       "7           C'est très important          C'est très secondaire   \n",
       "8          C'est très secondaire          C'est très secondaire   \n",
       "9           C'est très important  C'est important ou secondaire   \n",
       "\n",
       "  misc_recruiter_uses_AI misc_age_category  \\\n",
       "0        C'est important         25-34 ans   \n",
       "1        C'est essentiel         45-54 ans   \n",
       "2        C'est important         45-54 ans   \n",
       "3        C'est essentiel         55-64 ans   \n",
       "4        C'est essentiel         55-64 ans   \n",
       "5        C'est essentiel         55-64 ans   \n",
       "6        C'est important         25-34 ans   \n",
       "7        C'est essentiel         55-64 ans   \n",
       "8        C'est essentiel         55-64 ans   \n",
       "9        C'est important         55-64 ans   \n",
       "\n",
       "                                      misc_free_text  \n",
       "0                                                NaN  \n",
       "1                                                NaN  \n",
       "2                                                NaN  \n",
       "3                                                NaN  \n",
       "4  Je connais très peu l'IA et dois me faire expl...  \n",
       "5                                                NaN  \n",
       "6                                                NaN  \n",
       "7                           Elle ne vaut pas un clou  \n",
       "8  Cela caractérise le niveau de servilité du rec...  \n",
       "9                                                NaN  \n",
       "\n",
       "[10 rows x 27 columns]"
      ]
     },
     "execution_count": 25,
     "metadata": {},
     "output_type": "execute_result"
    }
   ],
   "source": [
    "df.head(10)"
   ]
  },
  {
   "cell_type": "markdown",
   "id": "54a336ee-9fb4-461b-81db-ecc7c714581a",
   "metadata": {},
   "source": [
    "### Création de Dataframes spécialisés"
   ]
  },
  {
   "cell_type": "code",
   "execution_count": 26,
   "id": "ee07fdb7-807a-4d8f-a5a8-b91ca24b74e2",
   "metadata": {},
   "outputs": [
    {
     "data": {
      "text/html": [
       "<div>\n",
       "<style scoped>\n",
       "    .dataframe tbody tr th:only-of-type {\n",
       "        vertical-align: middle;\n",
       "    }\n",
       "\n",
       "    .dataframe tbody tr th {\n",
       "        vertical-align: top;\n",
       "    }\n",
       "\n",
       "    .dataframe thead th {\n",
       "        text-align: right;\n",
       "    }\n",
       "</style>\n",
       "<table border=\"1\" class=\"dataframe\">\n",
       "  <thead>\n",
       "    <tr style=\"text-align: right;\">\n",
       "      <th></th>\n",
       "      <th>useful_resume_CV</th>\n",
       "      <th>useful_linkedin</th>\n",
       "      <th>useful_interview</th>\n",
       "      <th>useful_intelligence</th>\n",
       "      <th>useful_speedy_response</th>\n",
       "    </tr>\n",
       "  </thead>\n",
       "  <tbody>\n",
       "    <tr>\n",
       "      <th>0</th>\n",
       "      <td>Plutôt opposé</td>\n",
       "      <td>Assez favorable</td>\n",
       "      <td>Totalement opposé</td>\n",
       "      <td>Plutôt opposé</td>\n",
       "      <td>Assez favorable</td>\n",
       "    </tr>\n",
       "    <tr>\n",
       "      <th>1</th>\n",
       "      <td>Totalement opposé</td>\n",
       "      <td>Plutôt opposé</td>\n",
       "      <td>Plutôt opposé</td>\n",
       "      <td>Ni favorable, ni opposé</td>\n",
       "      <td>Ni favorable, ni opposé</td>\n",
       "    </tr>\n",
       "    <tr>\n",
       "      <th>2</th>\n",
       "      <td>Assez favorable</td>\n",
       "      <td>Tout à fait favorable</td>\n",
       "      <td>Tout à fait favorable</td>\n",
       "      <td>Plutôt opposé</td>\n",
       "      <td>Tout à fait favorable</td>\n",
       "    </tr>\n",
       "    <tr>\n",
       "      <th>3</th>\n",
       "      <td>Tout à fait favorable</td>\n",
       "      <td>Tout à fait favorable</td>\n",
       "      <td>Tout à fait favorable</td>\n",
       "      <td>Tout à fait favorable</td>\n",
       "      <td>Tout à fait favorable</td>\n",
       "    </tr>\n",
       "    <tr>\n",
       "      <th>4</th>\n",
       "      <td>Ni favorable, ni opposé</td>\n",
       "      <td>Plutôt opposé</td>\n",
       "      <td>Assez favorable</td>\n",
       "      <td>Ni favorable, ni opposé</td>\n",
       "      <td>Ni favorable, ni opposé</td>\n",
       "    </tr>\n",
       "    <tr>\n",
       "      <th>...</th>\n",
       "      <td>...</td>\n",
       "      <td>...</td>\n",
       "      <td>...</td>\n",
       "      <td>...</td>\n",
       "      <td>...</td>\n",
       "    </tr>\n",
       "    <tr>\n",
       "      <th>156</th>\n",
       "      <td>Assez favorable</td>\n",
       "      <td>Ni favorable, ni opposé</td>\n",
       "      <td>Tout à fait favorable</td>\n",
       "      <td>Plutôt opposé</td>\n",
       "      <td>Assez favorable</td>\n",
       "    </tr>\n",
       "    <tr>\n",
       "      <th>157</th>\n",
       "      <td>Tout à fait favorable</td>\n",
       "      <td>Tout à fait favorable</td>\n",
       "      <td>Tout à fait favorable</td>\n",
       "      <td>Tout à fait favorable</td>\n",
       "      <td>Tout à fait favorable</td>\n",
       "    </tr>\n",
       "    <tr>\n",
       "      <th>158</th>\n",
       "      <td>Assez favorable</td>\n",
       "      <td>Assez favorable</td>\n",
       "      <td>Tout à fait favorable</td>\n",
       "      <td>Tout à fait favorable</td>\n",
       "      <td>Assez favorable</td>\n",
       "    </tr>\n",
       "    <tr>\n",
       "      <th>159</th>\n",
       "      <td>Tout à fait favorable</td>\n",
       "      <td>Assez favorable</td>\n",
       "      <td>Assez favorable</td>\n",
       "      <td>Ni favorable, ni opposé</td>\n",
       "      <td>Tout à fait favorable</td>\n",
       "    </tr>\n",
       "    <tr>\n",
       "      <th>160</th>\n",
       "      <td>Assez favorable</td>\n",
       "      <td>Assez favorable</td>\n",
       "      <td>Assez favorable</td>\n",
       "      <td>Ni favorable, ni opposé</td>\n",
       "      <td>Ni favorable, ni opposé</td>\n",
       "    </tr>\n",
       "  </tbody>\n",
       "</table>\n",
       "<p>161 rows × 5 columns</p>\n",
       "</div>"
      ],
      "text/plain": [
       "            useful_resume_CV          useful_linkedin       useful_interview  \\\n",
       "0              Plutôt opposé          Assez favorable      Totalement opposé   \n",
       "1          Totalement opposé            Plutôt opposé          Plutôt opposé   \n",
       "2            Assez favorable    Tout à fait favorable  Tout à fait favorable   \n",
       "3      Tout à fait favorable    Tout à fait favorable  Tout à fait favorable   \n",
       "4    Ni favorable, ni opposé            Plutôt opposé        Assez favorable   \n",
       "..                       ...                      ...                    ...   \n",
       "156          Assez favorable  Ni favorable, ni opposé  Tout à fait favorable   \n",
       "157    Tout à fait favorable    Tout à fait favorable  Tout à fait favorable   \n",
       "158          Assez favorable          Assez favorable  Tout à fait favorable   \n",
       "159    Tout à fait favorable          Assez favorable        Assez favorable   \n",
       "160          Assez favorable          Assez favorable        Assez favorable   \n",
       "\n",
       "         useful_intelligence   useful_speedy_response  \n",
       "0              Plutôt opposé          Assez favorable  \n",
       "1    Ni favorable, ni opposé  Ni favorable, ni opposé  \n",
       "2              Plutôt opposé    Tout à fait favorable  \n",
       "3      Tout à fait favorable    Tout à fait favorable  \n",
       "4    Ni favorable, ni opposé  Ni favorable, ni opposé  \n",
       "..                       ...                      ...  \n",
       "156            Plutôt opposé          Assez favorable  \n",
       "157    Tout à fait favorable    Tout à fait favorable  \n",
       "158    Tout à fait favorable          Assez favorable  \n",
       "159  Ni favorable, ni opposé    Tout à fait favorable  \n",
       "160  Ni favorable, ni opposé  Ni favorable, ni opposé  \n",
       "\n",
       "[161 rows x 5 columns]"
      ]
     },
     "execution_count": 26,
     "metadata": {},
     "output_type": "execute_result"
    }
   ],
   "source": [
    "# Création d'un Dataframe avec les colonnes liées à l'utilité perçue\n",
    "df_usefulness = df[list(dict_usefulness_columns.values())]\n",
    "df_usefulness"
   ]
  },
  {
   "cell_type": "code",
   "execution_count": 27,
   "id": "e2fa95a5-b4a4-4428-9453-bfc11ed457ef",
   "metadata": {},
   "outputs": [
    {
     "data": {
      "text/html": [
       "<div>\n",
       "<style scoped>\n",
       "    .dataframe tbody tr th:only-of-type {\n",
       "        vertical-align: middle;\n",
       "    }\n",
       "\n",
       "    .dataframe tbody tr th {\n",
       "        vertical-align: top;\n",
       "    }\n",
       "\n",
       "    .dataframe thead th {\n",
       "        text-align: right;\n",
       "    }\n",
       "</style>\n",
       "<table border=\"1\" class=\"dataframe\">\n",
       "  <thead>\n",
       "    <tr style=\"text-align: right;\">\n",
       "      <th></th>\n",
       "      <th>easiness_generative_AI</th>\n",
       "      <th>easiness_search_engine</th>\n",
       "      <th>easiness_navigation</th>\n",
       "      <th>easiness_business_sciences</th>\n",
       "    </tr>\n",
       "  </thead>\n",
       "  <tbody>\n",
       "    <tr>\n",
       "      <th>0</th>\n",
       "      <td>à l'aise</td>\n",
       "      <td>Plutôt à l'aise</td>\n",
       "      <td>Plutôt à l'aise</td>\n",
       "      <td>Plutôt à l'aise</td>\n",
       "    </tr>\n",
       "    <tr>\n",
       "      <th>1</th>\n",
       "      <td>Plutôt à l'aise</td>\n",
       "      <td>à l'aise</td>\n",
       "      <td>Plutôt à l'aise</td>\n",
       "      <td>Plutôt à l'aise</td>\n",
       "    </tr>\n",
       "    <tr>\n",
       "      <th>2</th>\n",
       "      <td>Plutôt à l'aise</td>\n",
       "      <td>Plutôt à l'aise</td>\n",
       "      <td>Ni aisance, ni difficultés</td>\n",
       "      <td>Ni aisance, ni difficultés</td>\n",
       "    </tr>\n",
       "    <tr>\n",
       "      <th>3</th>\n",
       "      <td>Plutôt à l'aise</td>\n",
       "      <td>à l'aise</td>\n",
       "      <td>à l'aise</td>\n",
       "      <td>à l'aise</td>\n",
       "    </tr>\n",
       "    <tr>\n",
       "      <th>4</th>\n",
       "      <td>Quelques difficultés</td>\n",
       "      <td>En difficulté</td>\n",
       "      <td>En difficulté</td>\n",
       "      <td>Quelques difficultés</td>\n",
       "    </tr>\n",
       "    <tr>\n",
       "      <th>...</th>\n",
       "      <td>...</td>\n",
       "      <td>...</td>\n",
       "      <td>...</td>\n",
       "      <td>...</td>\n",
       "    </tr>\n",
       "    <tr>\n",
       "      <th>156</th>\n",
       "      <td>à l'aise</td>\n",
       "      <td>à l'aise</td>\n",
       "      <td>à l'aise</td>\n",
       "      <td>à l'aise</td>\n",
       "    </tr>\n",
       "    <tr>\n",
       "      <th>157</th>\n",
       "      <td>à l'aise</td>\n",
       "      <td>Plutôt à l'aise</td>\n",
       "      <td>Plutôt à l'aise</td>\n",
       "      <td>à l'aise</td>\n",
       "    </tr>\n",
       "    <tr>\n",
       "      <th>158</th>\n",
       "      <td>à l'aise</td>\n",
       "      <td>à l'aise</td>\n",
       "      <td>à l'aise</td>\n",
       "      <td>à l'aise</td>\n",
       "    </tr>\n",
       "    <tr>\n",
       "      <th>159</th>\n",
       "      <td>à l'aise</td>\n",
       "      <td>à l'aise</td>\n",
       "      <td>à l'aise</td>\n",
       "      <td>Plutôt à l'aise</td>\n",
       "    </tr>\n",
       "    <tr>\n",
       "      <th>160</th>\n",
       "      <td>à l'aise</td>\n",
       "      <td>à l'aise</td>\n",
       "      <td>à l'aise</td>\n",
       "      <td>Plutôt à l'aise</td>\n",
       "    </tr>\n",
       "  </tbody>\n",
       "</table>\n",
       "<p>161 rows × 4 columns</p>\n",
       "</div>"
      ],
      "text/plain": [
       "    easiness_generative_AI easiness_search_engine         easiness_navigation  \\\n",
       "0                 à l'aise        Plutôt à l'aise             Plutôt à l'aise   \n",
       "1          Plutôt à l'aise               à l'aise             Plutôt à l'aise   \n",
       "2          Plutôt à l'aise        Plutôt à l'aise  Ni aisance, ni difficultés   \n",
       "3          Plutôt à l'aise               à l'aise                    à l'aise   \n",
       "4     Quelques difficultés          En difficulté               En difficulté   \n",
       "..                     ...                    ...                         ...   \n",
       "156               à l'aise               à l'aise                    à l'aise   \n",
       "157               à l'aise        Plutôt à l'aise             Plutôt à l'aise   \n",
       "158               à l'aise               à l'aise                    à l'aise   \n",
       "159               à l'aise               à l'aise                    à l'aise   \n",
       "160               à l'aise               à l'aise                    à l'aise   \n",
       "\n",
       "     easiness_business_sciences  \n",
       "0               Plutôt à l'aise  \n",
       "1               Plutôt à l'aise  \n",
       "2    Ni aisance, ni difficultés  \n",
       "3                      à l'aise  \n",
       "4          Quelques difficultés  \n",
       "..                          ...  \n",
       "156                    à l'aise  \n",
       "157                    à l'aise  \n",
       "158                    à l'aise  \n",
       "159             Plutôt à l'aise  \n",
       "160             Plutôt à l'aise  \n",
       "\n",
       "[161 rows x 4 columns]"
      ]
     },
     "execution_count": 27,
     "metadata": {},
     "output_type": "execute_result"
    }
   ],
   "source": [
    "# Création d'un Dataframe avec les colonnes liées à la facilité d'usage\n",
    "df_easiness = df[list(dict_easiness_columns.values())]\n",
    "df_easiness"
   ]
  },
  {
   "cell_type": "code",
   "execution_count": 28,
   "id": "6910b7eb-9e5e-4070-92d8-7a272b320c02",
   "metadata": {},
   "outputs": [],
   "source": [
    "# Création d'un Dataframe avec les colonnes liées à la confiance\n",
    "df_trust = df[list(dict_trust_columns.values())]"
   ]
  },
  {
   "cell_type": "code",
   "execution_count": 29,
   "id": "2c19803b-6abf-44b2-b985-123a1ce46f5a",
   "metadata": {},
   "outputs": [],
   "source": [
    "# Création d'un Dataframe avec les colonnes liées à l'acceptation\n",
    "df_acceptance = df[list(dict_acceptance_columns.values())]"
   ]
  },
  {
   "cell_type": "code",
   "execution_count": 30,
   "id": "f4139ce4-ca2b-483e-83ce-6640f2164014",
   "metadata": {},
   "outputs": [],
   "source": [
    "# Création d'un Dataframe avec les colonnes liées à l'éthique\n",
    "df_ethics = df[list(dict_ethics_columns.values())]"
   ]
  },
  {
   "cell_type": "markdown",
   "id": "1e17cacb-6cc3-4e57-8781-ad37059a9826",
   "metadata": {},
   "source": [
    "#### Création d'un Dataframe sur l'âge et l'acceptation"
   ]
  },
  {
   "cell_type": "code",
   "execution_count": 31,
   "id": "181b44d5-e23b-4d70-a79b-a45a33cfeb9a",
   "metadata": {},
   "outputs": [],
   "source": [
    "df_age_acceptance = df[[\"misc_age_category\", \"acceptance_sorting_resumes\", \"acceptance_selection_tests\", \"acceptance_interviews\", \"acceptance_negotiation\", \"acceptance_wages_package\", \"acceptance_contract\"]]"
   ]
  },
  {
   "cell_type": "code",
   "execution_count": 32,
   "id": "3f7c1306-f107-40aa-8c9f-a58264f476e4",
   "metadata": {},
   "outputs": [
    {
     "data": {
      "text/html": [
       "<div>\n",
       "<style scoped>\n",
       "    .dataframe tbody tr th:only-of-type {\n",
       "        vertical-align: middle;\n",
       "    }\n",
       "\n",
       "    .dataframe tbody tr th {\n",
       "        vertical-align: top;\n",
       "    }\n",
       "\n",
       "    .dataframe thead th {\n",
       "        text-align: right;\n",
       "    }\n",
       "</style>\n",
       "<table border=\"1\" class=\"dataframe\">\n",
       "  <thead>\n",
       "    <tr style=\"text-align: right;\">\n",
       "      <th></th>\n",
       "      <th>misc_age_category</th>\n",
       "      <th>acceptance_sorting_resumes</th>\n",
       "      <th>acceptance_selection_tests</th>\n",
       "      <th>acceptance_interviews</th>\n",
       "      <th>acceptance_negotiation</th>\n",
       "      <th>acceptance_wages_package</th>\n",
       "      <th>acceptance_contract</th>\n",
       "    </tr>\n",
       "  </thead>\n",
       "  <tbody>\n",
       "    <tr>\n",
       "      <th>0</th>\n",
       "      <td>25-34 ans</td>\n",
       "      <td>Ni réticent, ni favorable</td>\n",
       "      <td>Réticent</td>\n",
       "      <td>Très réticent</td>\n",
       "      <td>Favorable</td>\n",
       "      <td>Ni réticent, ni favorable</td>\n",
       "      <td>Favorable</td>\n",
       "    </tr>\n",
       "    <tr>\n",
       "      <th>1</th>\n",
       "      <td>45-54 ans</td>\n",
       "      <td>Ni réticent, ni favorable</td>\n",
       "      <td>Réticent</td>\n",
       "      <td>Très réticent</td>\n",
       "      <td>Réticent</td>\n",
       "      <td>Très réticent</td>\n",
       "      <td>Réticent</td>\n",
       "    </tr>\n",
       "    <tr>\n",
       "      <th>2</th>\n",
       "      <td>45-54 ans</td>\n",
       "      <td>Réticent</td>\n",
       "      <td>Réticent</td>\n",
       "      <td>Réticent</td>\n",
       "      <td>Réticent</td>\n",
       "      <td>Réticent</td>\n",
       "      <td>Favorable</td>\n",
       "    </tr>\n",
       "    <tr>\n",
       "      <th>3</th>\n",
       "      <td>55-64 ans</td>\n",
       "      <td>Réticent</td>\n",
       "      <td>Ni réticent, ni favorable</td>\n",
       "      <td>Réticent</td>\n",
       "      <td>Très réticent</td>\n",
       "      <td>Très réticent</td>\n",
       "      <td>Ni réticent, ni favorable</td>\n",
       "    </tr>\n",
       "    <tr>\n",
       "      <th>4</th>\n",
       "      <td>55-64 ans</td>\n",
       "      <td>Réticent</td>\n",
       "      <td>Réticent</td>\n",
       "      <td>Très réticent</td>\n",
       "      <td>Très réticent</td>\n",
       "      <td>Réticent</td>\n",
       "      <td>Ni réticent, ni favorable</td>\n",
       "    </tr>\n",
       "  </tbody>\n",
       "</table>\n",
       "</div>"
      ],
      "text/plain": [
       "  misc_age_category acceptance_sorting_resumes acceptance_selection_tests  \\\n",
       "0         25-34 ans  Ni réticent, ni favorable                   Réticent   \n",
       "1         45-54 ans  Ni réticent, ni favorable                   Réticent   \n",
       "2         45-54 ans                   Réticent                   Réticent   \n",
       "3         55-64 ans                   Réticent  Ni réticent, ni favorable   \n",
       "4         55-64 ans                   Réticent                   Réticent   \n",
       "\n",
       "  acceptance_interviews acceptance_negotiation   acceptance_wages_package  \\\n",
       "0         Très réticent              Favorable  Ni réticent, ni favorable   \n",
       "1         Très réticent               Réticent              Très réticent   \n",
       "2              Réticent               Réticent                   Réticent   \n",
       "3              Réticent          Très réticent              Très réticent   \n",
       "4         Très réticent          Très réticent                   Réticent   \n",
       "\n",
       "         acceptance_contract  \n",
       "0                  Favorable  \n",
       "1                   Réticent  \n",
       "2                  Favorable  \n",
       "3  Ni réticent, ni favorable  \n",
       "4  Ni réticent, ni favorable  "
      ]
     },
     "execution_count": 32,
     "metadata": {},
     "output_type": "execute_result"
    }
   ],
   "source": [
    "df_age_acceptance.head()"
   ]
  },
  {
   "cell_type": "markdown",
   "id": "69053acf-5132-4f08-9ecd-ad095a3afb38",
   "metadata": {},
   "source": [
    "#### Création d'un dataframe avec les réponses en texte libre"
   ]
  },
  {
   "cell_type": "code",
   "execution_count": 33,
   "id": "dda1d463-7e45-4e7f-9bf8-eadd2dfa533a",
   "metadata": {},
   "outputs": [
    {
     "data": {
      "text/plain": [
       "0                                                  NaN\n",
       "1                                                  NaN\n",
       "2                                                  NaN\n",
       "3                                                  NaN\n",
       "4    Je connais très peu l'IA et dois me faire expl...\n",
       "Name: misc_free_text, dtype: object"
      ]
     },
     "execution_count": 33,
     "metadata": {},
     "output_type": "execute_result"
    }
   ],
   "source": [
    "df_verbatim = df[\"misc_free_text\"]\n",
    "df_verbatim.head()"
   ]
  },
  {
   "cell_type": "code",
   "execution_count": 34,
   "id": "984a4614-59cd-4fe0-a79d-fc8185c5c8d4",
   "metadata": {},
   "outputs": [],
   "source": [
    "# Retrait de la colonne Verbatim du Dataframe\n",
    "df = df.drop(\"misc_free_text\", axis=1)"
   ]
  },
  {
   "cell_type": "markdown",
   "id": "9986774c-9916-40fb-86d6-b4c5d1c4d766",
   "metadata": {},
   "source": [
    "### Nombre de réponses par âge"
   ]
  },
  {
   "cell_type": "code",
   "execution_count": 35,
   "id": "6329caaf-1999-4a50-a120-ecfba8f77937",
   "metadata": {},
   "outputs": [
    {
     "data": {
      "text/plain": [
       "misc_age_category\n",
       "18-24 ans    30\n",
       "25-34 ans    24\n",
       "35-44 ans    21\n",
       "45-54 ans    26\n",
       "55-64 ans    60\n",
       "Name: count, dtype: int64"
      ]
     },
     "execution_count": 35,
     "metadata": {},
     "output_type": "execute_result"
    }
   ],
   "source": [
    "age_counts = df['misc_age_category'].value_counts().sort_index()\n",
    "age_counts"
   ]
  },
  {
   "cell_type": "code",
   "execution_count": 36,
   "id": "da88d86b-f0dc-433c-b58c-4bd147ccdf13",
   "metadata": {},
   "outputs": [
    {
     "data": {
      "text/plain": [
       "46.58385093167702"
      ]
     },
     "execution_count": 36,
     "metadata": {},
     "output_type": "execute_result"
    }
   ],
   "source": [
    "((30 + 24 +21)/161)*100"
   ]
  },
  {
   "cell_type": "code",
   "execution_count": 37,
   "id": "b2cda270-c0f6-419b-991e-f2adaed1fb3c",
   "metadata": {},
   "outputs": [
    {
     "data": {
      "image/png": "[encoded data removed]",
      "text/plain": [
       "<Figure size 1000x600 with 1 Axes>"
      ]
     },
     "metadata": {},
     "output_type": "display_data"
    }
   ],
   "source": [
    "# Dessiner un graphique en barres\n",
    "plt.figure(figsize=(10, 6))\n",
    "age_counts.plot(kind='bar', color='blue')\n",
    "plt.xlabel(\"Catégorie d'âge\")\n",
    "plt.ylabel(\"Effectif\")\n",
    "plt.title(\"Distribution des catégories d'âge\")\n",
    "plt.show()"
   ]
  },
  {
   "cell_type": "markdown",
   "id": "d88191f7-9773-491e-87ef-702ae89ceada",
   "metadata": {},
   "source": [
    "## Remplacement dans les réponses des valeurs alphanumériques par des valeurs numériques"
   ]
  },
  {
   "cell_type": "markdown",
   "id": "798e4772-54fb-4aff-8369-9f25f69275fa",
   "metadata": {},
   "source": [
    "### Définition des valeurs numériques de remplacement"
   ]
  },
  {
   "cell_type": "markdown",
   "id": "da685767-31cb-4220-8930-a0fc5afa7813",
   "metadata": {},
   "source": [
    "**L'échelle de Likert à 5 valeurs est utilisée. La valeur neutre est toujours la 3ème** <br>\n",
    "**La valeur ayant la connotattion la plus négative et/ou secondaire est égale à 1, la valeur la plus positive et/ou importante est égale à 5**\n"
   ]
  },
  {
   "cell_type": "code",
   "execution_count": 38,
   "id": "988abeea-9013-4f53-92be-11a2cf319ed3",
   "metadata": {},
   "outputs": [],
   "source": [
    "likert_mapping_usefulness = {\"Totalement opposé\":1,\n",
    "                    \"Plutôt opposé\":2,\n",
    "                    \"Ni favorable, ni opposé\":3,\n",
    "                    \"Assez favorable\":4,\n",
    "                    \"Tout à fait favorable\":5}\n",
    "\n",
    "likert_mapping_easiness = {\"à l\\'aise\":5,\n",
    "                    \"Plutôt à l\\'aise\":4,\n",
    "                    \"Ni aisance, ni difficultés\":3,\n",
    "                    \"Quelques difficultés\":2,\n",
    "                    \"En difficulté\":1}\n",
    "\n",
    "likert_mapping_trust = {\"Très faible\":1,\n",
    "                        \"Faible\":2,\n",
    "                        \"Ni faible, ni élevé\":3,\n",
    "                        \"Elevé\":4,\n",
    "                        \"Très élevé\":5}\n",
    "\n",
    "likert_mapping_acceptance = {\"Très réticent\":1,\n",
    "                            \"Réticent\":2,\n",
    "                            \"Ni réticent, ni favorable\":3,\n",
    "                            \"Favorable\":4,\n",
    "                            \"Très favorable\":5}\n",
    "\n",
    "likert_mapping_ethics = {\"C\\'est très important\":5,\n",
    "                        \"C\\'est plutôt important\":4,\n",
    "                        \"C\\'est important ou secondaire\":3,\n",
    "                        \"C\\'est plutôt secondaire\":2,\n",
    "                        \"C\\'est très secondaire\":1}\n",
    "\n",
    "likert_mapping_AI_hiring = {\"C\\'est essentiel\":5,\n",
    "                            \"C\\'est important\":4,\n",
    "                            \"Cela dépend\":3,\n",
    "                            \"C\\'est secondaire\":2,\n",
    "                            \"C\\'est sans intérêt\":1}\n",
    "\n",
    "likert_mapping_age_category = {\"18-24 ans\": 1,\n",
    "                                \"25-34 ans\": 2,\n",
    "                                \"35-44 ans\": 3,\n",
    "                                \"45-54 ans\": 4,\n",
    "                                \"55-64 ans\": 5,\n",
    "                                \"65 ans et plus\": 6}"
   ]
  },
  {
   "cell_type": "markdown",
   "id": "dbb721a6-e9ee-4270-9110-0d785d1f7f8c",
   "metadata": {},
   "source": [
    "### Conversion des résultats alphanumériques en valeurs numériques"
   ]
  },
  {
   "cell_type": "code",
   "execution_count": 39,
   "id": "53b39086-d0d9-4ce7-8c3e-dcd2362ca884",
   "metadata": {},
   "outputs": [
    {
     "name": "stdout",
     "output_type": "stream",
     "text": [
      "['useful_resume_CV', 'useful_linkedin', 'useful_interview', 'useful_intelligence', 'useful_speedy_response']\n"
     ]
    },
    {
     "name": "stderr",
     "output_type": "stream",
     "text": [
      "/var/folders/s7/p8pn64651j3gbhq2mkzzm52m0000gn/T/ipykernel_53698/2900610947.py:4: FutureWarning: Downcasting behavior in `replace` is deprecated and will be removed in a future version. To retain the old behavior, explicitly call `result.infer_objects(copy=False)`. To opt-in to the future behavior, set `pd.set_option('future.no_silent_downcasting', True)`\n",
      "  df[usefulness_columns] = df[usefulness_columns].replace(likert_mapping_usefulness)\n"
     ]
    }
   ],
   "source": [
    "# Replace values in usefulness columns\n",
    "usefulness_columns = list(dict_usefulness_columns.values())\n",
    "print(usefulness_columns)\n",
    "df[usefulness_columns] = df[usefulness_columns].replace(likert_mapping_usefulness)"
   ]
  },
  {
   "cell_type": "code",
   "execution_count": 40,
   "id": "5112106d-0d58-4b7f-a617-2f7bc5191817",
   "metadata": {},
   "outputs": [
    {
     "name": "stdout",
     "output_type": "stream",
     "text": [
      "['easiness_generative_AI', 'easiness_search_engine', 'easiness_navigation', 'easiness_business_sciences']\n"
     ]
    },
    {
     "name": "stderr",
     "output_type": "stream",
     "text": [
      "/var/folders/s7/p8pn64651j3gbhq2mkzzm52m0000gn/T/ipykernel_53698/335959985.py:4: FutureWarning: Downcasting behavior in `replace` is deprecated and will be removed in a future version. To retain the old behavior, explicitly call `result.infer_objects(copy=False)`. To opt-in to the future behavior, set `pd.set_option('future.no_silent_downcasting', True)`\n",
      "  df[easiness_columns] = df[easiness_columns].replace(likert_mapping_easiness)\n"
     ]
    }
   ],
   "source": [
    "# Replace values in easiness columns\n",
    "easiness_columns = list(dict_easiness_columns.values())\n",
    "print(easiness_columns)\n",
    "df[easiness_columns] = df[easiness_columns].replace(likert_mapping_easiness)"
   ]
  },
  {
   "cell_type": "code",
   "execution_count": 41,
   "id": "942b4f25-4674-4484-ad58-ae9e60d57a8e",
   "metadata": {},
   "outputs": [
    {
     "name": "stdout",
     "output_type": "stream",
     "text": [
      "['trust_best_applicants', 'trust_discrimination', 'trust_ethics', 'trust_diversity']\n"
     ]
    },
    {
     "name": "stderr",
     "output_type": "stream",
     "text": [
      "/var/folders/s7/p8pn64651j3gbhq2mkzzm52m0000gn/T/ipykernel_53698/1024283511.py:4: FutureWarning: Downcasting behavior in `replace` is deprecated and will be removed in a future version. To retain the old behavior, explicitly call `result.infer_objects(copy=False)`. To opt-in to the future behavior, set `pd.set_option('future.no_silent_downcasting', True)`\n",
      "  df[trust_columns] = df[trust_columns].replace(likert_mapping_trust)\n"
     ]
    }
   ],
   "source": [
    "# Replace values in trust columns\n",
    "trust_columns = list(dict_trust_columns.values())\n",
    "print(trust_columns)\n",
    "df[trust_columns] = df[trust_columns].replace(likert_mapping_trust)"
   ]
  },
  {
   "cell_type": "code",
   "execution_count": 42,
   "id": "2497842e-0d21-4d4f-aa9e-47969143299a",
   "metadata": {},
   "outputs": [
    {
     "name": "stdout",
     "output_type": "stream",
     "text": [
      "['acceptance_sorting_resumes', 'acceptance_selection_tests', 'acceptance_interviews', 'acceptance_negotiation', 'acceptance_wages_package', 'acceptance_contract']\n"
     ]
    },
    {
     "name": "stderr",
     "output_type": "stream",
     "text": [
      "/var/folders/s7/p8pn64651j3gbhq2mkzzm52m0000gn/T/ipykernel_53698/1053155161.py:4: FutureWarning: Downcasting behavior in `replace` is deprecated and will be removed in a future version. To retain the old behavior, explicitly call `result.infer_objects(copy=False)`. To opt-in to the future behavior, set `pd.set_option('future.no_silent_downcasting', True)`\n",
      "  df[acceptance_columns] = df[acceptance_columns].replace(likert_mapping_acceptance)\n"
     ]
    }
   ],
   "source": [
    "# Replace value in acceptance columns\n",
    "acceptance_columns = list(dict_acceptance_columns.values())\n",
    "print(acceptance_columns)\n",
    "df[acceptance_columns] = df[acceptance_columns].replace(likert_mapping_acceptance)"
   ]
  },
  {
   "cell_type": "code",
   "execution_count": 43,
   "id": "671f9360-a683-44ac-9d0c-54ad6c65acd0",
   "metadata": {},
   "outputs": [
    {
     "name": "stdout",
     "output_type": "stream",
     "text": [
      "['ethics_privacy', 'ethics_carbon_footprint', 'ethics_no_discrimination', 'ethics_fairness_for_applicants', 'ethics_diversity']\n"
     ]
    },
    {
     "name": "stderr",
     "output_type": "stream",
     "text": [
      "/var/folders/s7/p8pn64651j3gbhq2mkzzm52m0000gn/T/ipykernel_53698/3203036378.py:4: FutureWarning: Downcasting behavior in `replace` is deprecated and will be removed in a future version. To retain the old behavior, explicitly call `result.infer_objects(copy=False)`. To opt-in to the future behavior, set `pd.set_option('future.no_silent_downcasting', True)`\n",
      "  df[ethics_columns] = df[ethics_columns].replace(likert_mapping_ethics)\n"
     ]
    }
   ],
   "source": [
    "# Replace values in ethics columns\n",
    "ethics_columns = list(dict_ethics_columns.values())\n",
    "print(ethics_columns)\n",
    "df[ethics_columns] = df[ethics_columns].replace(likert_mapping_ethics)"
   ]
  },
  {
   "cell_type": "code",
   "execution_count": 44,
   "id": "35a65cb6-c2b4-4dfd-98f1-ca8a68450b50",
   "metadata": {},
   "outputs": [
    {
     "name": "stdout",
     "output_type": "stream",
     "text": [
      "['misc_recruiter_uses_AI', 'misc_age_category', 'misc_free_text']\n"
     ]
    },
    {
     "name": "stderr",
     "output_type": "stream",
     "text": [
      "/var/folders/s7/p8pn64651j3gbhq2mkzzm52m0000gn/T/ipykernel_53698/1376742802.py:3: FutureWarning: Downcasting behavior in `replace` is deprecated and will be removed in a future version. To retain the old behavior, explicitly call `result.infer_objects(copy=False)`. To opt-in to the future behavior, set `pd.set_option('future.no_silent_downcasting', True)`\n",
      "  df[misc_columns[0]] = df[misc_columns[0]].replace(likert_mapping_AI_hiring)\n"
     ]
    }
   ],
   "source": [
    "misc_columns = list(dict_misc_columns.values())\n",
    "print(misc_columns)\n",
    "df[misc_columns[0]] = df[misc_columns[0]].replace(likert_mapping_AI_hiring)"
   ]
  },
  {
   "cell_type": "code",
   "execution_count": 45,
   "id": "f4e7d364-7e05-459b-90e0-64b4ef621692",
   "metadata": {},
   "outputs": [
    {
     "name": "stderr",
     "output_type": "stream",
     "text": [
      "/var/folders/s7/p8pn64651j3gbhq2mkzzm52m0000gn/T/ipykernel_53698/4046352649.py:1: FutureWarning: Downcasting behavior in `replace` is deprecated and will be removed in a future version. To retain the old behavior, explicitly call `result.infer_objects(copy=False)`. To opt-in to the future behavior, set `pd.set_option('future.no_silent_downcasting', True)`\n",
      "  df[misc_columns[1]] = df[misc_columns[1]].replace(likert_mapping_age_category)\n"
     ]
    }
   ],
   "source": [
    "df[misc_columns[1]] = df[misc_columns[1]].replace(likert_mapping_age_category)"
   ]
  },
  {
   "cell_type": "code",
   "execution_count": 46,
   "id": "3c8d05ad-e1f2-4b37-967c-9724d002c7d3",
   "metadata": {},
   "outputs": [
    {
     "data": {
      "text/html": [
       "<div>\n",
       "<style scoped>\n",
       "    .dataframe tbody tr th:only-of-type {\n",
       "        vertical-align: middle;\n",
       "    }\n",
       "\n",
       "    .dataframe tbody tr th {\n",
       "        vertical-align: top;\n",
       "    }\n",
       "\n",
       "    .dataframe thead th {\n",
       "        text-align: right;\n",
       "    }\n",
       "</style>\n",
       "<table border=\"1\" class=\"dataframe\">\n",
       "  <thead>\n",
       "    <tr style=\"text-align: right;\">\n",
       "      <th></th>\n",
       "      <th>useful_resume_CV</th>\n",
       "      <th>useful_linkedin</th>\n",
       "      <th>useful_interview</th>\n",
       "      <th>useful_intelligence</th>\n",
       "      <th>useful_speedy_response</th>\n",
       "      <th>easiness_generative_AI</th>\n",
       "      <th>easiness_search_engine</th>\n",
       "      <th>easiness_navigation</th>\n",
       "      <th>easiness_business_sciences</th>\n",
       "      <th>trust_best_applicants</th>\n",
       "      <th>...</th>\n",
       "      <th>acceptance_negotiation</th>\n",
       "      <th>acceptance_wages_package</th>\n",
       "      <th>acceptance_contract</th>\n",
       "      <th>ethics_privacy</th>\n",
       "      <th>ethics_carbon_footprint</th>\n",
       "      <th>ethics_no_discrimination</th>\n",
       "      <th>ethics_fairness_for_applicants</th>\n",
       "      <th>ethics_diversity</th>\n",
       "      <th>misc_recruiter_uses_AI</th>\n",
       "      <th>misc_age_category</th>\n",
       "    </tr>\n",
       "  </thead>\n",
       "  <tbody>\n",
       "    <tr>\n",
       "      <th>0</th>\n",
       "      <td>2</td>\n",
       "      <td>4</td>\n",
       "      <td>1</td>\n",
       "      <td>2</td>\n",
       "      <td>4</td>\n",
       "      <td>5</td>\n",
       "      <td>4</td>\n",
       "      <td>4</td>\n",
       "      <td>4</td>\n",
       "      <td>1</td>\n",
       "      <td>...</td>\n",
       "      <td>4</td>\n",
       "      <td>3</td>\n",
       "      <td>4</td>\n",
       "      <td>4</td>\n",
       "      <td>3.0</td>\n",
       "      <td>5</td>\n",
       "      <td>5</td>\n",
       "      <td>3.0</td>\n",
       "      <td>4</td>\n",
       "      <td>2</td>\n",
       "    </tr>\n",
       "    <tr>\n",
       "      <th>1</th>\n",
       "      <td>1</td>\n",
       "      <td>2</td>\n",
       "      <td>2</td>\n",
       "      <td>3</td>\n",
       "      <td>3</td>\n",
       "      <td>4</td>\n",
       "      <td>5</td>\n",
       "      <td>4</td>\n",
       "      <td>4</td>\n",
       "      <td>3</td>\n",
       "      <td>...</td>\n",
       "      <td>2</td>\n",
       "      <td>1</td>\n",
       "      <td>2</td>\n",
       "      <td>4</td>\n",
       "      <td>NaN</td>\n",
       "      <td>5</td>\n",
       "      <td>5</td>\n",
       "      <td>5.0</td>\n",
       "      <td>5</td>\n",
       "      <td>4</td>\n",
       "    </tr>\n",
       "    <tr>\n",
       "      <th>2</th>\n",
       "      <td>4</td>\n",
       "      <td>5</td>\n",
       "      <td>5</td>\n",
       "      <td>2</td>\n",
       "      <td>5</td>\n",
       "      <td>4</td>\n",
       "      <td>4</td>\n",
       "      <td>3</td>\n",
       "      <td>3</td>\n",
       "      <td>1</td>\n",
       "      <td>...</td>\n",
       "      <td>2</td>\n",
       "      <td>2</td>\n",
       "      <td>4</td>\n",
       "      <td>5</td>\n",
       "      <td>2.0</td>\n",
       "      <td>4</td>\n",
       "      <td>4</td>\n",
       "      <td>4.0</td>\n",
       "      <td>4</td>\n",
       "      <td>4</td>\n",
       "    </tr>\n",
       "    <tr>\n",
       "      <th>3</th>\n",
       "      <td>5</td>\n",
       "      <td>5</td>\n",
       "      <td>5</td>\n",
       "      <td>5</td>\n",
       "      <td>5</td>\n",
       "      <td>4</td>\n",
       "      <td>5</td>\n",
       "      <td>5</td>\n",
       "      <td>5</td>\n",
       "      <td>2</td>\n",
       "      <td>...</td>\n",
       "      <td>1</td>\n",
       "      <td>1</td>\n",
       "      <td>3</td>\n",
       "      <td>4</td>\n",
       "      <td>2.0</td>\n",
       "      <td>4</td>\n",
       "      <td>5</td>\n",
       "      <td>3.0</td>\n",
       "      <td>5</td>\n",
       "      <td>5</td>\n",
       "    </tr>\n",
       "    <tr>\n",
       "      <th>4</th>\n",
       "      <td>3</td>\n",
       "      <td>2</td>\n",
       "      <td>4</td>\n",
       "      <td>3</td>\n",
       "      <td>3</td>\n",
       "      <td>2</td>\n",
       "      <td>1</td>\n",
       "      <td>1</td>\n",
       "      <td>2</td>\n",
       "      <td>3</td>\n",
       "      <td>...</td>\n",
       "      <td>1</td>\n",
       "      <td>2</td>\n",
       "      <td>3</td>\n",
       "      <td>1</td>\n",
       "      <td>NaN</td>\n",
       "      <td>1</td>\n",
       "      <td>1</td>\n",
       "      <td>1.0</td>\n",
       "      <td>5</td>\n",
       "      <td>5</td>\n",
       "    </tr>\n",
       "  </tbody>\n",
       "</table>\n",
       "<p>5 rows × 26 columns</p>\n",
       "</div>"
      ],
      "text/plain": [
       "   useful_resume_CV  useful_linkedin  useful_interview  useful_intelligence  \\\n",
       "0                 2                4                 1                    2   \n",
       "1                 1                2                 2                    3   \n",
       "2                 4                5                 5                    2   \n",
       "3                 5                5                 5                    5   \n",
       "4                 3                2                 4                    3   \n",
       "\n",
       "   useful_speedy_response  easiness_generative_AI  easiness_search_engine  \\\n",
       "0                       4                       5                       4   \n",
       "1                       3                       4                       5   \n",
       "2                       5                       4                       4   \n",
       "3                       5                       4                       5   \n",
       "4                       3                       2                       1   \n",
       "\n",
       "   easiness_navigation  easiness_business_sciences  trust_best_applicants  \\\n",
       "0                    4                           4                      1   \n",
       "1                    4                           4                      3   \n",
       "2                    3                           3                      1   \n",
       "3                    5                           5                      2   \n",
       "4                    1                           2                      3   \n",
       "\n",
       "   ...  acceptance_negotiation  acceptance_wages_package  acceptance_contract  \\\n",
       "0  ...                       4                         3                    4   \n",
       "1  ...                       2                         1                    2   \n",
       "2  ...                       2                         2                    4   \n",
       "3  ...                       1                         1                    3   \n",
       "4  ...                       1                         2                    3   \n",
       "\n",
       "   ethics_privacy  ethics_carbon_footprint  ethics_no_discrimination  \\\n",
       "0               4                      3.0                         5   \n",
       "1               4                      NaN                         5   \n",
       "2               5                      2.0                         4   \n",
       "3               4                      2.0                         4   \n",
       "4               1                      NaN                         1   \n",
       "\n",
       "   ethics_fairness_for_applicants  ethics_diversity  misc_recruiter_uses_AI  \\\n",
       "0                               5               3.0                       4   \n",
       "1                               5               5.0                       5   \n",
       "2                               4               4.0                       4   \n",
       "3                               5               3.0                       5   \n",
       "4                               1               1.0                       5   \n",
       "\n",
       "   misc_age_category  \n",
       "0                  2  \n",
       "1                  4  \n",
       "2                  4  \n",
       "3                  5  \n",
       "4                  5  \n",
       "\n",
       "[5 rows x 26 columns]"
      ]
     },
     "execution_count": 46,
     "metadata": {},
     "output_type": "execute_result"
    }
   ],
   "source": [
    "df.head()"
   ]
  },
  {
   "cell_type": "markdown",
   "id": "d6261dc0-730c-46aa-9bd0-75e81a3574ff",
   "metadata": {},
   "source": [
    "# Chiffres essentiels"
   ]
  },
  {
   "cell_type": "markdown",
   "id": "0e737975-f9d0-4d28-8646-0cff074b9807",
   "metadata": {},
   "source": [
    "## Nombre de réponses"
   ]
  },
  {
   "cell_type": "code",
   "execution_count": 47,
   "id": "cf04450f-c563-4fb9-bfc1-5d5c7fda33d9",
   "metadata": {},
   "outputs": [],
   "source": [
    "shape = df.shape"
   ]
  },
  {
   "cell_type": "code",
   "execution_count": 48,
   "id": "526dc734-e458-4498-91f8-8fd2ae9a2295",
   "metadata": {},
   "outputs": [
    {
     "name": "stdout",
     "output_type": "stream",
     "text": [
      "Le questionnaire comporte 161 réponses avec chacune 26 items\n"
     ]
    }
   ],
   "source": [
    "print(f\"Le questionnaire comporte {shape[0]} réponses avec chacune {shape[1]} items\")"
   ]
  },
  {
   "cell_type": "markdown",
   "id": "4acebda7-b4e3-4e26-8683-32c48996f493",
   "metadata": {},
   "source": [
    "## Contrôle du nombre de réponse à chaque question"
   ]
  },
  {
   "cell_type": "code",
   "execution_count": 49,
   "id": "a5df5562-781b-479e-bc0e-f4e37dddef4d",
   "metadata": {},
   "outputs": [
    {
     "data": {
      "text/plain": [
       "useful_resume_CV                  161\n",
       "useful_linkedin                   161\n",
       "useful_interview                  161\n",
       "useful_intelligence               161\n",
       "useful_speedy_response            161\n",
       "easiness_generative_AI            161\n",
       "easiness_search_engine            161\n",
       "easiness_navigation               161\n",
       "easiness_business_sciences        161\n",
       "trust_best_applicants             161\n",
       "trust_discrimination              161\n",
       "trust_ethics                      161\n",
       "trust_diversity                   161\n",
       "acceptance_sorting_resumes        161\n",
       "acceptance_selection_tests        161\n",
       "acceptance_interviews             161\n",
       "acceptance_negotiation            161\n",
       "acceptance_wages_package          161\n",
       "acceptance_contract               161\n",
       "ethics_privacy                    161\n",
       "ethics_carbon_footprint           159\n",
       "ethics_no_discrimination          161\n",
       "ethics_fairness_for_applicants    161\n",
       "ethics_diversity                  159\n",
       "misc_recruiter_uses_AI            161\n",
       "misc_age_category                 161\n",
       "dtype: int64"
      ]
     },
     "execution_count": 49,
     "metadata": {},
     "output_type": "execute_result"
    }
   ],
   "source": [
    "df.count()"
   ]
  },
  {
   "cell_type": "markdown",
   "id": "0a2c09ba-7610-4925-8a23-bfcbc9e00f08",
   "metadata": {},
   "source": [
    "### Commentaire en première approche sur le nombre de réponses."
   ]
  },
  {
   "cell_type": "markdown",
   "id": "cdb6fd33-dee3-4502-894a-83313f15f8fc",
   "metadata": {},
   "source": [
    "- 161 personnes ont répondu. La totalité des questions a obtenu 161 réponses\n",
    "- 3 questions ont obtenu un moins de 161 réponses : celle portant sur l'empreinte carbone (159 réponses), sur la diversité (159 réponses) et celle du commentaire libre (67 réponses).\n",
    "- Répondre sur l'éthique de l'IA comme le commentaire libre était optionnel, mais indiqué comme tel uniquement pour le commentaire libre.\n",
    "- Les deux colonnes où il manque 2 valeurs par colonnes sont celles dédiées à la diversité et à l'empreinte carbone. Elles ne jouent pas de rôle dans le contrôle des H0."
   ]
  },
  {
   "cell_type": "markdown",
   "id": "c2d1dcd0-ddf4-4fe9-956c-2e55d03717ea",
   "metadata": {},
   "source": [
    "### Pourcentage de réponses pour les questions optionnelles"
   ]
  },
  {
   "cell_type": "code",
   "execution_count": 50,
   "id": "bc7c3e3e-29d8-495b-9c5d-a2cdeca20fd0",
   "metadata": {},
   "outputs": [],
   "source": [
    "# Pourcentage de réponses pour les questions optionnelles\n",
    "counts = dict(df.count())\n",
    "ethics_diversity = int(counts.get(\"ethics_diversity\"))\n",
    "ethics_carbon_footprint = int(counts.get(\"ethics_carbon_footprint\"))\n",
    "free_text = df_verbatim.count()\n",
    "\n",
    "percent_diversity = round(ethics_diversity/shape[0]*100, 1)\n",
    "percent_carbon_footprint = round(ethics_carbon_footprint/shape[0]*100, 1)\n",
    "free_text= round(free_text/shape[0]*100, 1)"
   ]
  },
  {
   "cell_type": "code",
   "execution_count": 51,
   "id": "f48a6576-47fd-4497-83fe-b03231575dc1",
   "metadata": {},
   "outputs": [
    {
     "name": "stdout",
     "output_type": "stream",
     "text": [
      "98.8% des répondants se sont positionnés sur l'importance accordée à la diversité.\n",
      "98.8% des répondants se sont positionnés sur l'importance accordée à l'empreinte carbone.\n",
      "41.6% des répondants ont laissé un commentaire en texte libre à la fin du questionnaire.\n"
     ]
    }
   ],
   "source": [
    "print(f\"{percent_diversity}% des répondants se sont positionnés sur l'importance accordée à la diversité.\")\n",
    "print(f\"{percent_diversity}% des répondants se sont positionnés sur l'importance accordée à l'empreinte carbone.\")\n",
    "print(f\"{free_text}% des répondants ont laissé un commentaire en texte libre à la fin du questionnaire.\")"
   ]
  },
  {
   "cell_type": "markdown",
   "id": "ab5b1b13-53a6-4978-b069-7de8fe6e23af",
   "metadata": {},
   "source": [
    "# Calcul de la fiabilité du questionnaire"
   ]
  },
  {
   "cell_type": "markdown",
   "id": "1cf6976f-4278-4a81-84b3-53f0d2352ad3",
   "metadata": {},
   "source": [
    "**Nous allons calculer l'intervalle de confiance et la marge d'erreur sur la base du nombre de réponses au questionnaire**"
   ]
  },
  {
   "cell_type": "code",
   "execution_count": 52,
   "id": "135f400b-ec63-409f-8987-112bcbb96edf",
   "metadata": {},
   "outputs": [],
   "source": [
    "import math"
   ]
  },
  {
   "cell_type": "code",
   "execution_count": 53,
   "id": "920711fc-572f-4eb1-85eb-93cfe8c2f9ae",
   "metadata": {},
   "outputs": [],
   "source": [
    "# Usually confidence level is either 0.90, 0.95 or 0.99, depending on the expected strength of the questionnaire\n",
    "confidence_level = 0.95\n",
    "\n",
    "# The estimated ratio p defines the maximum margin of error. 0.5 is a standard value in case of lack of prior reference\n",
    "p = 0.5"
   ]
  },
  {
   "cell_type": "markdown",
   "id": "0f27eed1-d118-40e6-a400-21193a774583",
   "metadata": {},
   "source": [
    "## Calcul de la valeur de score z"
   ]
  },
  {
   "cell_type": "code",
   "execution_count": 54,
   "id": "a0821664-6966-4085-9e75-1aa3683b9d44",
   "metadata": {},
   "outputs": [],
   "source": [
    "import scipy.stats"
   ]
  },
  {
   "cell_type": "code",
   "execution_count": 55,
   "id": "4bd9773c-d6db-4237-b7ff-1dfb1472ce2f",
   "metadata": {},
   "outputs": [],
   "source": [
    "def calculate_z(confidence_level):\n",
    "    \"\"\"\n",
    "    Calculate z score depending on chosen confidence level.\n",
    "\n",
    "    Arguments:\n",
    "        confidence_level: represents the level of confidence expressing the confidence that the sample represents the overall population. \n",
    "        Usual values for z are : 0.9, 0.95 or 0.99. The higher the figure, the stronger the level of confidence.\n",
    "\n",
    "    Returns:\n",
    "        z score: used to subsequently calculate a margin of error depending on confidence level.\n",
    "    \"\"\"\n",
    "    \n",
    "    cumulative_probability = (1 + confidence_level)/2\n",
    "    z = scipy.stats.norm.ppf(cumulative_probability)\n",
    "\n",
    "    return z"
   ]
  },
  {
   "cell_type": "code",
   "execution_count": 56,
   "id": "9d757989-c9e0-47e5-9254-0e5863225326",
   "metadata": {},
   "outputs": [],
   "source": [
    "z_score = calculate_z(confidence_level)"
   ]
  },
  {
   "cell_type": "code",
   "execution_count": 57,
   "id": "4296eb79-a69a-4def-b5ab-cd0d627b3e6c",
   "metadata": {},
   "outputs": [
    {
     "name": "stdout",
     "output_type": "stream",
     "text": [
      "La valeur du score z pour un niveau de confiance de 0.95 est de 1.96\n"
     ]
    }
   ],
   "source": [
    "print(f\"La valeur du score z pour un niveau de confiance de {confidence_level} est de {round(z_score, 2)}\")"
   ]
  },
  {
   "cell_type": "markdown",
   "id": "25f0c32e-eed4-467b-9dbb-ddf4a1afa4a6",
   "metadata": {},
   "source": [
    "## Correction en fonction de la population active"
   ]
  },
  {
   "cell_type": "code",
   "execution_count": 58,
   "id": "8b8d6618-b4a7-4728-9713-a09ec8c9c54a",
   "metadata": {},
   "outputs": [],
   "source": [
    "# total french workforce\n",
    "total_workforce = 30000000\n",
    "\n",
    "# sample size\n",
    "sample_size = shape[0]"
   ]
  },
  {
   "cell_type": "code",
   "execution_count": 59,
   "id": "deb61f29-b746-4373-86c0-56cd87779a2e",
   "metadata": {},
   "outputs": [],
   "source": [
    "def population_correction(total_population, sample_size):\n",
    "    \"\"\" Calculate the finished population correction factor due to sample size.\n",
    "\n",
    "        Parameters:\n",
    "        total_population: total population to be considered.\n",
    "        sample_size: number of responses in the questionnaire.\n",
    "\n",
    "        Returns:\n",
    "        pop_correction_factor: factor determining the optimal sample size considering the overall finished population. \n",
    "        A 1.0 factor means the sample size is not ideal with regards to the population.\n",
    "    \"\"\"\n",
    "    pop_correction_factor = math.sqrt((total_population - sample_size) / (total_workforce - 1))\n",
    "    return pop_correction_factor"
   ]
  },
  {
   "cell_type": "code",
   "execution_count": 60,
   "id": "938346f5-bf11-4d89-9acf-89c736be01b9",
   "metadata": {},
   "outputs": [],
   "source": [
    "pop_correction_factor = population_correction(total_workforce, sample_size)"
   ]
  },
  {
   "cell_type": "code",
   "execution_count": 61,
   "id": "715cb329-d744-4c3f-95ed-778a01175184",
   "metadata": {},
   "outputs": [
    {
     "name": "stdout",
     "output_type": "stream",
     "text": [
      "Le facteur de correction de la population finie est de 1.0\n"
     ]
    }
   ],
   "source": [
    "print(f\"Le facteur de correction de la population finie est de {round(pop_correction_factor, 0)}\")"
   ]
  },
  {
   "cell_type": "markdown",
   "id": "17d60bbb-f264-4009-a89f-ab7ed928efba",
   "metadata": {},
   "source": [
    "## Calcul de l'intervalle de confiance"
   ]
  },
  {
   "cell_type": "code",
   "execution_count": 62,
   "id": "b3dc3e14-8189-413f-ab9b-2ec0ab2eb421",
   "metadata": {},
   "outputs": [],
   "source": [
    "def confidence_interval(confidence_level, total_population, sample_size, z_score, pop_correction_factor,  p=0.5):\n",
    "    \"\"\"\n",
    "    Calculate the confidence interval and the margin of error of a defined sample.\n",
    "\n",
    "    Params:\n",
    "        confidence_level: represents the level of confidence expressing the confidence that the sample represents the overall population. \n",
    "        Usual values for z are : 0.9, 0.95 or 0.99. The higher the figure, the stronger the level of confidence.\n",
    "        p: represents the proportion of the population presenting a given characteristics. Value by default is 0.5.\n",
    "        total_population: size of the population considered for the survey.\n",
    "        sample_size: number of persons having participated to the survey and whose answers can be used.\n",
    "        z_score: deviation between a given value and the mean of a dataset.\n",
    "        pop_correction_factor: helps to define optimal sample size\n",
    "\n",
    "    Returns : \n",
    "        error_margins: a tuple containing the upper, lower margins of error and redressed_error_margin\n",
    "    \"\"\"\n",
    "\n",
    "    error_margin = z_score * math.sqrt((p * (1 - p)) / sample_size)\n",
    "\n",
    "    redressed_error_margin = error_margin * pop_correction_factor\n",
    "\n",
    "    lower_margin = p - redressed_error_margin\n",
    "    upper_margin = p + redressed_error_margin\n",
    "\n",
    "    return (upper_margin, lower_margin, redressed_error_margin)"
   ]
  },
  {
   "cell_type": "code",
   "execution_count": 63,
   "id": "765710b3-2386-4766-a669-21d322eb1a4a",
   "metadata": {},
   "outputs": [],
   "source": [
    "upper_margin, lower_margin, error_margin = confidence_interval(confidence_level, total_workforce, sample_size, z_score, pop_correction_factor, p)"
   ]
  },
  {
   "cell_type": "code",
   "execution_count": 64,
   "id": "9071b287-39e5-45bd-9e9c-bd635cfa49da",
   "metadata": {},
   "outputs": [
    {
     "name": "stdout",
     "output_type": "stream",
     "text": [
      "Pour un niveau de confiance de 95.0% et une population active de 30000000, avec un échantillon de 161 répondants et une valeur p = 0.5:\n",
      "La valeur inférieure est : 42.28%\n",
      "La valeur supérieure est : 57.72%\n",
      "La marge d'erreur est : 7.72%\n"
     ]
    }
   ],
   "source": [
    "print(f\"Pour un niveau de confiance de {confidence_level*100}% et une population active de {total_workforce}, avec un échantillon de {sample_size} répondants et une valeur p = {p}:\")\n",
    "print(f\"La valeur inférieure est : {round(lower_margin *100, 2)}%\")\n",
    "print(f\"La valeur supérieure est : {round(upper_margin *100, 2)}%\")\n",
    "print(f\"La marge d'erreur est : {round(error_margin *100, 2)}%\")"
   ]
  },
  {
   "cell_type": "markdown",
   "id": "9ebb73aa-65cf-48ad-8f5f-c66671312b24",
   "metadata": {},
   "source": [
    "## Description générale du jeu de données"
   ]
  },
  {
   "cell_type": "code",
   "execution_count": 65,
   "id": "15603543-4d9a-420d-9f58-04e7c49c5a45",
   "metadata": {},
   "outputs": [
    {
     "data": {
      "text/html": [
       "<div>\n",
       "<style scoped>\n",
       "    .dataframe tbody tr th:only-of-type {\n",
       "        vertical-align: middle;\n",
       "    }\n",
       "\n",
       "    .dataframe tbody tr th {\n",
       "        vertical-align: top;\n",
       "    }\n",
       "\n",
       "    .dataframe thead th {\n",
       "        text-align: right;\n",
       "    }\n",
       "</style>\n",
       "<table border=\"1\" class=\"dataframe\">\n",
       "  <thead>\n",
       "    <tr style=\"text-align: right;\">\n",
       "      <th></th>\n",
       "      <th>useful_resume_CV</th>\n",
       "      <th>useful_linkedin</th>\n",
       "      <th>useful_interview</th>\n",
       "      <th>useful_intelligence</th>\n",
       "      <th>useful_speedy_response</th>\n",
       "      <th>easiness_generative_AI</th>\n",
       "      <th>easiness_search_engine</th>\n",
       "      <th>easiness_navigation</th>\n",
       "      <th>easiness_business_sciences</th>\n",
       "      <th>trust_best_applicants</th>\n",
       "      <th>...</th>\n",
       "      <th>acceptance_negotiation</th>\n",
       "      <th>acceptance_wages_package</th>\n",
       "      <th>acceptance_contract</th>\n",
       "      <th>ethics_privacy</th>\n",
       "      <th>ethics_carbon_footprint</th>\n",
       "      <th>ethics_no_discrimination</th>\n",
       "      <th>ethics_fairness_for_applicants</th>\n",
       "      <th>ethics_diversity</th>\n",
       "      <th>misc_recruiter_uses_AI</th>\n",
       "      <th>misc_age_category</th>\n",
       "    </tr>\n",
       "  </thead>\n",
       "  <tbody>\n",
       "    <tr>\n",
       "      <th>count</th>\n",
       "      <td>161.00</td>\n",
       "      <td>161.00</td>\n",
       "      <td>161.00</td>\n",
       "      <td>161.00</td>\n",
       "      <td>161.00</td>\n",
       "      <td>161.00</td>\n",
       "      <td>161.00</td>\n",
       "      <td>161.00</td>\n",
       "      <td>161.00</td>\n",
       "      <td>161.00</td>\n",
       "      <td>...</td>\n",
       "      <td>161.00</td>\n",
       "      <td>161.00</td>\n",
       "      <td>161.00</td>\n",
       "      <td>161.00</td>\n",
       "      <td>159.00</td>\n",
       "      <td>161.00</td>\n",
       "      <td>161.00</td>\n",
       "      <td>159.00</td>\n",
       "      <td>161.0</td>\n",
       "      <td>161.00</td>\n",
       "    </tr>\n",
       "    <tr>\n",
       "      <th>mean</th>\n",
       "      <td>3.54</td>\n",
       "      <td>3.44</td>\n",
       "      <td>3.56</td>\n",
       "      <td>3.52</td>\n",
       "      <td>3.51</td>\n",
       "      <td>3.80</td>\n",
       "      <td>4.30</td>\n",
       "      <td>4.14</td>\n",
       "      <td>3.73</td>\n",
       "      <td>2.35</td>\n",
       "      <td>...</td>\n",
       "      <td>2.06</td>\n",
       "      <td>1.87</td>\n",
       "      <td>2.66</td>\n",
       "      <td>4.71</td>\n",
       "      <td>3.17</td>\n",
       "      <td>4.09</td>\n",
       "      <td>4.35</td>\n",
       "      <td>3.63</td>\n",
       "      <td>4.0</td>\n",
       "      <td>3.39</td>\n",
       "    </tr>\n",
       "    <tr>\n",
       "      <th>std</th>\n",
       "      <td>1.40</td>\n",
       "      <td>1.30</td>\n",
       "      <td>1.35</td>\n",
       "      <td>1.30</td>\n",
       "      <td>1.29</td>\n",
       "      <td>1.04</td>\n",
       "      <td>0.92</td>\n",
       "      <td>1.01</td>\n",
       "      <td>0.92</td>\n",
       "      <td>0.99</td>\n",
       "      <td>...</td>\n",
       "      <td>1.04</td>\n",
       "      <td>0.99</td>\n",
       "      <td>1.29</td>\n",
       "      <td>0.64</td>\n",
       "      <td>1.35</td>\n",
       "      <td>1.05</td>\n",
       "      <td>0.92</td>\n",
       "      <td>1.33</td>\n",
       "      <td>1.1</td>\n",
       "      <td>1.55</td>\n",
       "    </tr>\n",
       "    <tr>\n",
       "      <th>min</th>\n",
       "      <td>1.00</td>\n",
       "      <td>1.00</td>\n",
       "      <td>1.00</td>\n",
       "      <td>1.00</td>\n",
       "      <td>1.00</td>\n",
       "      <td>1.00</td>\n",
       "      <td>1.00</td>\n",
       "      <td>1.00</td>\n",
       "      <td>1.00</td>\n",
       "      <td>1.00</td>\n",
       "      <td>...</td>\n",
       "      <td>1.00</td>\n",
       "      <td>1.00</td>\n",
       "      <td>1.00</td>\n",
       "      <td>1.00</td>\n",
       "      <td>1.00</td>\n",
       "      <td>1.00</td>\n",
       "      <td>1.00</td>\n",
       "      <td>1.00</td>\n",
       "      <td>1.0</td>\n",
       "      <td>1.00</td>\n",
       "    </tr>\n",
       "    <tr>\n",
       "      <th>25%</th>\n",
       "      <td>2.00</td>\n",
       "      <td>3.00</td>\n",
       "      <td>3.00</td>\n",
       "      <td>3.00</td>\n",
       "      <td>3.00</td>\n",
       "      <td>3.00</td>\n",
       "      <td>4.00</td>\n",
       "      <td>4.00</td>\n",
       "      <td>3.00</td>\n",
       "      <td>2.00</td>\n",
       "      <td>...</td>\n",
       "      <td>1.00</td>\n",
       "      <td>1.00</td>\n",
       "      <td>1.00</td>\n",
       "      <td>5.00</td>\n",
       "      <td>2.00</td>\n",
       "      <td>4.00</td>\n",
       "      <td>4.00</td>\n",
       "      <td>3.00</td>\n",
       "      <td>4.0</td>\n",
       "      <td>2.00</td>\n",
       "    </tr>\n",
       "    <tr>\n",
       "      <th>50%</th>\n",
       "      <td>4.00</td>\n",
       "      <td>4.00</td>\n",
       "      <td>4.00</td>\n",
       "      <td>4.00</td>\n",
       "      <td>4.00</td>\n",
       "      <td>4.00</td>\n",
       "      <td>5.00</td>\n",
       "      <td>4.00</td>\n",
       "      <td>4.00</td>\n",
       "      <td>2.00</td>\n",
       "      <td>...</td>\n",
       "      <td>2.00</td>\n",
       "      <td>2.00</td>\n",
       "      <td>3.00</td>\n",
       "      <td>5.00</td>\n",
       "      <td>3.00</td>\n",
       "      <td>4.00</td>\n",
       "      <td>5.00</td>\n",
       "      <td>4.00</td>\n",
       "      <td>4.0</td>\n",
       "      <td>4.00</td>\n",
       "    </tr>\n",
       "    <tr>\n",
       "      <th>75%</th>\n",
       "      <td>5.00</td>\n",
       "      <td>4.00</td>\n",
       "      <td>5.00</td>\n",
       "      <td>5.00</td>\n",
       "      <td>5.00</td>\n",
       "      <td>5.00</td>\n",
       "      <td>5.00</td>\n",
       "      <td>5.00</td>\n",
       "      <td>4.00</td>\n",
       "      <td>3.00</td>\n",
       "      <td>...</td>\n",
       "      <td>3.00</td>\n",
       "      <td>2.00</td>\n",
       "      <td>4.00</td>\n",
       "      <td>5.00</td>\n",
       "      <td>4.00</td>\n",
       "      <td>5.00</td>\n",
       "      <td>5.00</td>\n",
       "      <td>5.00</td>\n",
       "      <td>5.0</td>\n",
       "      <td>5.00</td>\n",
       "    </tr>\n",
       "    <tr>\n",
       "      <th>max</th>\n",
       "      <td>5.00</td>\n",
       "      <td>5.00</td>\n",
       "      <td>5.00</td>\n",
       "      <td>5.00</td>\n",
       "      <td>5.00</td>\n",
       "      <td>5.00</td>\n",
       "      <td>5.00</td>\n",
       "      <td>5.00</td>\n",
       "      <td>5.00</td>\n",
       "      <td>4.00</td>\n",
       "      <td>...</td>\n",
       "      <td>4.00</td>\n",
       "      <td>5.00</td>\n",
       "      <td>5.00</td>\n",
       "      <td>5.00</td>\n",
       "      <td>5.00</td>\n",
       "      <td>5.00</td>\n",
       "      <td>5.00</td>\n",
       "      <td>5.00</td>\n",
       "      <td>5.0</td>\n",
       "      <td>5.00</td>\n",
       "    </tr>\n",
       "  </tbody>\n",
       "</table>\n",
       "<p>8 rows × 26 columns</p>\n",
       "</div>"
      ],
      "text/plain": [
       "       useful_resume_CV  useful_linkedin  useful_interview  \\\n",
       "count            161.00           161.00            161.00   \n",
       "mean               3.54             3.44              3.56   \n",
       "std                1.40             1.30              1.35   \n",
       "min                1.00             1.00              1.00   \n",
       "25%                2.00             3.00              3.00   \n",
       "50%                4.00             4.00              4.00   \n",
       "75%                5.00             4.00              5.00   \n",
       "max                5.00             5.00              5.00   \n",
       "\n",
       "       useful_intelligence  useful_speedy_response  easiness_generative_AI  \\\n",
       "count               161.00                  161.00                  161.00   \n",
       "mean                  3.52                    3.51                    3.80   \n",
       "std                   1.30                    1.29                    1.04   \n",
       "min                   1.00                    1.00                    1.00   \n",
       "25%                   3.00                    3.00                    3.00   \n",
       "50%                   4.00                    4.00                    4.00   \n",
       "75%                   5.00                    5.00                    5.00   \n",
       "max                   5.00                    5.00                    5.00   \n",
       "\n",
       "       easiness_search_engine  easiness_navigation  \\\n",
       "count                  161.00               161.00   \n",
       "mean                     4.30                 4.14   \n",
       "std                      0.92                 1.01   \n",
       "min                      1.00                 1.00   \n",
       "25%                      4.00                 4.00   \n",
       "50%                      5.00                 4.00   \n",
       "75%                      5.00                 5.00   \n",
       "max                      5.00                 5.00   \n",
       "\n",
       "       easiness_business_sciences  trust_best_applicants  ...  \\\n",
       "count                      161.00                 161.00  ...   \n",
       "mean                         3.73                   2.35  ...   \n",
       "std                          0.92                   0.99  ...   \n",
       "min                          1.00                   1.00  ...   \n",
       "25%                          3.00                   2.00  ...   \n",
       "50%                          4.00                   2.00  ...   \n",
       "75%                          4.00                   3.00  ...   \n",
       "max                          5.00                   4.00  ...   \n",
       "\n",
       "       acceptance_negotiation  acceptance_wages_package  acceptance_contract  \\\n",
       "count                  161.00                    161.00               161.00   \n",
       "mean                     2.06                      1.87                 2.66   \n",
       "std                      1.04                      0.99                 1.29   \n",
       "min                      1.00                      1.00                 1.00   \n",
       "25%                      1.00                      1.00                 1.00   \n",
       "50%                      2.00                      2.00                 3.00   \n",
       "75%                      3.00                      2.00                 4.00   \n",
       "max                      4.00                      5.00                 5.00   \n",
       "\n",
       "       ethics_privacy  ethics_carbon_footprint  ethics_no_discrimination  \\\n",
       "count          161.00                   159.00                    161.00   \n",
       "mean             4.71                     3.17                      4.09   \n",
       "std              0.64                     1.35                      1.05   \n",
       "min              1.00                     1.00                      1.00   \n",
       "25%              5.00                     2.00                      4.00   \n",
       "50%              5.00                     3.00                      4.00   \n",
       "75%              5.00                     4.00                      5.00   \n",
       "max              5.00                     5.00                      5.00   \n",
       "\n",
       "       ethics_fairness_for_applicants  ethics_diversity  \\\n",
       "count                          161.00            159.00   \n",
       "mean                             4.35              3.63   \n",
       "std                              0.92              1.33   \n",
       "min                              1.00              1.00   \n",
       "25%                              4.00              3.00   \n",
       "50%                              5.00              4.00   \n",
       "75%                              5.00              5.00   \n",
       "max                              5.00              5.00   \n",
       "\n",
       "       misc_recruiter_uses_AI  misc_age_category  \n",
       "count                   161.0             161.00  \n",
       "mean                      4.0               3.39  \n",
       "std                       1.1               1.55  \n",
       "min                       1.0               1.00  \n",
       "25%                       4.0               2.00  \n",
       "50%                       4.0               4.00  \n",
       "75%                       5.0               5.00  \n",
       "max                       5.0               5.00  \n",
       "\n",
       "[8 rows x 26 columns]"
      ]
     },
     "execution_count": 65,
     "metadata": {},
     "output_type": "execute_result"
    }
   ],
   "source": [
    "round(df.describe(), 2)"
   ]
  },
  {
   "cell_type": "markdown",
   "id": "09f29055-609e-4a7f-8e56-8d293de1d27e",
   "metadata": {},
   "source": [
    "### Commentaire sur la répartition démographique dans la description du jeu de données"
   ]
  },
  {
   "cell_type": "markdown",
   "id": "c94b987d-16dd-471b-ab7c-f76591a194bd",
   "metadata": {},
   "source": [
    "Cette analyse se réfère à la colonne ```misc_age_category``` qui correspond aux tranches d'âge des répondants.<br>\n",
    "<p>A la question suivante : \n",
    "\"Un questionnaire comportant les tranches d'âge suivantes : <br>\n",
    "18-24 ans, 25-34 ans, 35-44 ans, 45-54 ans, 55-64 ans, 65 ans et plus renvoie un écart-type de 1,55. <br>\n",
    "Comment peut-il être interprété ?\" <br>\n",
    "<br>\n",
    "Google Gemini répond:<br>\n",
    "\"Un écart-type de 1,55 suggère une répartition modérée des répondants entre les différentes tranches d'âge de votre questionnaire. Cela indique une diversité d'âges parmi les participants, sans concentration excessive dans un groupe d'âge particulier.\" <br></p>\n",
    "\n",
    "**Nous pouvons donc conclure que les réponses au questionnaire représentent la population de manière équilibrée.**"
   ]
  },
  {
   "cell_type": "code",
   "execution_count": 66,
   "id": "fbfddcbb-35c8-4322-96a9-e27c01a6bde1",
   "metadata": {},
   "outputs": [
    {
     "data": {
      "text/plain": [
       "misc_age_category\n",
       "5    60\n",
       "1    30\n",
       "4    26\n",
       "2    24\n",
       "3    21\n",
       "Name: count, dtype: int64"
      ]
     },
     "execution_count": 66,
     "metadata": {},
     "output_type": "execute_result"
    }
   ],
   "source": [
    "df[\"misc_age_category\"].value_counts()"
   ]
  },
  {
   "cell_type": "markdown",
   "id": "02bc753b-f581-4467-9118-0fefbd4db22c",
   "metadata": {},
   "source": [
    "# Statistiques approfondies"
   ]
  },
  {
   "cell_type": "markdown",
   "id": "5ca9ad53-32d2-40eb-ae14-351eb1d6b2ca",
   "metadata": {},
   "source": [
    "## Extraction du mode de chaque colonne"
   ]
  },
  {
   "cell_type": "code",
   "execution_count": 67,
   "id": "74f526be-590c-46c3-8ec2-0ff95c8b152f",
   "metadata": {},
   "outputs": [
    {
     "name": "stdout",
     "output_type": "stream",
     "text": [
      "Colonne: Rédiger des CV ou des lettres de motivation\n",
      "Le mode est: Tout à fait favorable\n",
      "Le pourcentage de réponses que représente ce mode est: 32.30%\n",
      "\n",
      "Colonne: Améliorer votre profil LinkedIn\n",
      "Le mode est: Assez favorable\n",
      "Le pourcentage de réponses que représente ce mode est: 33.54%\n",
      "\n",
      "Colonne: Préparer des entretiens d'embauche\n",
      "Le mode est: Tout à fait favorable\n",
      "Le pourcentage de réponses que représente ce mode est: 32.30%\n",
      "\n",
      "Colonne: Vous renseigner sur votre futur employeur\n",
      "Le mode est: Assez favorable\n",
      "Le pourcentage de réponses que représente ce mode est: 27.95%\n",
      "\n",
      "Colonne: Répondre plus rapidement à une offre\n",
      "Le mode est: Assez favorable\n",
      "Le pourcentage de réponses que représente ce mode est: 29.19%\n",
      "\n",
      "Colonne: ChatGPT et autres IA génératives (génération de texte ou d'images)\n",
      "Le mode est: Plutôt à l'aise\n",
      "Le pourcentage de réponses que représente ce mode est: 34.78%\n",
      "\n",
      "Colonne: Moteur de recherche (Chrome, Safari, Firefox)\n",
      "Le mode est: à l'aise\n",
      "Le pourcentage de réponses que représente ce mode est: 55.90%\n",
      "\n",
      "Colonne: Application de navigation disponibles sur votre mobile ou dans votre voiture\n",
      "Le mode est: à l'aise\n",
      "Le pourcentage de réponses que représente ce mode est: 46.58%\n",
      "\n",
      "Colonne: Autres usages professionnels ou scientifiques\n",
      "Le mode est: Plutôt à l'aise\n",
      "Le pourcentage de réponses que représente ce mode est: 37.89%\n",
      "\n",
      "Colonne: Pour sélectionner les meilleur•e•s candidat•e•s\n",
      "Le mode est: Faible\n",
      "Le pourcentage de réponses que représente ce mode est: 35.40%\n",
      "\n",
      "Colonne: Pour réduire le risque de discrimination\n",
      "Le mode est: Faible\n",
      "Le pourcentage de réponses que représente ce mode est: 32.30%\n",
      "\n",
      "Colonne: Pour un recrutement plus éthique\n",
      "Le mode est: Ni faible, ni élevé\n",
      "Le pourcentage de réponses que représente ce mode est: 30.43%\n",
      "\n",
      "Colonne: Pour diversifier les recrutements\n",
      "Le mode est: Ni faible, ni élevé\n",
      "Le pourcentage de réponses que représente ce mode est: 33.54%\n",
      "\n",
      "Colonne: Lors du tri initial des candidatures\n",
      "Le mode est: Réticent\n",
      "Le pourcentage de réponses que représente ce mode est: 27.33%\n",
      "\n",
      "Colonne: Lors des tests de sélection\n",
      "Le mode est: Réticent\n",
      "Le pourcentage de réponses que représente ce mode est: 31.06%\n",
      "\n",
      "Colonne: Lors des entretiens individuels\n",
      "Le mode est: Très réticent\n",
      "Le pourcentage de réponses que représente ce mode est: 45.96%\n",
      "\n",
      "Colonne: Lors de la discussion sur le périmètre de votre poste\n",
      "Le mode est: Très réticent\n",
      "Le pourcentage de réponses que représente ce mode est: 40.37%\n",
      "\n",
      "Colonne: Lors de la négociation sur votre rémunération et autres avantages\n",
      "Le mode est: Très réticent\n",
      "Le pourcentage de réponses que représente ce mode est: 45.96%\n",
      "\n",
      "Colonne: Lors de la rédaction de votre contrat de travail\n",
      "Le mode est: Très réticent\n",
      "Le pourcentage de réponses que représente ce mode est: 27.33%\n",
      "\n",
      "Colonne: Le respect de votre vie privée\n",
      "Le mode est: C'est très important\n",
      "Le pourcentage de réponses que représente ce mode est: 77.02%\n",
      "\n",
      "Colonne: L'empreinte carbone de l'IA utilisée\n",
      "Le mode est: C'est plutôt important\n",
      "Le pourcentage de réponses que représente ce mode est: 24.84%\n",
      "\n",
      "Colonne: L'absence de toute discrimination\n",
      "Le mode est: C'est très important\n",
      "Le pourcentage de réponses que représente ce mode est: 42.24%\n",
      "\n",
      "Colonne: L'équité entre tous les candidats\n",
      "Le mode est: C'est très important\n",
      "Le pourcentage de réponses que représente ce mode est: 54.66%\n",
      "\n",
      "Colonne: Le respect de la diversité\n",
      "Le mode est: C'est très important\n",
      "Le pourcentage de réponses que représente ce mode est: 31.68%\n",
      "\n",
      "Colonne: Aimeriez-vous savoir si votre recruteur a prévu d'utiliser l'IA dans le processus de recrutement ?\n",
      "Le mode est: C'est essentiel\n",
      "Le pourcentage de réponses que représente ce mode est: 39.13%\n",
      "\n",
      "Colonne: Quelle est votre tranche d'âge?\n",
      "Le mode est: 55-64 ans\n",
      "Le pourcentage de réponses que représente ce mode est: 37.27%\n",
      "\n"
     ]
    }
   ],
   "source": [
    "import csv\n",
    "\n",
    "# Calculate the mode of every column and its percentage\n",
    "def mode_percentage(column):\n",
    "    mode = column.mode()[0]\n",
    "    total_responses = len(column)\n",
    "    mode_count = column.value_counts()[mode]\n",
    "    percentage_mode = (mode_count / total_responses) * 100\n",
    "    return mode, percentage_mode\n",
    "\n",
    "# Appliquer la fonction à chaque colonne du dataframe\n",
    "results = {}\n",
    "for col in df_mode.columns:\n",
    "    mode, percentage_mode = mode_percentage(df_mode[col])\n",
    "    results[col] = {'Mode': mode, 'Pourcentage': percentage_mode}\n",
    "\n",
    "# Afficher les résultats\n",
    "for col, result in results.items():\n",
    "    print(f\"Colonne: {col}\")\n",
    "    print(f\"Le mode est: {result['Mode']}\")\n",
    "    print(f\"Le pourcentage de réponses que représente ce mode est: {result['Pourcentage']:.2f}%\\n\")"
   ]
  },
  {
   "cell_type": "markdown",
   "id": "adbdfb9c-f041-4b38-9293-acd7ab847aa0",
   "metadata": {},
   "source": [
    "# Test statistique de la relation entre les différentes questions"
   ]
  },
  {
   "cell_type": "code",
   "execution_count": 68,
   "id": "1ae6a156-38a6-45d5-bd13-dbd5be5e77c3",
   "metadata": {},
   "outputs": [],
   "source": [
    "from scipy import stats\n",
    "from scipy.stats import chi2_contingency\n",
    "from scipy.ndimage import median"
   ]
  },
  {
   "cell_type": "code",
   "execution_count": 75,
   "id": "cb2ddd43-2a19-49a2-8d41-2ec5d2ae2849",
   "metadata": {},
   "outputs": [],
   "source": [
    "def calculus_chi_square(df, var_1_columns, var_2_columns):\n",
    "    contingency_tables = list()\n",
    "    associated_variables = list()\n",
    "    \n",
    "    for variable_1 in df[var_1_columns]:\n",
    "        for variable_2 in df[var_2_columns]:\n",
    "            contingency_table = pd.crosstab(df[variable_1], df[variable_2])\n",
    "            contingency_tables.append(contingency_table)\n",
    "            associated_variables.append((variable_1, variable_2))\n",
    "    \n",
    "    p_values = list()\n",
    "    for table in contingency_tables:\n",
    "        chi2, p, dof, expected = chi2_contingency(table)\n",
    "        p_values.append(p)\n",
    "\n",
    "    return p_values, associated_variables"
   ]
  },
  {
   "cell_type": "code",
   "execution_count": 179,
   "id": "f22326db-54d5-4b96-9b00-2cbdc48e7edc",
   "metadata": {},
   "outputs": [],
   "source": [
    "# Get a heatmap from the same data\n",
    "def create_heatmap(df, var_1_columns, var_2_columns):\n",
    "    \"\"\"\n",
    "    Crée une heatmap des p-values pour les tests du chi carré entre les variables catégorielles de deux groupes.\n",
    "\n",
    "    Parameters:\n",
    "    data (dict): Dictionnaire contenant les données des deux groupes de variables catégorielles.\n",
    "\n",
    "    Returns:\n",
    "    None\n",
    "    \"\"\"\n",
    "\n",
    "    # Création des tableaux de contingence pour chaque paire de variables\n",
    "    p_values = list()\n",
    "    for var1 in var_1_columns:\n",
    "        row = []\n",
    "        for var2 in var_2_columns:\n",
    "            contingency_table = pd.crosstab(df[var1], df[var2])\n",
    "            chi2, p, dof, expected = chi2_contingency(contingency_table)\n",
    "            row.append(p)\n",
    "        p_values.append(row)\n",
    "\n",
    "    # Conversion des p-values en DataFrame\n",
    "    p_values_df = pd.DataFrame(p_values, columns=var_2_columns,\n",
    "                               index=var_1_columns)\n",
    "\n",
    "    # Création de la heatmap\n",
    "    plt.figure(figsize=(7, 5))\n",
    "    sns.heatmap(p_values_df, annot=True, cmap=\"coolwarm\", center=0.05, cbar=True)\n",
    "    plt.title('Heatmap des p-values des tableaux de contingence')\n",
    "    plt.show()"
   ]
  },
  {
   "cell_type": "markdown",
   "id": "1070f6c6-3b1a-4161-9d63-baf00be84a53",
   "metadata": {},
   "source": [
    "## Evaluation de la relation entre utilité perçue et acceptation"
   ]
  },
  {
   "cell_type": "markdown",
   "id": "cce1acb6-87f4-4647-8b16-a841257a4ae7",
   "metadata": {},
   "source": [
    "### Calcul avec le test de Wilcoxon"
   ]
  },
  {
   "cell_type": "markdown",
   "id": "11cde5c4-8309-4f86-97ff-e22a964881be",
   "metadata": {},
   "source": [
    "- Le premier test choisi est le test de Wilcoxon des rangs signés, car il permet de comparer les réponses à deux questions au sein d'un même échantillon.\n",
    "- Ce test doublé par le test du chi-square, adapté à des variables catégorielles."
   ]
  },
  {
   "cell_type": "code",
   "execution_count": 71,
   "id": "92812f14-e291-46d3-9d09-72bf0f8be827",
   "metadata": {},
   "outputs": [],
   "source": [
    "df['score_usefulness'] = df[usefulness_columns].sum(axis=1)\n",
    "df['score_acceptance'] = df[acceptance_columns].sum(axis=1)"
   ]
  },
  {
   "cell_type": "code",
   "execution_count": 72,
   "id": "651f9e01-552e-4ed5-bc20-3e4e1606321f",
   "metadata": {},
   "outputs": [
    {
     "name": "stdout",
     "output_type": "stream",
     "text": [
      "Résultats du test de Wilcoxon :\n",
      "Statistique de test : 1440.0, p-valeur : 0.0\n"
     ]
    }
   ],
   "source": [
    "# Calcul du test de Wilcoxon des rangs signés\n",
    "stat, p = stats.wilcoxon(df['score_usefulness'], df['score_acceptance'])\n",
    "\n",
    "# Affichage des résultats\n",
    "print(\"Résultats du test de Wilcoxon :\")\n",
    "print(f\"Statistique de test : {stat}, p-valeur : {round(p, 4)}\")"
   ]
  },
  {
   "cell_type": "markdown",
   "id": "6d5bc26a-6d7e-4c63-9a74-933d61172ab8",
   "metadata": {},
   "source": [
    "### Calcul avec le Chi Square"
   ]
  },
  {
   "cell_type": "code",
   "execution_count": 81,
   "id": "58515623-ac2c-467f-95a1-eaf6b7ccecd5",
   "metadata": {},
   "outputs": [
    {
     "name": "stdout",
     "output_type": "stream",
     "text": [
      "Tableau de contingence ('useful_resume_CV', 'acceptance_sorting_resumes'): p-value = 0.08\n",
      "Tableau de contingence ('useful_resume_CV', 'acceptance_selection_tests'): p-value = 0.0\n",
      "Tableau de contingence ('useful_resume_CV', 'acceptance_interviews'): p-value = 0.0\n",
      "Tableau de contingence ('useful_resume_CV', 'acceptance_negotiation'): p-value = 0.0\n",
      "Tableau de contingence ('useful_resume_CV', 'acceptance_wages_package'): p-value = 0.19\n",
      "Tableau de contingence ('useful_resume_CV', 'acceptance_contract'): p-value = 0.0\n",
      "Tableau de contingence ('useful_linkedin', 'acceptance_sorting_resumes'): p-value = 0.0\n",
      "Tableau de contingence ('useful_linkedin', 'acceptance_selection_tests'): p-value = 0.0\n",
      "Tableau de contingence ('useful_linkedin', 'acceptance_interviews'): p-value = 0.0\n",
      "Tableau de contingence ('useful_linkedin', 'acceptance_negotiation'): p-value = 0.0\n",
      "Tableau de contingence ('useful_linkedin', 'acceptance_wages_package'): p-value = 0.09\n",
      "Tableau de contingence ('useful_linkedin', 'acceptance_contract'): p-value = 0.0\n",
      "Tableau de contingence ('useful_interview', 'acceptance_sorting_resumes'): p-value = 0.0\n",
      "Tableau de contingence ('useful_interview', 'acceptance_selection_tests'): p-value = 0.0\n",
      "Tableau de contingence ('useful_interview', 'acceptance_interviews'): p-value = 0.0\n",
      "Tableau de contingence ('useful_interview', 'acceptance_negotiation'): p-value = 0.0\n",
      "Tableau de contingence ('useful_interview', 'acceptance_wages_package'): p-value = 0.11\n",
      "Tableau de contingence ('useful_interview', 'acceptance_contract'): p-value = 0.0\n",
      "Tableau de contingence ('useful_intelligence', 'acceptance_sorting_resumes'): p-value = 0.01\n",
      "Tableau de contingence ('useful_intelligence', 'acceptance_selection_tests'): p-value = 0.0\n",
      "Tableau de contingence ('useful_intelligence', 'acceptance_interviews'): p-value = 0.02\n",
      "Tableau de contingence ('useful_intelligence', 'acceptance_negotiation'): p-value = 0.14\n",
      "Tableau de contingence ('useful_intelligence', 'acceptance_wages_package'): p-value = 0.05\n",
      "Tableau de contingence ('useful_intelligence', 'acceptance_contract'): p-value = 0.0\n",
      "Tableau de contingence ('useful_speedy_response', 'acceptance_sorting_resumes'): p-value = 0.0\n",
      "Tableau de contingence ('useful_speedy_response', 'acceptance_selection_tests'): p-value = 0.0\n",
      "Tableau de contingence ('useful_speedy_response', 'acceptance_interviews'): p-value = 0.0\n",
      "Tableau de contingence ('useful_speedy_response', 'acceptance_negotiation'): p-value = 0.0\n",
      "Tableau de contingence ('useful_speedy_response', 'acceptance_wages_package'): p-value = 0.03\n",
      "Tableau de contingence ('useful_speedy_response', 'acceptance_contract'): p-value = 0.0\n"
     ]
    }
   ],
   "source": [
    "# Calcul des p-values\n",
    "p_values, associated_variables = calculus_chi_square(df, usefulness_columns, acceptance_columns)\n",
    "\n",
    "# Affichage des p-values\n",
    "for i, p in enumerate(p_values):\n",
    "    print(f'Tableau de contingence {associated_variables[i]}: p-value = {round(p, 2)}')"
   ]
  },
  {
   "cell_type": "code",
   "execution_count": 94,
   "id": "40643e14-1f61-4125-8534-87438d2502e0",
   "metadata": {},
   "outputs": [
    {
     "name": "stdout",
     "output_type": "stream",
     "text": [
      "0.14\n"
     ]
    }
   ],
   "source": [
    "# P-values median\n",
    "p_values_median = median(p_values)\n",
    "print(round(p_values_median, 2))"
   ]
  },
  {
   "cell_type": "code",
   "execution_count": 180,
   "id": "7718f2b5-0540-4998-9bb1-be3c42189153",
   "metadata": {},
   "outputs": [
    {
     "data": {
      "image/png": "[encoded data removed]",
      "text/plain": [
       "<Figure size 700x500 with 2 Axes>"
      ]
     },
     "metadata": {},
     "output_type": "display_data"
    }
   ],
   "source": [
    "create_heatmap(df, usefulness_columns, acceptance_columns)"
   ]
  },
  {
   "cell_type": "markdown",
   "id": "fcf9b4eb-f856-4000-b763-f1e7fedfc977",
   "metadata": {},
   "source": [
    "## Evaluation de la relation entre utilité perçue et la facilité d'usage"
   ]
  },
  {
   "cell_type": "code",
   "execution_count": 96,
   "id": "648ec689-5d9d-4d25-a163-be9698819697",
   "metadata": {},
   "outputs": [],
   "source": [
    "df['score_usefulness'] = df[usefulness_columns].sum(axis=1)\n",
    "df['score_easiness'] = df[easiness_columns].sum(axis=1)"
   ]
  },
  {
   "cell_type": "code",
   "execution_count": 97,
   "id": "e0d5e784-8978-48f1-a9fa-857e8dc331de",
   "metadata": {},
   "outputs": [
    {
     "name": "stdout",
     "output_type": "stream",
     "text": [
      "Résultats du test de Wilcoxon :\n",
      "Statistique de test : 3586.0, p-valeur : 0.0001\n"
     ]
    }
   ],
   "source": [
    "# Calcul du test de Wilcoxon des rangs signés\n",
    "stat, p = stats.wilcoxon(df['score_usefulness'], df['score_easiness'])\n",
    "\n",
    "# Affichage des résultats\n",
    "print(\"Résultats du test de Wilcoxon :\")\n",
    "print(f\"Statistique de test : {stat}, p-valeur : {round(p, 4)}\")"
   ]
  },
  {
   "cell_type": "markdown",
   "id": "f03364b2-ff56-49ad-a203-cf08ae99451e",
   "metadata": {},
   "source": [
    "## Test avec le Chi Square"
   ]
  },
  {
   "cell_type": "code",
   "execution_count": 98,
   "id": "a7724426-e586-46da-9c6d-4cf23ec4c3eb",
   "metadata": {},
   "outputs": [
    {
     "name": "stdout",
     "output_type": "stream",
     "text": [
      "Tableau de contingence ('useful_resume_CV', 'easiness_generative_AI'): p-value = 0.0\n",
      "Tableau de contingence ('useful_resume_CV', 'easiness_search_engine'): p-value = 0.76\n",
      "Tableau de contingence ('useful_resume_CV', 'easiness_navigation'): p-value = 0.35\n",
      "Tableau de contingence ('useful_resume_CV', 'easiness_business_sciences'): p-value = 0.21\n",
      "Tableau de contingence ('useful_linkedin', 'easiness_generative_AI'): p-value = 0.0\n",
      "Tableau de contingence ('useful_linkedin', 'easiness_search_engine'): p-value = 0.04\n",
      "Tableau de contingence ('useful_linkedin', 'easiness_navigation'): p-value = 0.2\n",
      "Tableau de contingence ('useful_linkedin', 'easiness_business_sciences'): p-value = 0.04\n",
      "Tableau de contingence ('useful_interview', 'easiness_generative_AI'): p-value = 0.0\n",
      "Tableau de contingence ('useful_interview', 'easiness_search_engine'): p-value = 0.44\n",
      "Tableau de contingence ('useful_interview', 'easiness_navigation'): p-value = 0.64\n",
      "Tableau de contingence ('useful_interview', 'easiness_business_sciences'): p-value = 0.02\n",
      "Tableau de contingence ('useful_intelligence', 'easiness_generative_AI'): p-value = 0.21\n",
      "Tableau de contingence ('useful_intelligence', 'easiness_search_engine'): p-value = 0.23\n",
      "Tableau de contingence ('useful_intelligence', 'easiness_navigation'): p-value = 0.02\n",
      "Tableau de contingence ('useful_intelligence', 'easiness_business_sciences'): p-value = 0.21\n",
      "Tableau de contingence ('useful_speedy_response', 'easiness_generative_AI'): p-value = 0.0\n",
      "Tableau de contingence ('useful_speedy_response', 'easiness_search_engine'): p-value = 0.21\n",
      "Tableau de contingence ('useful_speedy_response', 'easiness_navigation'): p-value = 0.09\n",
      "Tableau de contingence ('useful_speedy_response', 'easiness_business_sciences'): p-value = 0.02\n"
     ]
    }
   ],
   "source": [
    "# Calcul des p-values\n",
    "p_values, associated_variables = calculus_chi_square(df, usefulness_columns, easiness_columns)\n",
    "\n",
    "# Affichage des p-values\n",
    "for i, p in enumerate(p_values):\n",
    "    print(f'Tableau de contingence {associated_variables[i]}: p-value = {round(p, 2)}')"
   ]
  },
  {
   "cell_type": "code",
   "execution_count": 99,
   "id": "63c603cf-2601-4bc7-a563-bb9a647faed6",
   "metadata": {},
   "outputs": [
    {
     "name": "stdout",
     "output_type": "stream",
     "text": [
      "0.14\n"
     ]
    }
   ],
   "source": [
    "# P-values median\n",
    "p_values_median = median(p_values)\n",
    "print(round(p_values_median, 2))"
   ]
  },
  {
   "cell_type": "code",
   "execution_count": 181,
   "id": "e50c367d-6d82-45d2-967a-0fed7612f61a",
   "metadata": {},
   "outputs": [
    {
     "data": {
      "image/png": "[encoded data removed]",
      "text/plain": [
       "<Figure size 700x500 with 2 Axes>"
      ]
     },
     "metadata": {},
     "output_type": "display_data"
    }
   ],
   "source": [
    "create_heatmap(df, usefulness_columns, easiness_columns)"
   ]
  },
  {
   "cell_type": "markdown",
   "id": "56357bbf-c8d5-4ab8-a2e7-d6397e742a10",
   "metadata": {},
   "source": [
    "## Evaluation de la relation entre utilité perçue et confiance"
   ]
  },
  {
   "cell_type": "code",
   "execution_count": 101,
   "id": "030f812f-3b57-4d6c-972c-3bdc8c7f7d2b",
   "metadata": {},
   "outputs": [],
   "source": [
    "df['score_usefulness'] = df[usefulness_columns].sum(axis=1)\n",
    "df['score_trust'] = df[trust_columns].sum(axis=1)"
   ]
  },
  {
   "cell_type": "code",
   "execution_count": 102,
   "id": "fed937bc-ea2f-45de-9086-230c3bfdc2b1",
   "metadata": {},
   "outputs": [
    {
     "name": "stdout",
     "output_type": "stream",
     "text": [
      "Résultats du test de Wilcoxon :\n",
      "Statistique de test : 137.0, p-valeur : 0.0\n"
     ]
    }
   ],
   "source": [
    "# Calcul du test de Wilcoxon des rangs signés\n",
    "stat, p = stats.wilcoxon(df['score_usefulness'], df['score_trust'])\n",
    "\n",
    "# Affichage des résultats\n",
    "print(\"Résultats du test de Wilcoxon :\")\n",
    "print(f\"Statistique de test : {stat}, p-valeur : {round(p, 4)}\")"
   ]
  },
  {
   "cell_type": "markdown",
   "id": "cd5a5fc2-3eea-4d7f-9e50-15bb93246a93",
   "metadata": {},
   "source": [
    "### Test avec le chi square"
   ]
  },
  {
   "cell_type": "code",
   "execution_count": 103,
   "id": "aa698ac5-ac73-4593-a291-ac44ef6f8d2d",
   "metadata": {},
   "outputs": [
    {
     "name": "stdout",
     "output_type": "stream",
     "text": [
      "Tableau de contingence ('useful_resume_CV', 'trust_best_applicants'): p-value = 0.0\n",
      "Tableau de contingence ('useful_resume_CV', 'trust_discrimination'): p-value = 0.0\n",
      "Tableau de contingence ('useful_resume_CV', 'trust_ethics'): p-value = 0.0\n",
      "Tableau de contingence ('useful_resume_CV', 'trust_diversity'): p-value = 0.0\n",
      "Tableau de contingence ('useful_linkedin', 'trust_best_applicants'): p-value = 0.0\n",
      "Tableau de contingence ('useful_linkedin', 'trust_discrimination'): p-value = 0.09\n",
      "Tableau de contingence ('useful_linkedin', 'trust_ethics'): p-value = 0.02\n",
      "Tableau de contingence ('useful_linkedin', 'trust_diversity'): p-value = 0.0\n",
      "Tableau de contingence ('useful_interview', 'trust_best_applicants'): p-value = 0.0\n",
      "Tableau de contingence ('useful_interview', 'trust_discrimination'): p-value = 0.03\n",
      "Tableau de contingence ('useful_interview', 'trust_ethics'): p-value = 0.02\n",
      "Tableau de contingence ('useful_interview', 'trust_diversity'): p-value = 0.03\n",
      "Tableau de contingence ('useful_intelligence', 'trust_best_applicants'): p-value = 0.0\n",
      "Tableau de contingence ('useful_intelligence', 'trust_discrimination'): p-value = 0.02\n",
      "Tableau de contingence ('useful_intelligence', 'trust_ethics'): p-value = 0.01\n",
      "Tableau de contingence ('useful_intelligence', 'trust_diversity'): p-value = 0.02\n",
      "Tableau de contingence ('useful_speedy_response', 'trust_best_applicants'): p-value = 0.0\n",
      "Tableau de contingence ('useful_speedy_response', 'trust_discrimination'): p-value = 0.02\n",
      "Tableau de contingence ('useful_speedy_response', 'trust_ethics'): p-value = 0.01\n",
      "Tableau de contingence ('useful_speedy_response', 'trust_diversity'): p-value = 0.0\n"
     ]
    }
   ],
   "source": [
    "# Calcul des p-values\n",
    "p_values, associated_variables = calculus_chi_square(df, usefulness_columns, trust_columns)\n",
    "\n",
    "# Affichage des p-values\n",
    "for i, p in enumerate(p_values):\n",
    "    print(f'Tableau de contingence {associated_variables[i]}: p-value = {round(p, 2)}')"
   ]
  },
  {
   "cell_type": "code",
   "execution_count": 104,
   "id": "c3f44594-ec83-4bb5-a161-9a42c16eab5a",
   "metadata": {},
   "outputs": [
    {
     "name": "stdout",
     "output_type": "stream",
     "text": [
      "0.0\n"
     ]
    }
   ],
   "source": [
    "# P-values median\n",
    "p_values_median = median(p_values)\n",
    "print(round(p_values_median, 2))"
   ]
  },
  {
   "cell_type": "code",
   "execution_count": 182,
   "id": "4a43f86a-2c74-4794-b50f-e20a51312a3c",
   "metadata": {},
   "outputs": [
    {
     "data": {
      "image/png": "[encoded data removed]",
      "text/plain": [
       "<Figure size 700x500 with 2 Axes>"
      ]
     },
     "metadata": {},
     "output_type": "display_data"
    }
   ],
   "source": [
    "create_heatmap(df, usefulness_columns, trust_columns)"
   ]
  },
  {
   "cell_type": "markdown",
   "id": "c47c4e01-14b3-4dcd-a713-3b01310a34bb",
   "metadata": {},
   "source": [
    "## Evaluation de la relation entre facilité d'usage et acceptation"
   ]
  },
  {
   "cell_type": "code",
   "execution_count": 106,
   "id": "8125707b-960e-4d08-a1e4-df9248fc8e43",
   "metadata": {},
   "outputs": [],
   "source": [
    "df['score_easiness'] = df[easiness_columns].sum(axis=1)\n",
    "df['score_acceptance'] = df[acceptance_columns].sum(axis=1)"
   ]
  },
  {
   "cell_type": "code",
   "execution_count": 107,
   "id": "0667c471-a289-4a8a-b74f-7936cea75400",
   "metadata": {},
   "outputs": [
    {
     "name": "stdout",
     "output_type": "stream",
     "text": [
      "Résultats du test de Wilcoxon :\n",
      "Statistique de test : 2854.0, p-valeur : 0.0\n"
     ]
    }
   ],
   "source": [
    "# Calcul du test de Wilcoxon des rangs signés\n",
    "stat, p = stats.wilcoxon(df['score_easiness'], df['score_acceptance'])\n",
    "\n",
    "# Affichage des résultats\n",
    "print(\"Résultats du test de Wilcoxon :\")\n",
    "print(f\"Statistique de test : {stat}, p-valeur : {round(p, 4)}\")"
   ]
  },
  {
   "cell_type": "markdown",
   "id": "c3c98da3-a2d5-4e2f-8695-b8cf525dae58",
   "metadata": {},
   "source": [
    "### Test du Chi Square"
   ]
  },
  {
   "cell_type": "code",
   "execution_count": 109,
   "id": "24610b20-6961-431c-a78c-27dd861003a0",
   "metadata": {},
   "outputs": [
    {
     "name": "stdout",
     "output_type": "stream",
     "text": [
      "Tableau de contingence ('easiness_generative_AI', 'acceptance_sorting_resumes'): p-value = 0.04\n",
      "Tableau de contingence ('easiness_generative_AI', 'acceptance_selection_tests'): p-value = 0.71\n",
      "Tableau de contingence ('easiness_generative_AI', 'acceptance_interviews'): p-value = 0.44\n",
      "Tableau de contingence ('easiness_generative_AI', 'acceptance_negotiation'): p-value = 0.13\n",
      "Tableau de contingence ('easiness_generative_AI', 'acceptance_wages_package'): p-value = 0.59\n",
      "Tableau de contingence ('easiness_generative_AI', 'acceptance_contract'): p-value = 0.17\n",
      "Tableau de contingence ('easiness_search_engine', 'acceptance_sorting_resumes'): p-value = 0.25\n",
      "Tableau de contingence ('easiness_search_engine', 'acceptance_selection_tests'): p-value = 0.79\n",
      "Tableau de contingence ('easiness_search_engine', 'acceptance_interviews'): p-value = 0.64\n",
      "Tableau de contingence ('easiness_search_engine', 'acceptance_negotiation'): p-value = 0.37\n",
      "Tableau de contingence ('easiness_search_engine', 'acceptance_wages_package'): p-value = 0.56\n",
      "Tableau de contingence ('easiness_search_engine', 'acceptance_contract'): p-value = 0.27\n",
      "Tableau de contingence ('easiness_navigation', 'acceptance_sorting_resumes'): p-value = 0.59\n",
      "Tableau de contingence ('easiness_navigation', 'acceptance_selection_tests'): p-value = 0.93\n",
      "Tableau de contingence ('easiness_navigation', 'acceptance_interviews'): p-value = 0.42\n",
      "Tableau de contingence ('easiness_navigation', 'acceptance_negotiation'): p-value = 0.02\n",
      "Tableau de contingence ('easiness_navigation', 'acceptance_wages_package'): p-value = 0.17\n",
      "Tableau de contingence ('easiness_navigation', 'acceptance_contract'): p-value = 0.11\n",
      "Tableau de contingence ('easiness_business_sciences', 'acceptance_sorting_resumes'): p-value = 0.79\n",
      "Tableau de contingence ('easiness_business_sciences', 'acceptance_selection_tests'): p-value = 0.47\n",
      "Tableau de contingence ('easiness_business_sciences', 'acceptance_interviews'): p-value = 0.22\n",
      "Tableau de contingence ('easiness_business_sciences', 'acceptance_negotiation'): p-value = 0.53\n",
      "Tableau de contingence ('easiness_business_sciences', 'acceptance_wages_package'): p-value = 0.74\n",
      "Tableau de contingence ('easiness_business_sciences', 'acceptance_contract'): p-value = 0.01\n"
     ]
    }
   ],
   "source": [
    "# Calcul des p-values\n",
    "p_values, associated_variables = calculus_chi_square(df, easiness_columns, acceptance_columns)\n",
    "\n",
    "# Affichage des p-values\n",
    "for i, p in enumerate(p_values):\n",
    "    print(f'Tableau de contingence {associated_variables[i]}: p-value = {round(p, 2)}')"
   ]
  },
  {
   "cell_type": "code",
   "execution_count": 110,
   "id": "5c99dbc8-23fa-4fb1-a59a-4605795ab341",
   "metadata": {},
   "outputs": [
    {
     "name": "stdout",
     "output_type": "stream",
     "text": [
      "0.43\n"
     ]
    }
   ],
   "source": [
    "# P-values median\n",
    "p_values_median = median(p_values)\n",
    "print(round(p_values_median, 2))"
   ]
  },
  {
   "cell_type": "code",
   "execution_count": 183,
   "id": "b49b707e-7ffd-451c-b82a-fa046ffc8cf2",
   "metadata": {},
   "outputs": [
    {
     "data": {
      "image/png": "[encoded data removed]",
      "text/plain": [
       "<Figure size 700x500 with 2 Axes>"
      ]
     },
     "metadata": {},
     "output_type": "display_data"
    }
   ],
   "source": [
    "create_heatmap(df, easiness_columns, acceptance_columns)"
   ]
  },
  {
   "cell_type": "markdown",
   "id": "5207a4f4-e4f4-4aa3-acd0-1e85b3b0e463",
   "metadata": {},
   "source": [
    "## Evaluation de la relation entre facilité d'usage et confiance"
   ]
  },
  {
   "cell_type": "code",
   "execution_count": 112,
   "id": "dd97ac6b-b459-496b-8d02-a1cb91bb9043",
   "metadata": {},
   "outputs": [],
   "source": [
    "df['score_easiness'] = df[easiness_columns].sum(axis=1)\n",
    "df['score_trust'] = df[trust_columns].sum(axis=1)"
   ]
  },
  {
   "cell_type": "code",
   "execution_count": 113,
   "id": "12749b76-d737-4300-ac64-c7ef53697e9f",
   "metadata": {},
   "outputs": [
    {
     "name": "stdout",
     "output_type": "stream",
     "text": [
      "Résultats du test de Wilcoxon :\n",
      "Statistique de test : 148.0, p-valeur : 0.0\n"
     ]
    }
   ],
   "source": [
    "# Calcul du test de Wilcoxon des rangs signés\n",
    "stat, p = stats.wilcoxon(df['score_easiness'], df['score_trust'])\n",
    "\n",
    "# Affichage des résultats\n",
    "print(\"Résultats du test de Wilcoxon :\")\n",
    "print(f\"Statistique de test : {stat}, p-valeur : {round(p, 4)}\")"
   ]
  },
  {
   "cell_type": "markdown",
   "id": "34d2ff6d-d676-4a82-b642-abe87600f721",
   "metadata": {},
   "source": [
    "### Test du Chi Square"
   ]
  },
  {
   "cell_type": "code",
   "execution_count": 114,
   "id": "c090dc3b-62f7-48f1-a596-ba7b25ebb553",
   "metadata": {},
   "outputs": [
    {
     "name": "stdout",
     "output_type": "stream",
     "text": [
      "Tableau de contingence ('easiness_generative_AI', 'trust_best_applicants'): p-value = 0.12\n",
      "Tableau de contingence ('easiness_generative_AI', 'trust_discrimination'): p-value = 0.84\n",
      "Tableau de contingence ('easiness_generative_AI', 'trust_ethics'): p-value = 0.77\n",
      "Tableau de contingence ('easiness_generative_AI', 'trust_diversity'): p-value = 0.21\n",
      "Tableau de contingence ('easiness_search_engine', 'trust_best_applicants'): p-value = 0.67\n",
      "Tableau de contingence ('easiness_search_engine', 'trust_discrimination'): p-value = 0.48\n",
      "Tableau de contingence ('easiness_search_engine', 'trust_ethics'): p-value = 0.54\n",
      "Tableau de contingence ('easiness_search_engine', 'trust_diversity'): p-value = 0.81\n",
      "Tableau de contingence ('easiness_navigation', 'trust_best_applicants'): p-value = 0.88\n",
      "Tableau de contingence ('easiness_navigation', 'trust_discrimination'): p-value = 0.26\n",
      "Tableau de contingence ('easiness_navigation', 'trust_ethics'): p-value = 0.73\n",
      "Tableau de contingence ('easiness_navigation', 'trust_diversity'): p-value = 0.36\n",
      "Tableau de contingence ('easiness_business_sciences', 'trust_best_applicants'): p-value = 0.3\n",
      "Tableau de contingence ('easiness_business_sciences', 'trust_discrimination'): p-value = 0.23\n",
      "Tableau de contingence ('easiness_business_sciences', 'trust_ethics'): p-value = 0.18\n",
      "Tableau de contingence ('easiness_business_sciences', 'trust_diversity'): p-value = 0.24\n"
     ]
    }
   ],
   "source": [
    "# Calcul des p-values\n",
    "p_values, associated_variables = calculus_chi_square(df, easiness_columns, trust_columns)\n",
    "\n",
    "# Affichage des p-values\n",
    "for i, p in enumerate(p_values):\n",
    "    print(f'Tableau de contingence {associated_variables[i]}: p-value = {round(p, 2)}')"
   ]
  },
  {
   "cell_type": "code",
   "execution_count": 115,
   "id": "ff10ebe0-3f8b-41af-b62b-f86e372bd41a",
   "metadata": {},
   "outputs": [
    {
     "name": "stdout",
     "output_type": "stream",
     "text": [
      "0.42\n"
     ]
    }
   ],
   "source": [
    "# P-values median\n",
    "p_values_median = median(p_values)\n",
    "print(round(p_values_median, 2))"
   ]
  },
  {
   "cell_type": "code",
   "execution_count": 184,
   "id": "6d9dcb7a-130b-4771-ad03-7a397388cf12",
   "metadata": {},
   "outputs": [
    {
     "data": {
      "image/png": "[encoded data removed]",
      "text/plain": [
       "<Figure size 700x500 with 2 Axes>"
      ]
     },
     "metadata": {},
     "output_type": "display_data"
    }
   ],
   "source": [
    "create_heatmap(df, easiness_columns, trust_columns)"
   ]
  },
  {
   "cell_type": "markdown",
   "id": "4ba9db30-ae09-41fb-a084-c966e8a739da",
   "metadata": {},
   "source": [
    "## Evaluation de la relation entre confiance et acceptation"
   ]
  },
  {
   "cell_type": "code",
   "execution_count": 118,
   "id": "32d7e99b-a830-4283-bae7-0c50f5dfafc6",
   "metadata": {},
   "outputs": [],
   "source": [
    "df['score_trust'] = df[trust_columns].sum(axis=1)\n",
    "df['score_acceptance'] = df[acceptance_columns].sum(axis=1)"
   ]
  },
  {
   "cell_type": "code",
   "execution_count": 119,
   "id": "f7aba619-55b9-4b53-8d53-19ed9b1c575f",
   "metadata": {},
   "outputs": [
    {
     "name": "stdout",
     "output_type": "stream",
     "text": [
      "Résultats du test de Wilcoxon :\n",
      "Statistique de test : 705.0, p-valeur : 0.0\n"
     ]
    }
   ],
   "source": [
    "# Calcul du test de Wilcoxon des rangs signés\n",
    "stat, p = stats.wilcoxon(df['score_trust'], df['score_acceptance'])\n",
    "\n",
    "# Affichage des résultats\n",
    "print(\"Résultats du test de Wilcoxon :\")\n",
    "print(f\"Statistique de test : {stat}, p-valeur : {round(p, 4)}\")"
   ]
  },
  {
   "cell_type": "markdown",
   "id": "53caf4ea-b18e-4043-a154-53e1cf113982",
   "metadata": {},
   "source": [
    "### Test du Chi Square"
   ]
  },
  {
   "cell_type": "code",
   "execution_count": 120,
   "id": "300dc12c-e158-4db8-8785-66f7e083e50f",
   "metadata": {},
   "outputs": [
    {
     "name": "stdout",
     "output_type": "stream",
     "text": [
      "Tableau de contingence ('trust_best_applicants', 'acceptance_sorting_resumes'): p-value = 0.0\n",
      "Tableau de contingence ('trust_best_applicants', 'acceptance_selection_tests'): p-value = 0.0\n",
      "Tableau de contingence ('trust_best_applicants', 'acceptance_interviews'): p-value = 0.0\n",
      "Tableau de contingence ('trust_best_applicants', 'acceptance_negotiation'): p-value = 0.0\n",
      "Tableau de contingence ('trust_best_applicants', 'acceptance_wages_package'): p-value = 0.0\n",
      "Tableau de contingence ('trust_best_applicants', 'acceptance_contract'): p-value = 0.0\n",
      "Tableau de contingence ('trust_discrimination', 'acceptance_sorting_resumes'): p-value = 0.01\n",
      "Tableau de contingence ('trust_discrimination', 'acceptance_selection_tests'): p-value = 0.0\n",
      "Tableau de contingence ('trust_discrimination', 'acceptance_interviews'): p-value = 0.0\n",
      "Tableau de contingence ('trust_discrimination', 'acceptance_negotiation'): p-value = 0.0\n",
      "Tableau de contingence ('trust_discrimination', 'acceptance_wages_package'): p-value = 0.01\n",
      "Tableau de contingence ('trust_discrimination', 'acceptance_contract'): p-value = 0.0\n",
      "Tableau de contingence ('trust_ethics', 'acceptance_sorting_resumes'): p-value = 0.05\n",
      "Tableau de contingence ('trust_ethics', 'acceptance_selection_tests'): p-value = 0.0\n",
      "Tableau de contingence ('trust_ethics', 'acceptance_interviews'): p-value = 0.0\n",
      "Tableau de contingence ('trust_ethics', 'acceptance_negotiation'): p-value = 0.01\n",
      "Tableau de contingence ('trust_ethics', 'acceptance_wages_package'): p-value = 0.01\n",
      "Tableau de contingence ('trust_ethics', 'acceptance_contract'): p-value = 0.15\n",
      "Tableau de contingence ('trust_diversity', 'acceptance_sorting_resumes'): p-value = 0.0\n",
      "Tableau de contingence ('trust_diversity', 'acceptance_selection_tests'): p-value = 0.0\n",
      "Tableau de contingence ('trust_diversity', 'acceptance_interviews'): p-value = 0.0\n",
      "Tableau de contingence ('trust_diversity', 'acceptance_negotiation'): p-value = 0.0\n",
      "Tableau de contingence ('trust_diversity', 'acceptance_wages_package'): p-value = 0.0\n",
      "Tableau de contingence ('trust_diversity', 'acceptance_contract'): p-value = 0.04\n"
     ]
    }
   ],
   "source": [
    "# Calcul des p-values\n",
    "p_values, associated_variables = calculus_chi_square(df, trust_columns, acceptance_columns)\n",
    "\n",
    "# Affichage des p-values\n",
    "for i, p in enumerate(p_values):\n",
    "    print(f'Tableau de contingence {associated_variables[i]}: p-value = {round(p, 2)}')"
   ]
  },
  {
   "cell_type": "code",
   "execution_count": 121,
   "id": "ceafeb84-0d5f-4ddf-8983-d0c1e0cba9f0",
   "metadata": {},
   "outputs": [
    {
     "name": "stdout",
     "output_type": "stream",
     "text": [
      "0.0\n"
     ]
    }
   ],
   "source": [
    "# P-values median\n",
    "p_values_median = median(p_values)\n",
    "print(round(p_values_median, 2))"
   ]
  },
  {
   "cell_type": "code",
   "execution_count": 185,
   "id": "f3dad597-3095-4c5f-b4b6-4c883882e385",
   "metadata": {},
   "outputs": [
    {
     "data": {
      "image/png": "[encoded data removed]",
      "text/plain": [
       "<Figure size 700x500 with 2 Axes>"
      ]
     },
     "metadata": {},
     "output_type": "display_data"
    }
   ],
   "source": [
    "create_heatmap(df, trust_columns, acceptance_columns)"
   ]
  },
  {
   "cell_type": "markdown",
   "id": "5624c202-7059-4e0d-aac6-01697576b127",
   "metadata": {},
   "source": [
    "## Relation entre l'acceptation et l'âge "
   ]
  },
  {
   "cell_type": "markdown",
   "id": "04a5c470-ff86-4ff4-8858-6100597c471f",
   "metadata": {},
   "source": [
    "# Visualisation des résultats catégoriels"
   ]
  },
  {
   "cell_type": "markdown",
   "id": "68d0a1ca-eadf-4667-aacc-8c175110c5a1",
   "metadata": {},
   "source": [
    "## Visualisation des résultats pour l'utilité perçue"
   ]
  },
  {
   "cell_type": "code",
   "execution_count": 126,
   "id": "b29d456b-2def-4673-a71a-dc7e3e757215",
   "metadata": {},
   "outputs": [],
   "source": [
    "import matplotlib.pyplot as plt"
   ]
  },
  {
   "cell_type": "markdown",
   "id": "ae8e3e6b-5e51-4003-b465-ad5d0971601e",
   "metadata": {},
   "source": [
    "### Préparation des données"
   ]
  },
  {
   "cell_type": "code",
   "execution_count": 133,
   "id": "61e1f78d-3842-4a3a-8298-e011621fc79a",
   "metadata": {},
   "outputs": [
    {
     "name": "stdout",
     "output_type": "stream",
     "text": [
      "{1: 'Totalement opposé', 2: 'Plutôt opposé', 3: 'Ni favorable, ni opposé', 4: 'Assez favorable', 5: 'Tout à fait favorable'}\n"
     ]
    }
   ],
   "source": [
    "# Create reverse dictionaries in order to retrieve original questions and options.\n",
    "reverse_usefulness_columns = {value: key for key, value in dict_usefulness_columns.items()}\n",
    "reverse_likert_mapping_usefulness = {value: key for key, value in likert_mapping_usefulness.items()}\n",
    "print(reverse_likert_mapping_usefulness)"
   ]
  },
  {
   "cell_type": "code",
   "execution_count": 135,
   "id": "a3dc81bf-d80e-49a5-9726-2fc4dc8bc29a",
   "metadata": {},
   "outputs": [
    {
     "name": "stdout",
     "output_type": "stream",
     "text": [
      "['Totalement opposé', 'Plutôt opposé', 'Ni favorable, ni opposé', 'Assez favorable', 'Tout à fait favorable']\n"
     ]
    }
   ],
   "source": [
    "# List of ordered categories \n",
    "ordered_cats_usefulness = list(reverse_likert_mapping_usefulness.values())\n",
    "\n",
    "# Check out the outcome\n",
    "print(ordered_cats_usefulness)"
   ]
  },
  {
   "cell_type": "code",
   "execution_count": 136,
   "id": "3b2a9347-6e70-4554-806b-08e92283e9ce",
   "metadata": {},
   "outputs": [],
   "source": [
    "colors = [plot_likert.colors.TRANSPARENT, \"red\", \"orange\", \"lightgrey\", \"lightgreen\", \"green\"]"
   ]
  },
  {
   "cell_type": "code",
   "execution_count": 137,
   "id": "a9b926eb-ca80-4a4d-a4c5-bb60c0c0af2c",
   "metadata": {},
   "outputs": [
    {
     "name": "stderr",
     "output_type": "stream",
     "text": [
      "/Users/fabricejaouen/apprendre-dev/survey/venv/lib/python3.10/site-packages/plot_likert/plot_likert.py:257: FutureWarning: DataFrame.applymap has been deprecated. Use DataFrame.map instead.\n",
      "  df.applymap(validate)\n",
      "/Users/fabricejaouen/apprendre-dev/survey/venv/lib/python3.10/site-packages/plot_likert/plot_likert.py:310: FutureWarning: Series.__getitem__ treating keys as positions is deprecated. In a future version, integer keys will always be treated as labels (consistent with DataFrame behavior). To access a value by position, use `ser.iloc[pos]`\n",
      "  responses_to_first_question = responses_per_question[0]\n"
     ]
    },
    {
     "data": {
      "text/plain": [
       "<Axes: xlabel='Percentage of Responses'>"
      ]
     },
     "execution_count": 137,
     "metadata": {},
     "output_type": "execute_result"
    },
    {
     "data": {
      "image/png": "[encoded data removed]",
      "text/plain": [
       "<Figure size 640x480 with 1 Axes>"
      ]
     },
     "metadata": {},
     "output_type": "display_data"
    }
   ],
   "source": [
    "plot_likert.plot_likert(df_usefulness, ordered_cats_usefulness, plot_percentage=True, colors=colors)"
   ]
  },
  {
   "cell_type": "markdown",
   "id": "d6fe9c60-8fbd-4381-9b1e-1e71788ff777",
   "metadata": {},
   "source": [
    "### Visualisation de l'utilité perçue"
   ]
  },
  {
   "cell_type": "markdown",
   "id": "3693b4f1-3237-48b8-88f3-379d3c916e82",
   "metadata": {},
   "source": [
    "## Visualisation des résultats pour la facilité d'usage"
   ]
  },
  {
   "cell_type": "markdown",
   "id": "db12f402-9725-4f69-8da6-ddde40beea9d",
   "metadata": {},
   "source": [
    "### Préparation des données"
   ]
  },
  {
   "cell_type": "code",
   "execution_count": 822,
   "id": "9a32dde1-b155-421a-96e2-d657a48bf1fe",
   "metadata": {},
   "outputs": [
    {
     "name": "stdout",
     "output_type": "stream",
     "text": [
      "['easiness_generative_AI', 'easiness_search_engine', 'easiness_navigation', 'easiness_business_sciences']\n",
      "[\"à l'aise\", \"Plutôt à l'aise\", 'Ni aisance, ni difficultés', 'Quelques difficultés', 'En difficulté']\n"
     ]
    }
   ],
   "source": [
    "# List of ordered categories \n",
    "ordered_cats_easiness = list(reverse_likert_mapping_easiness.values())\n",
    "\n",
    "# Check out the outcome\n",
    "print(ordered_cats_easiness)"
   ]
  },
  {
   "cell_type": "markdown",
   "id": "8d10a256-7344-4e69-8287-e17b6c3a3f64",
   "metadata": {},
   "source": [
    "### Visualisation de la facilité d'usage perçue"
   ]
  },
  {
   "cell_type": "code",
   "execution_count": 1100,
   "id": "74711f98-14e5-46a2-a679-85109e8725eb",
   "metadata": {},
   "outputs": [],
   "source": [
    "colors = [plot_likert.colors.TRANSPARENT, \"green\", \"lightgreen\", \"lightgrey\", \"orange\", \"red\"]"
   ]
  },
  {
   "cell_type": "code",
   "execution_count": 1101,
   "id": "eefc3319-72f9-494a-bd36-3b5318354a3c",
   "metadata": {},
   "outputs": [
    {
     "name": "stderr",
     "output_type": "stream",
     "text": [
      "/Library/Frameworks/Python.framework/Versions/3.10/lib/python3.10/site-packages/plot_likert/plot_likert.py:257: FutureWarning: DataFrame.applymap has been deprecated. Use DataFrame.map instead.\n",
      "  df.applymap(validate)\n",
      "/Library/Frameworks/Python.framework/Versions/3.10/lib/python3.10/site-packages/plot_likert/plot_likert.py:310: FutureWarning: Series.__getitem__ treating keys as positions is deprecated. In a future version, integer keys will always be treated as labels (consistent with DataFrame behavior). To access a value by position, use `ser.iloc[pos]`\n",
      "  responses_to_first_question = responses_per_question[0]\n"
     ]
    },
    {
     "data": {
      "text/plain": [
       "<Axes: xlabel='Percentage of Responses'>"
      ]
     },
     "execution_count": 1101,
     "metadata": {},
     "output_type": "execute_result"
    },
    {
     "data": {
      "image/png": "[encoded data removed]",
      "text/plain": [
       "<Figure size 640x480 with 1 Axes>"
      ]
     },
     "metadata": {},
     "output_type": "display_data"
    }
   ],
   "source": [
    "plot_likert.plot_likert(df_easiness, ordered_cats_easiness, plot_percentage=True, colors=colors)"
   ]
  },
  {
   "cell_type": "markdown",
   "id": "c0664d76-f0a9-4e69-89eb-654dc208e71d",
   "metadata": {},
   "source": [
    "## Visualisation des résultats pour la crédibilité du recruteur utilisant l'IA"
   ]
  },
  {
   "cell_type": "markdown",
   "id": "3ff2816e-8ace-4d02-a741-55a401899469",
   "metadata": {},
   "source": [
    "### Préparation des données"
   ]
  },
  {
   "cell_type": "code",
   "execution_count": 138,
   "id": "fa8d8902-db4e-4966-af7f-245267bdb4f9",
   "metadata": {},
   "outputs": [
    {
     "name": "stdout",
     "output_type": "stream",
     "text": [
      "{1: 'Très faible', 2: 'Faible', 3: 'Ni faible, ni élevé', 4: 'Elevé', 5: 'Très élevé'}\n"
     ]
    }
   ],
   "source": [
    "# Create reverse dictionaries in order to retrieve original questions and options.\n",
    "reverse_trust_columns = {value: key for key, value in dict_trust_columns.items()}\n",
    "reverse_likert_mapping_trust = {value: key for key, value in likert_mapping_trust.items()}\n",
    "print(reverse_likert_mapping_trust)"
   ]
  },
  {
   "cell_type": "code",
   "execution_count": 139,
   "id": "65d49ed2-ce43-455b-85e4-65566256f266",
   "metadata": {},
   "outputs": [
    {
     "name": "stdout",
     "output_type": "stream",
     "text": [
      "['Très faible', 'Faible', 'Ni faible, ni élevé', 'Elevé', 'Très élevé']\n"
     ]
    }
   ],
   "source": [
    "# List of ordered categories \n",
    "ordered_cats_trust = list(reverse_likert_mapping_trust.values())\n",
    "\n",
    "# Check out the outcome\n",
    "print(ordered_cats_trust)"
   ]
  },
  {
   "cell_type": "code",
   "execution_count": 140,
   "id": "b63d7807-e6e2-4033-9ef5-e3eb58665808",
   "metadata": {},
   "outputs": [],
   "source": [
    "colors = [plot_likert.colors.TRANSPARENT, \"red\", \"orange\", \"lightgrey\", \"lightgreen\", \"green\"]"
   ]
  },
  {
   "cell_type": "markdown",
   "id": "8c187b59-6ab9-404c-91bd-21ea9c625c9e",
   "metadata": {},
   "source": [
    "### Visualisation du niveau de crédibilité"
   ]
  },
  {
   "cell_type": "code",
   "execution_count": 141,
   "id": "f5bc787a-7f95-4499-a375-79510808506e",
   "metadata": {},
   "outputs": [
    {
     "name": "stderr",
     "output_type": "stream",
     "text": [
      "/Users/fabricejaouen/apprendre-dev/survey/venv/lib/python3.10/site-packages/plot_likert/plot_likert.py:257: FutureWarning: DataFrame.applymap has been deprecated. Use DataFrame.map instead.\n",
      "  df.applymap(validate)\n",
      "/Users/fabricejaouen/apprendre-dev/survey/venv/lib/python3.10/site-packages/plot_likert/plot_likert.py:310: FutureWarning: Series.__getitem__ treating keys as positions is deprecated. In a future version, integer keys will always be treated as labels (consistent with DataFrame behavior). To access a value by position, use `ser.iloc[pos]`\n",
      "  responses_to_first_question = responses_per_question[0]\n"
     ]
    },
    {
     "data": {
      "text/plain": [
       "<Axes: xlabel='Percentage of Responses'>"
      ]
     },
     "execution_count": 141,
     "metadata": {},
     "output_type": "execute_result"
    },
    {
     "data": {
      "image/png": "[encoded data removed]",
      "text/plain": [
       "<Figure size 640x480 with 1 Axes>"
      ]
     },
     "metadata": {},
     "output_type": "display_data"
    }
   ],
   "source": [
    "plot_likert.plot_likert(df_trust, ordered_cats_trust, plot_percentage=True, colors=colors)"
   ]
  },
  {
   "cell_type": "markdown",
   "id": "c681e340-1cb0-4e35-82c5-284427c9b5c6",
   "metadata": {},
   "source": [
    "## Visualisation de l'acceptation de l'IA par le candidat lors d'un recrutement"
   ]
  },
  {
   "cell_type": "markdown",
   "id": "22abb271-2dbc-42df-8ec0-5d9831d1ee3c",
   "metadata": {},
   "source": [
    "### Préparation des données"
   ]
  },
  {
   "cell_type": "code",
   "execution_count": 142,
   "id": "c8c03e4d-deb4-44db-95c6-42bd0f3619e2",
   "metadata": {},
   "outputs": [
    {
     "name": "stdout",
     "output_type": "stream",
     "text": [
      "{1: 'Très réticent', 2: 'Réticent', 3: 'Ni réticent, ni favorable', 4: 'Favorable', 5: 'Très favorable'}\n"
     ]
    }
   ],
   "source": [
    "# Create reverse dictionaries in order to retrieve original questions and options.\n",
    "reverse_acceptance_columns = {value: key for key, value in dict_acceptance_columns.items()}\n",
    "reverse_likert_mapping_acceptance = {value: key for key, value in likert_mapping_acceptance.items()}\n",
    "print(reverse_likert_mapping_acceptance)"
   ]
  },
  {
   "cell_type": "code",
   "execution_count": 143,
   "id": "36e5d862-892f-4177-a188-ff90abdc2c46",
   "metadata": {},
   "outputs": [
    {
     "name": "stdout",
     "output_type": "stream",
     "text": [
      "['Très réticent', 'Réticent', 'Ni réticent, ni favorable', 'Favorable', 'Très favorable']\n"
     ]
    }
   ],
   "source": [
    "# List of ordered categories \n",
    "ordered_cats_acceptance = list(reverse_likert_mapping_acceptance.values())\n",
    "\n",
    "# Check out the outcome\n",
    "print(ordered_cats_acceptance)"
   ]
  },
  {
   "cell_type": "markdown",
   "id": "5f26fbee-8fe5-44b6-b78b-4aaf6da79fab",
   "metadata": {},
   "source": [
    "### Visualisation du niveau d'acceptation"
   ]
  },
  {
   "cell_type": "code",
   "execution_count": 144,
   "id": "9cad3029-4438-41b2-9a49-32f88d69729f",
   "metadata": {},
   "outputs": [],
   "source": [
    "colors = [plot_likert.colors.TRANSPARENT, \"red\", \"orange\", \"lightgrey\", \"lightgreen\", \"green\"]"
   ]
  },
  {
   "cell_type": "code",
   "execution_count": 145,
   "id": "67facd0b-1628-4d6c-ac0d-44ba2122a4f3",
   "metadata": {},
   "outputs": [
    {
     "name": "stderr",
     "output_type": "stream",
     "text": [
      "/Users/fabricejaouen/apprendre-dev/survey/venv/lib/python3.10/site-packages/plot_likert/plot_likert.py:257: FutureWarning: DataFrame.applymap has been deprecated. Use DataFrame.map instead.\n",
      "  df.applymap(validate)\n",
      "/Users/fabricejaouen/apprendre-dev/survey/venv/lib/python3.10/site-packages/plot_likert/plot_likert.py:310: FutureWarning: Series.__getitem__ treating keys as positions is deprecated. In a future version, integer keys will always be treated as labels (consistent with DataFrame behavior). To access a value by position, use `ser.iloc[pos]`\n",
      "  responses_to_first_question = responses_per_question[0]\n"
     ]
    },
    {
     "data": {
      "text/plain": [
       "<Axes: xlabel='Percentage of Responses'>"
      ]
     },
     "execution_count": 145,
     "metadata": {},
     "output_type": "execute_result"
    },
    {
     "data": {
      "image/png": "[encoded data removed]",
      "text/plain": [
       "<Figure size 640x480 with 1 Axes>"
      ]
     },
     "metadata": {},
     "output_type": "display_data"
    }
   ],
   "source": [
    "plot_likert.plot_likert(df_acceptance, ordered_cats_acceptance, plot_percentage=True, colors=colors)"
   ]
  },
  {
   "cell_type": "markdown",
   "id": "9194461a-eedf-48de-814a-12149f4768ab",
   "metadata": {},
   "source": [
    "## Visualisation de l'importance qu'un candidat apporte à l'éthique"
   ]
  },
  {
   "cell_type": "markdown",
   "id": "96095f7e-9c0e-4028-bc6a-3a05e12a1683",
   "metadata": {},
   "source": [
    "### Préparation des données"
   ]
  },
  {
   "cell_type": "code",
   "execution_count": 146,
   "id": "52134127-df1c-42ba-a9cd-370811d12c4e",
   "metadata": {},
   "outputs": [
    {
     "name": "stdout",
     "output_type": "stream",
     "text": [
      "{5: \"C'est très important\", 4: \"C'est plutôt important\", 3: \"C'est important ou secondaire\", 2: \"C'est plutôt secondaire\", 1: \"C'est très secondaire\"}\n"
     ]
    }
   ],
   "source": [
    "# Create reverse dictionaries in order to retrieve original questions and options.\n",
    "reverse_ethics_columns = {value: key for key, value in dict_ethics_columns.items()}\n",
    "reverse_likert_mapping_ethics = {value: key for key, value in likert_mapping_ethics.items()}\n",
    "print(reverse_likert_mapping_ethics)"
   ]
  },
  {
   "cell_type": "code",
   "execution_count": 147,
   "id": "095930ff-7d96-4741-b4a8-e10a0ffbc8ff",
   "metadata": {},
   "outputs": [
    {
     "name": "stdout",
     "output_type": "stream",
     "text": [
      "[\"C'est très important\", \"C'est plutôt important\", \"C'est important ou secondaire\", \"C'est plutôt secondaire\", \"C'est très secondaire\"]\n"
     ]
    }
   ],
   "source": [
    "# List of ordered categories \n",
    "ordered_cats_ethics = list(reverse_likert_mapping_ethics.values())\n",
    "\n",
    "# Check out the outcome\n",
    "print(ordered_cats_ethics)"
   ]
  },
  {
   "cell_type": "code",
   "execution_count": 148,
   "id": "611d811d-0270-4ff7-a451-e3b1d5253d68",
   "metadata": {},
   "outputs": [],
   "source": [
    "colors = [plot_likert.colors.TRANSPARENT, \"red\", \"orange\", \"lightgrey\", \"lightgreen\", \"green\"]"
   ]
  },
  {
   "cell_type": "markdown",
   "id": "0038d6fa-8b1b-46b7-b754-536bf466d576",
   "metadata": {},
   "source": [
    "### Visualisation de l'importance accordée à l'éthique"
   ]
  },
  {
   "cell_type": "code",
   "execution_count": 149,
   "id": "e7b0b5d0-01f9-4bf6-9081-90233b4587e9",
   "metadata": {},
   "outputs": [
    {
     "name": "stderr",
     "output_type": "stream",
     "text": [
      "/Users/fabricejaouen/apprendre-dev/survey/venv/lib/python3.10/site-packages/plot_likert/plot_likert.py:257: FutureWarning: DataFrame.applymap has been deprecated. Use DataFrame.map instead.\n",
      "  df.applymap(validate)\n",
      "/Users/fabricejaouen/apprendre-dev/survey/venv/lib/python3.10/site-packages/plot_likert/plot_likert.py:310: FutureWarning: Series.__getitem__ treating keys as positions is deprecated. In a future version, integer keys will always be treated as labels (consistent with DataFrame behavior). To access a value by position, use `ser.iloc[pos]`\n",
      "  responses_to_first_question = responses_per_question[0]\n",
      "/Users/fabricejaouen/apprendre-dev/survey/venv/lib/python3.10/site-packages/plot_likert/plot_likert.py:313: UserWarning: In your data, not all questions have the same number of responses. i.e., different numbers of people answered each question. Therefore, the percentages aren't directly comparable: X% for one question represents a different number of responses than X% for another question, yet they will appear the same in the percentage graph. This may be misleading to your reader.\n",
      "  warn(\n"
     ]
    },
    {
     "data": {
      "text/plain": [
       "<Axes: xlabel='Percentage of Responses'>"
      ]
     },
     "execution_count": 149,
     "metadata": {},
     "output_type": "execute_result"
    },
    {
     "data": {
      "image/png": "[encoded data removed]",
      "text/plain": [
       "<Figure size 640x480 with 1 Axes>"
      ]
     },
     "metadata": {},
     "output_type": "display_data"
    }
   ],
   "source": [
    "plot_likert.plot_likert(df_ethics, ordered_cats_ethics, plot_percentage=True, colors=colors)"
   ]
  },
  {
   "cell_type": "markdown",
   "id": "53ba0be7-bced-4e37-9e20-69d9734c82b8",
   "metadata": {},
   "source": [
    "## Contrôle de l'impact de l'âge sur les résultats"
   ]
  },
  {
   "cell_type": "markdown",
   "id": "131743e4-6d1d-4639-bd52-cc2edc0d5317",
   "metadata": {},
   "source": [
    "### H0 : L'âge n'a pas d'impact significatif sur l'utilité perçue"
   ]
  },
  {
   "cell_type": "code",
   "execution_count": 154,
   "id": "a09f9fec-c384-47b1-b81c-ca354deb14ba",
   "metadata": {},
   "outputs": [],
   "source": [
    "# Calcul des p-values\n",
    "p_values, associated_variables = calculus_chi_square(df, [\"misc_age_category\"], usefulness_columns)"
   ]
  },
  {
   "cell_type": "code",
   "execution_count": 155,
   "id": "92c03fb0-c95e-480c-a791-5eb1a9d513ce",
   "metadata": {},
   "outputs": [
    {
     "name": "stdout",
     "output_type": "stream",
     "text": [
      "Tableau de contingence ('misc_age_category', 'useful_resume_CV'): p-value = 0.22\n",
      "Tableau de contingence ('misc_age_category', 'useful_linkedin'): p-value = 0.27\n",
      "Tableau de contingence ('misc_age_category', 'useful_interview'): p-value = 0.94\n",
      "Tableau de contingence ('misc_age_category', 'useful_intelligence'): p-value = 0.26\n",
      "Tableau de contingence ('misc_age_category', 'useful_speedy_response'): p-value = 0.22\n"
     ]
    }
   ],
   "source": [
    "for i, p in enumerate(p_values):\n",
    "    print(f'Tableau de contingence {associated_variables[i]}: p-value = {round(p, 2)}')"
   ]
  },
  {
   "cell_type": "code",
   "execution_count": 157,
   "id": "20c5c093-6b3e-436b-8ee7-c8a2ae2d1f47",
   "metadata": {},
   "outputs": [
    {
     "name": "stdout",
     "output_type": "stream",
     "text": [
      "0.26\n"
     ]
    }
   ],
   "source": [
    "p_values_median = median(p_values)\n",
    "print(round(p_values_median, 2))"
   ]
  },
  {
   "cell_type": "markdown",
   "id": "d65a9cc2-42b1-44a5-b95e-9b413c22ae04",
   "metadata": {},
   "source": [
    "### H0 : L'âge n'a pas d'impact significatif sur la facilité d'usage"
   ]
  },
  {
   "cell_type": "code",
   "execution_count": 158,
   "id": "f1ba26f2-a884-4536-843c-35908fae5108",
   "metadata": {},
   "outputs": [],
   "source": [
    "p_values, associated_variables = calculus_chi_square(df, [\"misc_age_category\"], easiness_columns)"
   ]
  },
  {
   "cell_type": "code",
   "execution_count": 159,
   "id": "ae80ded1-2d36-4b9f-9433-83df0e449995",
   "metadata": {},
   "outputs": [
    {
     "name": "stdout",
     "output_type": "stream",
     "text": [
      "Tableau de contingence ('misc_age_category', 'easiness_generative_AI'): p-value = 0.01\n",
      "Tableau de contingence ('misc_age_category', 'easiness_search_engine'): p-value = 0.47\n",
      "Tableau de contingence ('misc_age_category', 'easiness_navigation'): p-value = 0.72\n",
      "Tableau de contingence ('misc_age_category', 'easiness_business_sciences'): p-value = 0.47\n"
     ]
    }
   ],
   "source": [
    "for i, p in enumerate(p_values):\n",
    "    print(f'Tableau de contingence {associated_variables[i]}: p-value = {round(p, 2)}')"
   ]
  },
  {
   "cell_type": "code",
   "execution_count": 160,
   "id": "7944afae-fd8e-40ca-a67d-f9e67c552221",
   "metadata": {},
   "outputs": [
    {
     "name": "stdout",
     "output_type": "stream",
     "text": [
      "0.47\n"
     ]
    }
   ],
   "source": [
    "p_values_median = median(p_values)\n",
    "print(round(p_values_median, 2))"
   ]
  },
  {
   "cell_type": "markdown",
   "id": "c5e84ffc-e6f6-44c3-bac4-1fc47874a210",
   "metadata": {},
   "source": [
    "### H0 : L'âge n'a pas d'impact significatif sur la confiance"
   ]
  },
  {
   "cell_type": "code",
   "execution_count": 1187,
   "id": "8302b579-4cf3-42ce-8f8b-f38e89a4f37c",
   "metadata": {},
   "outputs": [],
   "source": [
    "p_values, associated_variables = calculus_chi_square(df, [\"misc_age_category\"], trust_columns)"
   ]
  },
  {
   "cell_type": "code",
   "execution_count": 161,
   "id": "e44f8dc0-9059-4ad0-b0ac-5f236eec3ca9",
   "metadata": {},
   "outputs": [
    {
     "name": "stdout",
     "output_type": "stream",
     "text": [
      "Tableau de contingence ('misc_age_category', 'easiness_generative_AI'): p-value = 0.01\n",
      "Tableau de contingence ('misc_age_category', 'easiness_search_engine'): p-value = 0.47\n",
      "Tableau de contingence ('misc_age_category', 'easiness_navigation'): p-value = 0.72\n",
      "Tableau de contingence ('misc_age_category', 'easiness_business_sciences'): p-value = 0.47\n"
     ]
    }
   ],
   "source": [
    "for i, p in enumerate(p_values):\n",
    "    print(f'Tableau de contingence {associated_variables[i]}: p-value = {round(p, 2)}')"
   ]
  },
  {
   "cell_type": "code",
   "execution_count": 163,
   "id": "c2aa3831-b6d2-459f-9a6b-5f44622b74ed",
   "metadata": {},
   "outputs": [
    {
     "name": "stdout",
     "output_type": "stream",
     "text": [
      "0.47\n"
     ]
    }
   ],
   "source": [
    "_values_median = median(p_values)\n",
    "print(round(p_values_median, 2))"
   ]
  },
  {
   "cell_type": "markdown",
   "id": "a2223129-6bd0-4743-8825-8c2be9a031e7",
   "metadata": {},
   "source": [
    "### H0 : L'âge n'a pas d'impact significatif sur l'acceptation"
   ]
  },
  {
   "cell_type": "code",
   "execution_count": 164,
   "id": "03a582a3-294c-4633-a779-5d715c948b63",
   "metadata": {},
   "outputs": [],
   "source": [
    "p_values, associated_variables = calculus_chi_square(df, [\"misc_age_category\"], acceptance_columns)"
   ]
  },
  {
   "cell_type": "code",
   "execution_count": 165,
   "id": "2f328409-4d19-4899-a7c7-a3aff7530bff",
   "metadata": {},
   "outputs": [
    {
     "name": "stdout",
     "output_type": "stream",
     "text": [
      "Tableau de contingence ('misc_age_category', 'acceptance_sorting_resumes'): p-value = 0.59\n",
      "Tableau de contingence ('misc_age_category', 'acceptance_selection_tests'): p-value = 0.11\n",
      "Tableau de contingence ('misc_age_category', 'acceptance_interviews'): p-value = 0.76\n",
      "Tableau de contingence ('misc_age_category', 'acceptance_negotiation'): p-value = 0.45\n",
      "Tableau de contingence ('misc_age_category', 'acceptance_wages_package'): p-value = 0.66\n",
      "Tableau de contingence ('misc_age_category', 'acceptance_contract'): p-value = 0.58\n"
     ]
    }
   ],
   "source": [
    "for i, p in enumerate(p_values):\n",
    "    print(f'Tableau de contingence {associated_variables[i]}: p-value = {round(p, 2)}')"
   ]
  },
  {
   "cell_type": "code",
   "execution_count": 166,
   "id": "3635cc12-5237-4037-832d-b6595b3c3e17",
   "metadata": {},
   "outputs": [
    {
     "name": "stdout",
     "output_type": "stream",
     "text": [
      "0.59\n"
     ]
    }
   ],
   "source": [
    "p_values_median = median(p_values)\n",
    "print(round(p_values_median, 2))"
   ]
  },
  {
   "cell_type": "code",
   "execution_count": null,
   "id": "1fe7034d-da5c-41ba-adf0-4f1ba4847e40",
   "metadata": {},
   "outputs": [],
   "source": []
  }
 ],
 "metadata": {
  "kernelspec": {
   "display_name": "Python 3 (ipykernel)",
   "language": "python",
   "name": "python3"
  },
  "language_info": {
   "codemirror_mode": {
    "name": "ipython",
    "version": 3
   },
   "file_extension": ".py",
   "mimetype": "text/x-python",
   "name": "python",
   "nbconvert_exporter": "python",
   "pygments_lexer": "ipython3",
   "version": "3.10.9"
  }
 },
 "nbformat": 4,
 "nbformat_minor": 5
}
